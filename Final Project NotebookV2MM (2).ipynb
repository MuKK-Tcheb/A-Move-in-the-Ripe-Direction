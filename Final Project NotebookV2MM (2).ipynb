{
 "cells": [
  {
   "cell_type": "code",
   "execution_count": 401,
   "id": "4911b52a-f496-472a-8619-19870c55476d",
   "metadata": {
    "tags": []
   },
   "outputs": [],
   "source": [
    "import pandas as pd\n",
    "import numpy as np\n",
    "import matplotlib.pyplot as plt\n",
    "import seaborn as sns\n",
    "from scipy.stats import bartlett, f_oneway\n",
    "from statsmodels.stats.multicomp import pairwise_tukeyhsd, MultiComparison\n",
    "from scipy.stats import chi2_contingency\n",
    "\n",
    " \n",
    "\n",
    "import warnings\n",
    "warnings.filterwarnings(\"ignore\")"
   ]
  },
  {
   "cell_type": "code",
   "execution_count": 48,
   "id": "ec8a5f99-806d-4125-b30f-8546f3de775c",
   "metadata": {
    "tags": []
   },
   "outputs": [],
   "source": [
    "#pip install pandas_profiling\n"
   ]
  },
  {
   "cell_type": "code",
   "execution_count": 49,
   "id": "69194744-9e1d-4638-b723-92ed421dc76f",
   "metadata": {},
   "outputs": [
    {
     "data": {
      "text/html": [
       "<div>\n",
       "<style scoped>\n",
       "    .dataframe tbody tr th:only-of-type {\n",
       "        vertical-align: middle;\n",
       "    }\n",
       "\n",
       "    .dataframe tbody tr th {\n",
       "        vertical-align: top;\n",
       "    }\n",
       "\n",
       "    .dataframe thead th {\n",
       "        text-align: right;\n",
       "    }\n",
       "</style>\n",
       "<table border=\"1\" class=\"dataframe\">\n",
       "  <thead>\n",
       "    <tr style=\"text-align: right;\">\n",
       "      <th></th>\n",
       "      <th>Unnamed: 0</th>\n",
       "      <th>Date</th>\n",
       "      <th>AveragePrice</th>\n",
       "      <th>Total Volume</th>\n",
       "      <th>4046</th>\n",
       "      <th>4225</th>\n",
       "      <th>4770</th>\n",
       "      <th>Total Bags</th>\n",
       "      <th>Small Bags</th>\n",
       "      <th>Large Bags</th>\n",
       "      <th>XLarge Bags</th>\n",
       "      <th>type</th>\n",
       "      <th>year</th>\n",
       "      <th>region</th>\n",
       "    </tr>\n",
       "  </thead>\n",
       "  <tbody>\n",
       "    <tr>\n",
       "      <th>0</th>\n",
       "      <td>0</td>\n",
       "      <td>12/27/2015</td>\n",
       "      <td>1.33</td>\n",
       "      <td>64236.62</td>\n",
       "      <td>1036.74</td>\n",
       "      <td>54454.85</td>\n",
       "      <td>48.16</td>\n",
       "      <td>8696.87</td>\n",
       "      <td>8603.62</td>\n",
       "      <td>93.25</td>\n",
       "      <td>0.0</td>\n",
       "      <td>conventional</td>\n",
       "      <td>2015</td>\n",
       "      <td>Albany</td>\n",
       "    </tr>\n",
       "    <tr>\n",
       "      <th>1</th>\n",
       "      <td>1</td>\n",
       "      <td>12/20/2015</td>\n",
       "      <td>1.35</td>\n",
       "      <td>54876.98</td>\n",
       "      <td>674.28</td>\n",
       "      <td>44638.81</td>\n",
       "      <td>58.33</td>\n",
       "      <td>9505.56</td>\n",
       "      <td>9408.07</td>\n",
       "      <td>97.49</td>\n",
       "      <td>0.0</td>\n",
       "      <td>conventional</td>\n",
       "      <td>2015</td>\n",
       "      <td>Albany</td>\n",
       "    </tr>\n",
       "    <tr>\n",
       "      <th>2</th>\n",
       "      <td>2</td>\n",
       "      <td>12/13/2015</td>\n",
       "      <td>0.93</td>\n",
       "      <td>118220.22</td>\n",
       "      <td>794.70</td>\n",
       "      <td>109149.67</td>\n",
       "      <td>130.50</td>\n",
       "      <td>8145.35</td>\n",
       "      <td>8042.21</td>\n",
       "      <td>103.14</td>\n",
       "      <td>0.0</td>\n",
       "      <td>conventional</td>\n",
       "      <td>2015</td>\n",
       "      <td>Albany</td>\n",
       "    </tr>\n",
       "    <tr>\n",
       "      <th>3</th>\n",
       "      <td>3</td>\n",
       "      <td>12/6/2015</td>\n",
       "      <td>1.08</td>\n",
       "      <td>78992.15</td>\n",
       "      <td>1132.00</td>\n",
       "      <td>71976.41</td>\n",
       "      <td>72.58</td>\n",
       "      <td>5811.16</td>\n",
       "      <td>5677.40</td>\n",
       "      <td>133.76</td>\n",
       "      <td>0.0</td>\n",
       "      <td>conventional</td>\n",
       "      <td>2015</td>\n",
       "      <td>Albany</td>\n",
       "    </tr>\n",
       "    <tr>\n",
       "      <th>4</th>\n",
       "      <td>4</td>\n",
       "      <td>11/29/2015</td>\n",
       "      <td>1.28</td>\n",
       "      <td>51039.60</td>\n",
       "      <td>941.48</td>\n",
       "      <td>43838.39</td>\n",
       "      <td>75.78</td>\n",
       "      <td>6183.95</td>\n",
       "      <td>5986.26</td>\n",
       "      <td>197.69</td>\n",
       "      <td>0.0</td>\n",
       "      <td>conventional</td>\n",
       "      <td>2015</td>\n",
       "      <td>Albany</td>\n",
       "    </tr>\n",
       "  </tbody>\n",
       "</table>\n",
       "</div>"
      ],
      "text/plain": [
       "   Unnamed: 0        Date  AveragePrice  Total Volume     4046       4225  \\\n",
       "0           0  12/27/2015          1.33      64236.62  1036.74   54454.85   \n",
       "1           1  12/20/2015          1.35      54876.98   674.28   44638.81   \n",
       "2           2  12/13/2015          0.93     118220.22   794.70  109149.67   \n",
       "3           3   12/6/2015          1.08      78992.15  1132.00   71976.41   \n",
       "4           4  11/29/2015          1.28      51039.60   941.48   43838.39   \n",
       "\n",
       "     4770  Total Bags  Small Bags  Large Bags  XLarge Bags          type  \\\n",
       "0   48.16     8696.87     8603.62       93.25          0.0  conventional   \n",
       "1   58.33     9505.56     9408.07       97.49          0.0  conventional   \n",
       "2  130.50     8145.35     8042.21      103.14          0.0  conventional   \n",
       "3   72.58     5811.16     5677.40      133.76          0.0  conventional   \n",
       "4   75.78     6183.95     5986.26      197.69          0.0  conventional   \n",
       "\n",
       "   year  region  \n",
       "0  2015  Albany  \n",
       "1  2015  Albany  \n",
       "2  2015  Albany  \n",
       "3  2015  Albany  \n",
       "4  2015  Albany  "
      ]
     },
     "execution_count": 49,
     "metadata": {},
     "output_type": "execute_result"
    }
   ],
   "source": [
    "avocado = pd.read_csv('https://raw.githubusercontent.com/woz-u/DS-Student-Resources/main/DS105-Intermediate-Statistics/Data/avocados.csv')\n",
    "avocado.head()"
   ]
  },
  {
   "cell_type": "markdown",
   "id": "651c280e-5c95-4d2b-9cef-0f0205d022f7",
   "metadata": {},
   "source": [
    "## Step One\n",
    "---\n",
    "\n",
    "#### Read in your data"
   ]
  },
  {
   "cell_type": "code",
   "execution_count": 50,
   "id": "adf54361",
   "metadata": {},
   "outputs": [
    {
     "data": {
      "text/html": [
       "<div>\n",
       "<style scoped>\n",
       "    .dataframe tbody tr th:only-of-type {\n",
       "        vertical-align: middle;\n",
       "    }\n",
       "\n",
       "    .dataframe tbody tr th {\n",
       "        vertical-align: top;\n",
       "    }\n",
       "\n",
       "    .dataframe thead th {\n",
       "        text-align: right;\n",
       "    }\n",
       "</style>\n",
       "<table border=\"1\" class=\"dataframe\">\n",
       "  <thead>\n",
       "    <tr style=\"text-align: right;\">\n",
       "      <th></th>\n",
       "      <th>Unnamed: 0</th>\n",
       "      <th>Date</th>\n",
       "      <th>AveragePrice</th>\n",
       "      <th>Total Volume</th>\n",
       "      <th>4046</th>\n",
       "      <th>4225</th>\n",
       "      <th>4770</th>\n",
       "      <th>Total Bags</th>\n",
       "      <th>Small Bags</th>\n",
       "      <th>Large Bags</th>\n",
       "      <th>XLarge Bags</th>\n",
       "      <th>type</th>\n",
       "      <th>year</th>\n",
       "      <th>region</th>\n",
       "    </tr>\n",
       "  </thead>\n",
       "  <tbody>\n",
       "    <tr>\n",
       "      <th>0</th>\n",
       "      <td>0</td>\n",
       "      <td>12/27/2015</td>\n",
       "      <td>1.33</td>\n",
       "      <td>64236.62</td>\n",
       "      <td>1036.74</td>\n",
       "      <td>54454.85</td>\n",
       "      <td>48.16</td>\n",
       "      <td>8696.87</td>\n",
       "      <td>8603.62</td>\n",
       "      <td>93.25</td>\n",
       "      <td>0.0</td>\n",
       "      <td>conventional</td>\n",
       "      <td>2015</td>\n",
       "      <td>Albany</td>\n",
       "    </tr>\n",
       "    <tr>\n",
       "      <th>1</th>\n",
       "      <td>1</td>\n",
       "      <td>12/20/2015</td>\n",
       "      <td>1.35</td>\n",
       "      <td>54876.98</td>\n",
       "      <td>674.28</td>\n",
       "      <td>44638.81</td>\n",
       "      <td>58.33</td>\n",
       "      <td>9505.56</td>\n",
       "      <td>9408.07</td>\n",
       "      <td>97.49</td>\n",
       "      <td>0.0</td>\n",
       "      <td>conventional</td>\n",
       "      <td>2015</td>\n",
       "      <td>Albany</td>\n",
       "    </tr>\n",
       "    <tr>\n",
       "      <th>2</th>\n",
       "      <td>2</td>\n",
       "      <td>12/13/2015</td>\n",
       "      <td>0.93</td>\n",
       "      <td>118220.22</td>\n",
       "      <td>794.70</td>\n",
       "      <td>109149.67</td>\n",
       "      <td>130.50</td>\n",
       "      <td>8145.35</td>\n",
       "      <td>8042.21</td>\n",
       "      <td>103.14</td>\n",
       "      <td>0.0</td>\n",
       "      <td>conventional</td>\n",
       "      <td>2015</td>\n",
       "      <td>Albany</td>\n",
       "    </tr>\n",
       "    <tr>\n",
       "      <th>3</th>\n",
       "      <td>3</td>\n",
       "      <td>12/6/2015</td>\n",
       "      <td>1.08</td>\n",
       "      <td>78992.15</td>\n",
       "      <td>1132.00</td>\n",
       "      <td>71976.41</td>\n",
       "      <td>72.58</td>\n",
       "      <td>5811.16</td>\n",
       "      <td>5677.40</td>\n",
       "      <td>133.76</td>\n",
       "      <td>0.0</td>\n",
       "      <td>conventional</td>\n",
       "      <td>2015</td>\n",
       "      <td>Albany</td>\n",
       "    </tr>\n",
       "    <tr>\n",
       "      <th>4</th>\n",
       "      <td>4</td>\n",
       "      <td>11/29/2015</td>\n",
       "      <td>1.28</td>\n",
       "      <td>51039.60</td>\n",
       "      <td>941.48</td>\n",
       "      <td>43838.39</td>\n",
       "      <td>75.78</td>\n",
       "      <td>6183.95</td>\n",
       "      <td>5986.26</td>\n",
       "      <td>197.69</td>\n",
       "      <td>0.0</td>\n",
       "      <td>conventional</td>\n",
       "      <td>2015</td>\n",
       "      <td>Albany</td>\n",
       "    </tr>\n",
       "  </tbody>\n",
       "</table>\n",
       "</div>"
      ],
      "text/plain": [
       "   Unnamed: 0        Date  AveragePrice  Total Volume     4046       4225  \\\n",
       "0           0  12/27/2015          1.33      64236.62  1036.74   54454.85   \n",
       "1           1  12/20/2015          1.35      54876.98   674.28   44638.81   \n",
       "2           2  12/13/2015          0.93     118220.22   794.70  109149.67   \n",
       "3           3   12/6/2015          1.08      78992.15  1132.00   71976.41   \n",
       "4           4  11/29/2015          1.28      51039.60   941.48   43838.39   \n",
       "\n",
       "     4770  Total Bags  Small Bags  Large Bags  XLarge Bags          type  \\\n",
       "0   48.16     8696.87     8603.62       93.25          0.0  conventional   \n",
       "1   58.33     9505.56     9408.07       97.49          0.0  conventional   \n",
       "2  130.50     8145.35     8042.21      103.14          0.0  conventional   \n",
       "3   72.58     5811.16     5677.40      133.76          0.0  conventional   \n",
       "4   75.78     6183.95     5986.26      197.69          0.0  conventional   \n",
       "\n",
       "   year  region  \n",
       "0  2015  Albany  \n",
       "1  2015  Albany  \n",
       "2  2015  Albany  \n",
       "3  2015  Albany  \n",
       "4  2015  Albany  "
      ]
     },
     "execution_count": 50,
     "metadata": {},
     "output_type": "execute_result"
    }
   ],
   "source": [
    "### start code\n",
    "avocado = pd.read_csv('https://raw.githubusercontent.com/woz-u/DS-Student-Resources/main/DS105-Intermediate-Statistics/Data/avocados.csv')\n",
    "avocado.head()"
   ]
  },
  {
   "cell_type": "code",
   "execution_count": 51,
   "id": "75904fc7-3d4a-475f-9ab7-07326c468c91",
   "metadata": {
    "tags": []
   },
   "outputs": [
    {
     "data": {
      "text/html": [
       "<div>\n",
       "<style scoped>\n",
       "    .dataframe tbody tr th:only-of-type {\n",
       "        vertical-align: middle;\n",
       "    }\n",
       "\n",
       "    .dataframe tbody tr th {\n",
       "        vertical-align: top;\n",
       "    }\n",
       "\n",
       "    .dataframe thead th {\n",
       "        text-align: right;\n",
       "    }\n",
       "</style>\n",
       "<table border=\"1\" class=\"dataframe\">\n",
       "  <thead>\n",
       "    <tr style=\"text-align: right;\">\n",
       "      <th></th>\n",
       "      <th>Date</th>\n",
       "      <th>AveragePrice</th>\n",
       "      <th>Total Volume</th>\n",
       "      <th>4046</th>\n",
       "      <th>4225</th>\n",
       "      <th>4770</th>\n",
       "      <th>Total Bags</th>\n",
       "      <th>Small Bags</th>\n",
       "      <th>Large Bags</th>\n",
       "      <th>XLarge Bags</th>\n",
       "      <th>type</th>\n",
       "      <th>year</th>\n",
       "      <th>region</th>\n",
       "    </tr>\n",
       "  </thead>\n",
       "  <tbody>\n",
       "    <tr>\n",
       "      <th>0</th>\n",
       "      <td>12/27/2015</td>\n",
       "      <td>1.33</td>\n",
       "      <td>64236.62</td>\n",
       "      <td>1036.74</td>\n",
       "      <td>54454.85</td>\n",
       "      <td>48.16</td>\n",
       "      <td>8696.87</td>\n",
       "      <td>8603.62</td>\n",
       "      <td>93.25</td>\n",
       "      <td>0.0</td>\n",
       "      <td>conventional</td>\n",
       "      <td>2015</td>\n",
       "      <td>Albany</td>\n",
       "    </tr>\n",
       "    <tr>\n",
       "      <th>1</th>\n",
       "      <td>12/20/2015</td>\n",
       "      <td>1.35</td>\n",
       "      <td>54876.98</td>\n",
       "      <td>674.28</td>\n",
       "      <td>44638.81</td>\n",
       "      <td>58.33</td>\n",
       "      <td>9505.56</td>\n",
       "      <td>9408.07</td>\n",
       "      <td>97.49</td>\n",
       "      <td>0.0</td>\n",
       "      <td>conventional</td>\n",
       "      <td>2015</td>\n",
       "      <td>Albany</td>\n",
       "    </tr>\n",
       "    <tr>\n",
       "      <th>2</th>\n",
       "      <td>12/13/2015</td>\n",
       "      <td>0.93</td>\n",
       "      <td>118220.22</td>\n",
       "      <td>794.70</td>\n",
       "      <td>109149.67</td>\n",
       "      <td>130.50</td>\n",
       "      <td>8145.35</td>\n",
       "      <td>8042.21</td>\n",
       "      <td>103.14</td>\n",
       "      <td>0.0</td>\n",
       "      <td>conventional</td>\n",
       "      <td>2015</td>\n",
       "      <td>Albany</td>\n",
       "    </tr>\n",
       "    <tr>\n",
       "      <th>3</th>\n",
       "      <td>12/6/2015</td>\n",
       "      <td>1.08</td>\n",
       "      <td>78992.15</td>\n",
       "      <td>1132.00</td>\n",
       "      <td>71976.41</td>\n",
       "      <td>72.58</td>\n",
       "      <td>5811.16</td>\n",
       "      <td>5677.40</td>\n",
       "      <td>133.76</td>\n",
       "      <td>0.0</td>\n",
       "      <td>conventional</td>\n",
       "      <td>2015</td>\n",
       "      <td>Albany</td>\n",
       "    </tr>\n",
       "    <tr>\n",
       "      <th>4</th>\n",
       "      <td>11/29/2015</td>\n",
       "      <td>1.28</td>\n",
       "      <td>51039.60</td>\n",
       "      <td>941.48</td>\n",
       "      <td>43838.39</td>\n",
       "      <td>75.78</td>\n",
       "      <td>6183.95</td>\n",
       "      <td>5986.26</td>\n",
       "      <td>197.69</td>\n",
       "      <td>0.0</td>\n",
       "      <td>conventional</td>\n",
       "      <td>2015</td>\n",
       "      <td>Albany</td>\n",
       "    </tr>\n",
       "  </tbody>\n",
       "</table>\n",
       "</div>"
      ],
      "text/plain": [
       "         Date  AveragePrice  Total Volume     4046       4225    4770  \\\n",
       "0  12/27/2015          1.33      64236.62  1036.74   54454.85   48.16   \n",
       "1  12/20/2015          1.35      54876.98   674.28   44638.81   58.33   \n",
       "2  12/13/2015          0.93     118220.22   794.70  109149.67  130.50   \n",
       "3   12/6/2015          1.08      78992.15  1132.00   71976.41   72.58   \n",
       "4  11/29/2015          1.28      51039.60   941.48   43838.39   75.78   \n",
       "\n",
       "   Total Bags  Small Bags  Large Bags  XLarge Bags          type  year  region  \n",
       "0     8696.87     8603.62       93.25          0.0  conventional  2015  Albany  \n",
       "1     9505.56     9408.07       97.49          0.0  conventional  2015  Albany  \n",
       "2     8145.35     8042.21      103.14          0.0  conventional  2015  Albany  \n",
       "3     5811.16     5677.40      133.76          0.0  conventional  2015  Albany  \n",
       "4     6183.95     5986.26      197.69          0.0  conventional  2015  Albany  "
      ]
     },
     "execution_count": 51,
     "metadata": {},
     "output_type": "execute_result"
    }
   ],
   "source": [
    "### start code\n",
    "avocado = pd.read_csv('https://raw.githubusercontent.com/woz-u/DS-Student-Resources/main/DS105-Intermediate-Statistics/Data/avocados.csv')\n",
    "avocado = avocado.iloc[:,1:]\n",
    "avocado.head()\n",
    "### end code"
   ]
  },
  {
   "cell_type": "markdown",
   "id": "68203177-29ef-4bd9-9cfc-0d1d6878ae0c",
   "metadata": {},
   "source": [
    "### Exploratory Data Analysis in 1 step"
   ]
  },
  {
   "cell_type": "code",
   "execution_count": 52,
   "id": "e7afd12a-572b-491e-b4bb-73d1549008cc",
   "metadata": {},
   "outputs": [
    {
     "ename": "SyntaxError",
     "evalue": "invalid syntax (3498569370.py, line 8)",
     "output_type": "error",
     "traceback": [
      "\u001b[1;36m  Cell \u001b[1;32mIn[52], line 8\u001b[1;36m\u001b[0m\n\u001b[1;33m    ```Overview: This section provides basic information about the DataFrame,\u001b[0m\n\u001b[1;37m    ^\u001b[0m\n\u001b[1;31mSyntaxError\u001b[0m\u001b[1;31m:\u001b[0m invalid syntax\n"
     ]
    }
   ],
   "source": [
    "profile = ProfileReport(avocado)\n",
    "#profile allows you to see the report in the notebook.\n",
    "#profile.to_file(output_file='/path/to/my_report.html')\n",
    "profile.to_file(output_file=\"C:/Users/marga/Documents/WozU/Instructor/Entity Accelerated FP/my_report.html\")\n",
    "\n",
    "#profile.to_file(output_file='mydata_report.html') sends the report to same file you're in. \n",
    "\n",
    "```Overview: This section provides basic information about the DataFrame, \n",
    "such as the number of rows and columns, the variable types, and the \n",
    "memory usage.\n",
    "\n",
    "Variables: This section provides detailed information about each variable \n",
    "in the DataFrame, including the number of missing values, the data type,\n",
    "the distinct values, and basic descriptive statistics such as mean, \n",
    "standard deviation, and quartiles.\n",
    "\n",
    "Correlations: This section provides information about the pairwise \n",
    "correlations between the variables in the DataFrame, including a \n",
    "correlation matrix and a heatmap visualization.\n",
    "\n",
    "Sample: This section shows a sample of the data in the DataFrame, \n",
    "allowing you to inspect individual rows and columns.\n",
    "\n",
    "Missing Values: This section provides information about the missing \n",
    "values in the DataFrame, including the number and percentage of missing \n",
    "values in each variable, and a visualization of the missing data pattern.\n",
    "\n",
    "Duplicate Rows: This section provides information about the presence \n",
    "of duplicate rows in the DataFrame, including the number of duplicate \n",
    "rows and a preview of the duplicated rows.\n",
    "\n",
    "Overall, the pandas-profiling report is a useful tool for quickly \n",
    "gaining insights into the structure and content of a pandas DataFrame, \n",
    "identifying potential data quality issues, and generating a detailed \n",
    "summary of the data that can be used for further analysis or reporting.\n",
    "```"
   ]
  },
  {
   "cell_type": "markdown",
   "id": "eff5380f-ca58-4d64-be71-2b84e1149297",
   "metadata": {},
   "source": [
    "## Step Two - Exploratory Data Analysis\n",
    "---\n",
    "#### Check number of rows and columns"
   ]
  },
  {
   "cell_type": "code",
   "execution_count": 53,
   "id": "50e70a3e",
   "metadata": {},
   "outputs": [
    {
     "data": {
      "text/plain": [
       "(18249, 13)"
      ]
     },
     "execution_count": 53,
     "metadata": {},
     "output_type": "execute_result"
    }
   ],
   "source": [
    "avocado.shape"
   ]
  },
  {
   "cell_type": "code",
   "execution_count": 54,
   "id": "eaa07388-4f3c-46ff-bf4a-146e77a32881",
   "metadata": {
    "tags": []
   },
   "outputs": [
    {
     "name": "stdout",
     "output_type": "stream",
     "text": [
      "Rows: 18249\n",
      "Columns: 13\n"
     ]
    }
   ],
   "source": [
    "print(f'Rows: {avocado.shape[0]}')\n",
    "print(f'Columns: {avocado.shape[1]}')"
   ]
  },
  {
   "cell_type": "markdown",
   "id": "ca8e6995-a629-4651-9aa7-80a06a1e044f",
   "metadata": {},
   "source": [
    "## Step Three\n",
    "---"
   ]
  },
  {
   "cell_type": "code",
   "execution_count": 55,
   "id": "52cbaab9-59c0-4aa6-b12c-686033f6890f",
   "metadata": {
    "tags": []
   },
   "outputs": [
    {
     "data": {
      "text/plain": [
       "array(['conventional', 'organic'], dtype=object)"
      ]
     },
     "execution_count": 55,
     "metadata": {},
     "output_type": "execute_result"
    }
   ],
   "source": [
    "#print unique values for type column\n",
    "avocado.type.unique()"
   ]
  },
  {
   "cell_type": "code",
   "execution_count": 56,
   "id": "5d832f71",
   "metadata": {},
   "outputs": [
    {
     "data": {
      "text/plain": [
       "conventional    9126\n",
       "organic         9123\n",
       "Name: type, dtype: int64"
      ]
     },
     "execution_count": 56,
     "metadata": {},
     "output_type": "execute_result"
    }
   ],
   "source": [
    "avocado.type.value_counts()"
   ]
  },
  {
   "cell_type": "code",
   "execution_count": 57,
   "id": "7926fc17",
   "metadata": {},
   "outputs": [
    {
     "data": {
      "text/plain": [
       "Albany                 338\n",
       "Sacramento             338\n",
       "Northeast              338\n",
       "NorthernNewEngland     338\n",
       "Orlando                338\n",
       "Philadelphia           338\n",
       "PhoenixTucson          338\n",
       "Pittsburgh             338\n",
       "Plains                 338\n",
       "Portland               338\n",
       "RaleighGreensboro      338\n",
       "RichmondNorfolk        338\n",
       "Roanoke                338\n",
       "SanDiego               338\n",
       "Atlanta                338\n",
       "SanFrancisco           338\n",
       "Seattle                338\n",
       "SouthCarolina          338\n",
       "SouthCentral           338\n",
       "Southeast              338\n",
       "Spokane                338\n",
       "StLouis                338\n",
       "Syracuse               338\n",
       "Tampa                  338\n",
       "TotalUS                338\n",
       "West                   338\n",
       "NewYork                338\n",
       "NewOrleansMobile       338\n",
       "Nashville              338\n",
       "Midsouth               338\n",
       "BaltimoreWashington    338\n",
       "Boise                  338\n",
       "Boston                 338\n",
       "BuffaloRochester       338\n",
       "California             338\n",
       "Charlotte              338\n",
       "Chicago                338\n",
       "CincinnatiDayton       338\n",
       "Columbus               338\n",
       "DallasFtWorth          338\n",
       "Denver                 338\n",
       "Detroit                338\n",
       "GrandRapids            338\n",
       "GreatLakes             338\n",
       "HarrisburgScranton     338\n",
       "HartfordSpringfield    338\n",
       "Houston                338\n",
       "Indianapolis           338\n",
       "Jacksonville           338\n",
       "LasVegas               338\n",
       "LosAngeles             338\n",
       "Louisville             338\n",
       "MiamiFtLauderdale      338\n",
       "WestTexNewMexico       335\n",
       "Name: region, dtype: int64"
      ]
     },
     "execution_count": 57,
     "metadata": {},
     "output_type": "execute_result"
    }
   ],
   "source": [
    "avocado.region.value_counts()"
   ]
  },
  {
   "cell_type": "code",
   "execution_count": 134,
   "id": "00764802-24e4-4b34-bef5-f59e7ba53086",
   "metadata": {},
   "outputs": [
    {
     "data": {
      "text/plain": [
       "array(['Albany', 'Atlanta', 'BaltimoreWashington', 'Boise', 'Boston',\n",
       "       'BuffaloRochester', 'California', 'Charlotte', 'Chicago',\n",
       "       'CincinnatiDayton', 'Columbus', 'DallasFtWorth', 'Denver',\n",
       "       'Detroit', 'GrandRapids', 'GreatLakes', 'HarrisburgScranton',\n",
       "       'HartfordSpringfield', 'Houston', 'Indianapolis', 'Jacksonville',\n",
       "       'LasVegas', 'LosAngeles', 'Louisville', 'MiamiFtLauderdale',\n",
       "       'Midsouth', 'Nashville', 'NewOrleansMobile', 'NewYork',\n",
       "       'Northeast', 'NorthernNewEngland', 'Orlando', 'Philadelphia',\n",
       "       'PhoenixTucson', 'Pittsburgh', 'Plains', 'Portland',\n",
       "       'RaleighGreensboro', 'RichmondNorfolk', 'Roanoke', 'Sacramento',\n",
       "       'SanDiego', 'SanFrancisco', 'Seattle', 'SouthCarolina',\n",
       "       'SouthCentral', 'Southeast', 'Spokane', 'StLouis', 'Syracuse',\n",
       "       'Tampa', 'TotalUS', 'West', 'WestTexNewMexico'], dtype=object)"
      ]
     },
     "execution_count": 134,
     "metadata": {},
     "output_type": "execute_result"
    }
   ],
   "source": [
    "#print unique values for region column\n",
    "avocado.region.unique()"
   ]
  },
  {
   "cell_type": "code",
   "execution_count": 135,
   "id": "6cecbda3-8103-495f-8a1a-e141f0dab0db",
   "metadata": {
    "tags": []
   },
   "outputs": [
    {
     "data": {
      "text/plain": [
       "count      18249\n",
       "unique        54\n",
       "top       Albany\n",
       "freq         338\n",
       "Name: region, dtype: object"
      ]
     },
     "execution_count": 135,
     "metadata": {},
     "output_type": "execute_result"
    }
   ],
   "source": [
    "avocado.region.describe()"
   ]
  },
  {
   "cell_type": "code",
   "execution_count": 178,
   "id": "84fb919a-db7c-48c0-8c57-869068329d7d",
   "metadata": {},
   "outputs": [
    {
     "data": {
      "text/plain": [
       "count    18249.000000\n",
       "mean         1.405978\n",
       "std          0.402677\n",
       "min          0.440000\n",
       "25%          1.100000\n",
       "50%          1.370000\n",
       "75%          1.660000\n",
       "max          3.250000\n",
       "Name: AveragePrice, dtype: float64"
      ]
     },
     "execution_count": 178,
     "metadata": {},
     "output_type": "execute_result"
    }
   ],
   "source": [
    "avocado.AveragePrice.describe()"
   ]
  },
  {
   "cell_type": "code",
   "execution_count": 179,
   "id": "af25dce7-91fc-4066-b5c5-04351e9d6411",
   "metadata": {},
   "outputs": [
    {
     "data": {
      "text/plain": [
       "count    1.824900e+04\n",
       "mean     8.506440e+05\n",
       "std      3.453545e+06\n",
       "min      8.456000e+01\n",
       "25%      1.083858e+04\n",
       "50%      1.073768e+05\n",
       "75%      4.329623e+05\n",
       "max      6.250565e+07\n",
       "Name: Total Volume, dtype: float64"
      ]
     },
     "execution_count": 179,
     "metadata": {},
     "output_type": "execute_result"
    }
   ],
   "source": [
    "avocado['Total Volume'].describe()"
   ]
  },
  {
   "cell_type": "code",
   "execution_count": 137,
   "id": "cd0c0f9e-6622-480c-8e31-23e68aed09f9",
   "metadata": {},
   "outputs": [
    {
     "name": "stdout",
     "output_type": "stream",
     "text": [
      "Index(['Date', 'AveragePrice', 'Total Volume', '4046', '4225', '4770',\n",
      "       'Total Bags', 'Small Bags', 'Large Bags', 'XLarge Bags', 'type', 'year',\n",
      "       'region'],\n",
      "      dtype='object')\n"
     ]
    }
   ],
   "source": [
    "print(avocado.columns)"
   ]
  },
  {
   "cell_type": "markdown",
   "id": "81917317-6feb-4e67-8eac-6053d6a186de",
   "metadata": {},
   "source": [
    "## Step Four (a)- Data Wrangling\n",
    "---\n",
    "#### Filter for 3 cities\n",
    "Focusing on the Three Categories\n",
    "The data has many more categories than three, so we will need to filter the dataset by the categories you want. The code below makes a list of the categories you want to keep, then searches through the Category column using the isin() function to keep only those that match.\n",
    "\n"
   ]
  },
  {
   "cell_type": "code",
   "execution_count": 139,
   "id": "b2bbaef1-17ed-4fb9-93fb-4820fa043c4a",
   "metadata": {
    "tags": []
   },
   "outputs": [
    {
     "data": {
      "text/html": [
       "<div>\n",
       "<style scoped>\n",
       "    .dataframe tbody tr th:only-of-type {\n",
       "        vertical-align: middle;\n",
       "    }\n",
       "\n",
       "    .dataframe tbody tr th {\n",
       "        vertical-align: top;\n",
       "    }\n",
       "\n",
       "    .dataframe thead th {\n",
       "        text-align: right;\n",
       "    }\n",
       "</style>\n",
       "<table border=\"1\" class=\"dataframe\">\n",
       "  <thead>\n",
       "    <tr style=\"text-align: right;\">\n",
       "      <th></th>\n",
       "      <th>Date</th>\n",
       "      <th>AveragePrice</th>\n",
       "      <th>Total Volume</th>\n",
       "      <th>4046</th>\n",
       "      <th>4225</th>\n",
       "      <th>4770</th>\n",
       "      <th>Total Bags</th>\n",
       "      <th>Small Bags</th>\n",
       "      <th>Large Bags</th>\n",
       "      <th>XLarge Bags</th>\n",
       "      <th>type</th>\n",
       "      <th>year</th>\n",
       "      <th>region</th>\n",
       "    </tr>\n",
       "  </thead>\n",
       "  <tbody>\n",
       "    <tr>\n",
       "      <th>52</th>\n",
       "      <td>12/27/2015</td>\n",
       "      <td>0.99</td>\n",
       "      <td>386100.49</td>\n",
       "      <td>292097.36</td>\n",
       "      <td>27350.92</td>\n",
       "      <td>297.90</td>\n",
       "      <td>66354.31</td>\n",
       "      <td>48605.95</td>\n",
       "      <td>17748.36</td>\n",
       "      <td>0.00</td>\n",
       "      <td>conventional</td>\n",
       "      <td>2015</td>\n",
       "      <td>Atlanta</td>\n",
       "    </tr>\n",
       "    <tr>\n",
       "      <th>53</th>\n",
       "      <td>12/20/2015</td>\n",
       "      <td>1.08</td>\n",
       "      <td>331377.53</td>\n",
       "      <td>251774.15</td>\n",
       "      <td>20702.45</td>\n",
       "      <td>103.06</td>\n",
       "      <td>58797.87</td>\n",
       "      <td>46930.26</td>\n",
       "      <td>11867.61</td>\n",
       "      <td>0.00</td>\n",
       "      <td>conventional</td>\n",
       "      <td>2015</td>\n",
       "      <td>Atlanta</td>\n",
       "    </tr>\n",
       "    <tr>\n",
       "      <th>54</th>\n",
       "      <td>12/13/2015</td>\n",
       "      <td>0.96</td>\n",
       "      <td>417772.47</td>\n",
       "      <td>324932.28</td>\n",
       "      <td>31019.08</td>\n",
       "      <td>275.80</td>\n",
       "      <td>61545.31</td>\n",
       "      <td>38903.57</td>\n",
       "      <td>22628.21</td>\n",
       "      <td>13.53</td>\n",
       "      <td>conventional</td>\n",
       "      <td>2015</td>\n",
       "      <td>Atlanta</td>\n",
       "    </tr>\n",
       "    <tr>\n",
       "      <th>55</th>\n",
       "      <td>12/6/2015</td>\n",
       "      <td>1.07</td>\n",
       "      <td>357636.82</td>\n",
       "      <td>283024.01</td>\n",
       "      <td>23740.85</td>\n",
       "      <td>181.92</td>\n",
       "      <td>50690.04</td>\n",
       "      <td>37032.67</td>\n",
       "      <td>13654.66</td>\n",
       "      <td>2.71</td>\n",
       "      <td>conventional</td>\n",
       "      <td>2015</td>\n",
       "      <td>Atlanta</td>\n",
       "    </tr>\n",
       "    <tr>\n",
       "      <th>56</th>\n",
       "      <td>11/29/2015</td>\n",
       "      <td>0.99</td>\n",
       "      <td>333280.79</td>\n",
       "      <td>250288.65</td>\n",
       "      <td>28889.63</td>\n",
       "      <td>307.83</td>\n",
       "      <td>53794.68</td>\n",
       "      <td>33031.72</td>\n",
       "      <td>20738.55</td>\n",
       "      <td>24.41</td>\n",
       "      <td>conventional</td>\n",
       "      <td>2015</td>\n",
       "      <td>Atlanta</td>\n",
       "    </tr>\n",
       "  </tbody>\n",
       "</table>\n",
       "</div>"
      ],
      "text/plain": [
       "          Date  AveragePrice  Total Volume       4046      4225    4770  \\\n",
       "52  12/27/2015          0.99     386100.49  292097.36  27350.92  297.90   \n",
       "53  12/20/2015          1.08     331377.53  251774.15  20702.45  103.06   \n",
       "54  12/13/2015          0.96     417772.47  324932.28  31019.08  275.80   \n",
       "55   12/6/2015          1.07     357636.82  283024.01  23740.85  181.92   \n",
       "56  11/29/2015          0.99     333280.79  250288.65  28889.63  307.83   \n",
       "\n",
       "    Total Bags  Small Bags  Large Bags  XLarge Bags          type  year  \\\n",
       "52    66354.31    48605.95    17748.36         0.00  conventional  2015   \n",
       "53    58797.87    46930.26    11867.61         0.00  conventional  2015   \n",
       "54    61545.31    38903.57    22628.21        13.53  conventional  2015   \n",
       "55    50690.04    37032.67    13654.66         2.71  conventional  2015   \n",
       "56    53794.68    33031.72    20738.55        24.41  conventional  2015   \n",
       "\n",
       "     region  \n",
       "52  Atlanta  \n",
       "53  Atlanta  \n",
       "54  Atlanta  \n",
       "55  Atlanta  \n",
       "56  Atlanta  "
      ]
     },
     "execution_count": 139,
     "metadata": {},
     "output_type": "execute_result"
    }
   ],
   "source": [
    "avocado_rand = avocado[avocado.region.isin(['Atlanta', 'Denver', 'MiamiFtLauderdale'])]\n",
    "avocado_rand.head()"
   ]
  },
  {
   "cell_type": "code",
   "execution_count": 140,
   "id": "d9db0bbd-4c12-4ae8-b816-63f056bb1c2b",
   "metadata": {},
   "outputs": [
    {
     "data": {
      "text/html": [
       "<div>\n",
       "<style scoped>\n",
       "    .dataframe tbody tr th:only-of-type {\n",
       "        vertical-align: middle;\n",
       "    }\n",
       "\n",
       "    .dataframe tbody tr th {\n",
       "        vertical-align: top;\n",
       "    }\n",
       "\n",
       "    .dataframe thead th {\n",
       "        text-align: right;\n",
       "    }\n",
       "</style>\n",
       "<table border=\"1\" class=\"dataframe\">\n",
       "  <thead>\n",
       "    <tr style=\"text-align: right;\">\n",
       "      <th></th>\n",
       "      <th>Date</th>\n",
       "      <th>AveragePrice</th>\n",
       "      <th>Total Volume</th>\n",
       "      <th>4046</th>\n",
       "      <th>4225</th>\n",
       "      <th>4770</th>\n",
       "      <th>Total Bags</th>\n",
       "      <th>Small Bags</th>\n",
       "      <th>Large Bags</th>\n",
       "      <th>XLarge Bags</th>\n",
       "      <th>type</th>\n",
       "      <th>year</th>\n",
       "      <th>region</th>\n",
       "    </tr>\n",
       "  </thead>\n",
       "  <tbody>\n",
       "    <tr>\n",
       "      <th>17896</th>\n",
       "      <td>2/4/2018</td>\n",
       "      <td>1.50</td>\n",
       "      <td>9193.30</td>\n",
       "      <td>261.74</td>\n",
       "      <td>589.27</td>\n",
       "      <td>0.0</td>\n",
       "      <td>8342.29</td>\n",
       "      <td>7622.22</td>\n",
       "      <td>720.07</td>\n",
       "      <td>0.0</td>\n",
       "      <td>organic</td>\n",
       "      <td>2018</td>\n",
       "      <td>MiamiFtLauderdale</td>\n",
       "    </tr>\n",
       "    <tr>\n",
       "      <th>17897</th>\n",
       "      <td>1/28/2018</td>\n",
       "      <td>1.43</td>\n",
       "      <td>7883.77</td>\n",
       "      <td>162.09</td>\n",
       "      <td>272.81</td>\n",
       "      <td>0.0</td>\n",
       "      <td>7448.87</td>\n",
       "      <td>7448.87</td>\n",
       "      <td>0.00</td>\n",
       "      <td>0.0</td>\n",
       "      <td>organic</td>\n",
       "      <td>2018</td>\n",
       "      <td>MiamiFtLauderdale</td>\n",
       "    </tr>\n",
       "    <tr>\n",
       "      <th>17898</th>\n",
       "      <td>1/21/2018</td>\n",
       "      <td>1.46</td>\n",
       "      <td>7557.32</td>\n",
       "      <td>127.92</td>\n",
       "      <td>285.41</td>\n",
       "      <td>0.0</td>\n",
       "      <td>7143.99</td>\n",
       "      <td>7143.99</td>\n",
       "      <td>0.00</td>\n",
       "      <td>0.0</td>\n",
       "      <td>organic</td>\n",
       "      <td>2018</td>\n",
       "      <td>MiamiFtLauderdale</td>\n",
       "    </tr>\n",
       "    <tr>\n",
       "      <th>17899</th>\n",
       "      <td>1/14/2018</td>\n",
       "      <td>1.44</td>\n",
       "      <td>7957.68</td>\n",
       "      <td>50.65</td>\n",
       "      <td>203.70</td>\n",
       "      <td>0.0</td>\n",
       "      <td>7703.33</td>\n",
       "      <td>7700.00</td>\n",
       "      <td>3.33</td>\n",
       "      <td>0.0</td>\n",
       "      <td>organic</td>\n",
       "      <td>2018</td>\n",
       "      <td>MiamiFtLauderdale</td>\n",
       "    </tr>\n",
       "    <tr>\n",
       "      <th>17900</th>\n",
       "      <td>1/7/2018</td>\n",
       "      <td>1.47</td>\n",
       "      <td>7496.04</td>\n",
       "      <td>52.94</td>\n",
       "      <td>293.77</td>\n",
       "      <td>0.0</td>\n",
       "      <td>7149.33</td>\n",
       "      <td>7135.99</td>\n",
       "      <td>13.34</td>\n",
       "      <td>0.0</td>\n",
       "      <td>organic</td>\n",
       "      <td>2018</td>\n",
       "      <td>MiamiFtLauderdale</td>\n",
       "    </tr>\n",
       "  </tbody>\n",
       "</table>\n",
       "</div>"
      ],
      "text/plain": [
       "            Date  AveragePrice  Total Volume    4046    4225  4770  \\\n",
       "17896   2/4/2018          1.50       9193.30  261.74  589.27   0.0   \n",
       "17897  1/28/2018          1.43       7883.77  162.09  272.81   0.0   \n",
       "17898  1/21/2018          1.46       7557.32  127.92  285.41   0.0   \n",
       "17899  1/14/2018          1.44       7957.68   50.65  203.70   0.0   \n",
       "17900   1/7/2018          1.47       7496.04   52.94  293.77   0.0   \n",
       "\n",
       "       Total Bags  Small Bags  Large Bags  XLarge Bags     type  year  \\\n",
       "17896     8342.29     7622.22      720.07          0.0  organic  2018   \n",
       "17897     7448.87     7448.87        0.00          0.0  organic  2018   \n",
       "17898     7143.99     7143.99        0.00          0.0  organic  2018   \n",
       "17899     7703.33     7700.00        3.33          0.0  organic  2018   \n",
       "17900     7149.33     7135.99       13.34          0.0  organic  2018   \n",
       "\n",
       "                  region  \n",
       "17896  MiamiFtLauderdale  \n",
       "17897  MiamiFtLauderdale  \n",
       "17898  MiamiFtLauderdale  \n",
       "17899  MiamiFtLauderdale  \n",
       "17900  MiamiFtLauderdale  "
      ]
     },
     "execution_count": 140,
     "metadata": {},
     "output_type": "execute_result"
    }
   ],
   "source": [
    "avocado_rand.tail()"
   ]
  },
  {
   "cell_type": "code",
   "execution_count": 141,
   "id": "ebd5a0ab-4496-4ac0-8449-8876afce1ad9",
   "metadata": {},
   "outputs": [
    {
     "data": {
      "text/plain": [
       "count        1014\n",
       "unique          3\n",
       "top       Atlanta\n",
       "freq          338\n",
       "Name: region, dtype: object"
      ]
     },
     "execution_count": 141,
     "metadata": {},
     "output_type": "execute_result"
    }
   ],
   "source": [
    "avocado_rand.region.describe()"
   ]
  },
  {
   "cell_type": "code",
   "execution_count": 142,
   "id": "17bfbf39-b3af-4ac5-8b4b-cbb0aca83d7a",
   "metadata": {},
   "outputs": [
    {
     "data": {
      "text/plain": [
       "Atlanta              338\n",
       "Denver               338\n",
       "MiamiFtLauderdale    338\n",
       "Name: region, dtype: int64"
      ]
     },
     "execution_count": 142,
     "metadata": {},
     "output_type": "execute_result"
    }
   ],
   "source": [
    "avocado_rand.region.value_counts()"
   ]
  },
  {
   "cell_type": "markdown",
   "id": "b924da75-5d7a-4a5b-8d33-e9791b0bc7e3",
   "metadata": {},
   "source": [
    "## Step Five (a) - Data Wrangling\n",
    "---\n",
    "#### recode 'type' and 'region' columns"
   ]
  },
  {
   "cell_type": "code",
   "execution_count": 143,
   "id": "e875acba-eb8f-414d-9293-e4a1fe247989",
   "metadata": {
    "tags": []
   },
   "outputs": [],
   "source": [
    "def recode(series):\n",
    "    if series == 'conventional':\n",
    "        return 0\n",
    "    if series == 'organic':\n",
    "        return 1\n",
    "    \n",
    "avocado_rand['typeR'] = avocado_rand['type'].apply(recode)"
   ]
  },
  {
   "cell_type": "code",
   "execution_count": null,
   "id": "1467269a-e9e8-44ed-b0d9-34c5bd490a8d",
   "metadata": {},
   "outputs": [],
   "source": []
  },
  {
   "cell_type": "code",
   "execution_count": 144,
   "id": "5a095d65-35c8-470c-b9db-2a9e74fe7c80",
   "metadata": {},
   "outputs": [
    {
     "data": {
      "text/html": [
       "<div>\n",
       "<style scoped>\n",
       "    .dataframe tbody tr th:only-of-type {\n",
       "        vertical-align: middle;\n",
       "    }\n",
       "\n",
       "    .dataframe tbody tr th {\n",
       "        vertical-align: top;\n",
       "    }\n",
       "\n",
       "    .dataframe thead th {\n",
       "        text-align: right;\n",
       "    }\n",
       "</style>\n",
       "<table border=\"1\" class=\"dataframe\">\n",
       "  <thead>\n",
       "    <tr style=\"text-align: right;\">\n",
       "      <th></th>\n",
       "      <th>Date</th>\n",
       "      <th>AveragePrice</th>\n",
       "      <th>Total Volume</th>\n",
       "      <th>4046</th>\n",
       "      <th>4225</th>\n",
       "      <th>4770</th>\n",
       "      <th>Total Bags</th>\n",
       "      <th>Small Bags</th>\n",
       "      <th>Large Bags</th>\n",
       "      <th>XLarge Bags</th>\n",
       "      <th>type</th>\n",
       "      <th>year</th>\n",
       "      <th>region</th>\n",
       "      <th>typeR</th>\n",
       "    </tr>\n",
       "  </thead>\n",
       "  <tbody>\n",
       "    <tr>\n",
       "      <th>52</th>\n",
       "      <td>12/27/2015</td>\n",
       "      <td>0.99</td>\n",
       "      <td>386100.49</td>\n",
       "      <td>292097.36</td>\n",
       "      <td>27350.92</td>\n",
       "      <td>297.90</td>\n",
       "      <td>66354.31</td>\n",
       "      <td>48605.95</td>\n",
       "      <td>17748.36</td>\n",
       "      <td>0.00</td>\n",
       "      <td>conventional</td>\n",
       "      <td>2015</td>\n",
       "      <td>Atlanta</td>\n",
       "      <td>0</td>\n",
       "    </tr>\n",
       "    <tr>\n",
       "      <th>53</th>\n",
       "      <td>12/20/2015</td>\n",
       "      <td>1.08</td>\n",
       "      <td>331377.53</td>\n",
       "      <td>251774.15</td>\n",
       "      <td>20702.45</td>\n",
       "      <td>103.06</td>\n",
       "      <td>58797.87</td>\n",
       "      <td>46930.26</td>\n",
       "      <td>11867.61</td>\n",
       "      <td>0.00</td>\n",
       "      <td>conventional</td>\n",
       "      <td>2015</td>\n",
       "      <td>Atlanta</td>\n",
       "      <td>0</td>\n",
       "    </tr>\n",
       "    <tr>\n",
       "      <th>54</th>\n",
       "      <td>12/13/2015</td>\n",
       "      <td>0.96</td>\n",
       "      <td>417772.47</td>\n",
       "      <td>324932.28</td>\n",
       "      <td>31019.08</td>\n",
       "      <td>275.80</td>\n",
       "      <td>61545.31</td>\n",
       "      <td>38903.57</td>\n",
       "      <td>22628.21</td>\n",
       "      <td>13.53</td>\n",
       "      <td>conventional</td>\n",
       "      <td>2015</td>\n",
       "      <td>Atlanta</td>\n",
       "      <td>0</td>\n",
       "    </tr>\n",
       "    <tr>\n",
       "      <th>55</th>\n",
       "      <td>12/6/2015</td>\n",
       "      <td>1.07</td>\n",
       "      <td>357636.82</td>\n",
       "      <td>283024.01</td>\n",
       "      <td>23740.85</td>\n",
       "      <td>181.92</td>\n",
       "      <td>50690.04</td>\n",
       "      <td>37032.67</td>\n",
       "      <td>13654.66</td>\n",
       "      <td>2.71</td>\n",
       "      <td>conventional</td>\n",
       "      <td>2015</td>\n",
       "      <td>Atlanta</td>\n",
       "      <td>0</td>\n",
       "    </tr>\n",
       "    <tr>\n",
       "      <th>56</th>\n",
       "      <td>11/29/2015</td>\n",
       "      <td>0.99</td>\n",
       "      <td>333280.79</td>\n",
       "      <td>250288.65</td>\n",
       "      <td>28889.63</td>\n",
       "      <td>307.83</td>\n",
       "      <td>53794.68</td>\n",
       "      <td>33031.72</td>\n",
       "      <td>20738.55</td>\n",
       "      <td>24.41</td>\n",
       "      <td>conventional</td>\n",
       "      <td>2015</td>\n",
       "      <td>Atlanta</td>\n",
       "      <td>0</td>\n",
       "    </tr>\n",
       "  </tbody>\n",
       "</table>\n",
       "</div>"
      ],
      "text/plain": [
       "          Date  AveragePrice  Total Volume       4046      4225    4770  \\\n",
       "52  12/27/2015          0.99     386100.49  292097.36  27350.92  297.90   \n",
       "53  12/20/2015          1.08     331377.53  251774.15  20702.45  103.06   \n",
       "54  12/13/2015          0.96     417772.47  324932.28  31019.08  275.80   \n",
       "55   12/6/2015          1.07     357636.82  283024.01  23740.85  181.92   \n",
       "56  11/29/2015          0.99     333280.79  250288.65  28889.63  307.83   \n",
       "\n",
       "    Total Bags  Small Bags  Large Bags  XLarge Bags          type  year  \\\n",
       "52    66354.31    48605.95    17748.36         0.00  conventional  2015   \n",
       "53    58797.87    46930.26    11867.61         0.00  conventional  2015   \n",
       "54    61545.31    38903.57    22628.21        13.53  conventional  2015   \n",
       "55    50690.04    37032.67    13654.66         2.71  conventional  2015   \n",
       "56    53794.68    33031.72    20738.55        24.41  conventional  2015   \n",
       "\n",
       "     region  typeR  \n",
       "52  Atlanta      0  \n",
       "53  Atlanta      0  \n",
       "54  Atlanta      0  \n",
       "55  Atlanta      0  \n",
       "56  Atlanta      0  "
      ]
     },
     "execution_count": 144,
     "metadata": {},
     "output_type": "execute_result"
    }
   ],
   "source": [
    "avocado_rand.head()"
   ]
  },
  {
   "cell_type": "code",
   "execution_count": 145,
   "id": "3284b24b-b30d-4eba-8dfb-29fd195e16a6",
   "metadata": {},
   "outputs": [
    {
     "data": {
      "text/html": [
       "<div>\n",
       "<style scoped>\n",
       "    .dataframe tbody tr th:only-of-type {\n",
       "        vertical-align: middle;\n",
       "    }\n",
       "\n",
       "    .dataframe tbody tr th {\n",
       "        vertical-align: top;\n",
       "    }\n",
       "\n",
       "    .dataframe thead th {\n",
       "        text-align: right;\n",
       "    }\n",
       "</style>\n",
       "<table border=\"1\" class=\"dataframe\">\n",
       "  <thead>\n",
       "    <tr style=\"text-align: right;\">\n",
       "      <th></th>\n",
       "      <th>Date</th>\n",
       "      <th>AveragePrice</th>\n",
       "      <th>Total Volume</th>\n",
       "      <th>4046</th>\n",
       "      <th>4225</th>\n",
       "      <th>4770</th>\n",
       "      <th>Total Bags</th>\n",
       "      <th>Small Bags</th>\n",
       "      <th>Large Bags</th>\n",
       "      <th>XLarge Bags</th>\n",
       "      <th>type</th>\n",
       "      <th>year</th>\n",
       "      <th>region</th>\n",
       "      <th>typeR</th>\n",
       "    </tr>\n",
       "  </thead>\n",
       "  <tbody>\n",
       "    <tr>\n",
       "      <th>17896</th>\n",
       "      <td>2/4/2018</td>\n",
       "      <td>1.50</td>\n",
       "      <td>9193.30</td>\n",
       "      <td>261.74</td>\n",
       "      <td>589.27</td>\n",
       "      <td>0.0</td>\n",
       "      <td>8342.29</td>\n",
       "      <td>7622.22</td>\n",
       "      <td>720.07</td>\n",
       "      <td>0.0</td>\n",
       "      <td>organic</td>\n",
       "      <td>2018</td>\n",
       "      <td>MiamiFtLauderdale</td>\n",
       "      <td>1</td>\n",
       "    </tr>\n",
       "    <tr>\n",
       "      <th>17897</th>\n",
       "      <td>1/28/2018</td>\n",
       "      <td>1.43</td>\n",
       "      <td>7883.77</td>\n",
       "      <td>162.09</td>\n",
       "      <td>272.81</td>\n",
       "      <td>0.0</td>\n",
       "      <td>7448.87</td>\n",
       "      <td>7448.87</td>\n",
       "      <td>0.00</td>\n",
       "      <td>0.0</td>\n",
       "      <td>organic</td>\n",
       "      <td>2018</td>\n",
       "      <td>MiamiFtLauderdale</td>\n",
       "      <td>1</td>\n",
       "    </tr>\n",
       "    <tr>\n",
       "      <th>17898</th>\n",
       "      <td>1/21/2018</td>\n",
       "      <td>1.46</td>\n",
       "      <td>7557.32</td>\n",
       "      <td>127.92</td>\n",
       "      <td>285.41</td>\n",
       "      <td>0.0</td>\n",
       "      <td>7143.99</td>\n",
       "      <td>7143.99</td>\n",
       "      <td>0.00</td>\n",
       "      <td>0.0</td>\n",
       "      <td>organic</td>\n",
       "      <td>2018</td>\n",
       "      <td>MiamiFtLauderdale</td>\n",
       "      <td>1</td>\n",
       "    </tr>\n",
       "    <tr>\n",
       "      <th>17899</th>\n",
       "      <td>1/14/2018</td>\n",
       "      <td>1.44</td>\n",
       "      <td>7957.68</td>\n",
       "      <td>50.65</td>\n",
       "      <td>203.70</td>\n",
       "      <td>0.0</td>\n",
       "      <td>7703.33</td>\n",
       "      <td>7700.00</td>\n",
       "      <td>3.33</td>\n",
       "      <td>0.0</td>\n",
       "      <td>organic</td>\n",
       "      <td>2018</td>\n",
       "      <td>MiamiFtLauderdale</td>\n",
       "      <td>1</td>\n",
       "    </tr>\n",
       "    <tr>\n",
       "      <th>17900</th>\n",
       "      <td>1/7/2018</td>\n",
       "      <td>1.47</td>\n",
       "      <td>7496.04</td>\n",
       "      <td>52.94</td>\n",
       "      <td>293.77</td>\n",
       "      <td>0.0</td>\n",
       "      <td>7149.33</td>\n",
       "      <td>7135.99</td>\n",
       "      <td>13.34</td>\n",
       "      <td>0.0</td>\n",
       "      <td>organic</td>\n",
       "      <td>2018</td>\n",
       "      <td>MiamiFtLauderdale</td>\n",
       "      <td>1</td>\n",
       "    </tr>\n",
       "  </tbody>\n",
       "</table>\n",
       "</div>"
      ],
      "text/plain": [
       "            Date  AveragePrice  Total Volume    4046    4225  4770  \\\n",
       "17896   2/4/2018          1.50       9193.30  261.74  589.27   0.0   \n",
       "17897  1/28/2018          1.43       7883.77  162.09  272.81   0.0   \n",
       "17898  1/21/2018          1.46       7557.32  127.92  285.41   0.0   \n",
       "17899  1/14/2018          1.44       7957.68   50.65  203.70   0.0   \n",
       "17900   1/7/2018          1.47       7496.04   52.94  293.77   0.0   \n",
       "\n",
       "       Total Bags  Small Bags  Large Bags  XLarge Bags     type  year  \\\n",
       "17896     8342.29     7622.22      720.07          0.0  organic  2018   \n",
       "17897     7448.87     7448.87        0.00          0.0  organic  2018   \n",
       "17898     7143.99     7143.99        0.00          0.0  organic  2018   \n",
       "17899     7703.33     7700.00        3.33          0.0  organic  2018   \n",
       "17900     7149.33     7135.99       13.34          0.0  organic  2018   \n",
       "\n",
       "                  region  typeR  \n",
       "17896  MiamiFtLauderdale      1  \n",
       "17897  MiamiFtLauderdale      1  \n",
       "17898  MiamiFtLauderdale      1  \n",
       "17899  MiamiFtLauderdale      1  \n",
       "17900  MiamiFtLauderdale      1  "
      ]
     },
     "execution_count": 145,
     "metadata": {},
     "output_type": "execute_result"
    }
   ],
   "source": [
    "avocado_rand.tail()"
   ]
  },
  {
   "cell_type": "code",
   "execution_count": 146,
   "id": "a593f9f7-2b31-46ac-8e49-2c0ade1f35f8",
   "metadata": {},
   "outputs": [
    {
     "data": {
      "text/plain": [
       "0    507\n",
       "1    507\n",
       "Name: typeR, dtype: int64"
      ]
     },
     "execution_count": 146,
     "metadata": {},
     "output_type": "execute_result"
    }
   ],
   "source": [
    "avocado_rand.typeR.value_counts()"
   ]
  },
  {
   "cell_type": "code",
   "execution_count": 366,
   "id": "0744ddf0-3a54-4d06-a5e9-9c8758d11acc",
   "metadata": {
    "tags": []
   },
   "outputs": [],
   "source": [
    "def recode(series):\n",
    "    if series == 'Atlanta':\n",
    "        return 0\n",
    "    if series == 'Denver':\n",
    "        return 1\n",
    "    if series == 'MiamiFtLauderdale':\n",
    "        return 2\n",
    "    \n",
    "avocado_rand['regionR'] = avocado_rand['region'].apply(recode)"
   ]
  },
  {
   "cell_type": "code",
   "execution_count": 148,
   "id": "cee43e21-8a74-4470-ad36-f244059ba316",
   "metadata": {
    "tags": []
   },
   "outputs": [
    {
     "data": {
      "text/html": [
       "<div>\n",
       "<style scoped>\n",
       "    .dataframe tbody tr th:only-of-type {\n",
       "        vertical-align: middle;\n",
       "    }\n",
       "\n",
       "    .dataframe tbody tr th {\n",
       "        vertical-align: top;\n",
       "    }\n",
       "\n",
       "    .dataframe thead th {\n",
       "        text-align: right;\n",
       "    }\n",
       "</style>\n",
       "<table border=\"1\" class=\"dataframe\">\n",
       "  <thead>\n",
       "    <tr style=\"text-align: right;\">\n",
       "      <th></th>\n",
       "      <th>Date</th>\n",
       "      <th>AveragePrice</th>\n",
       "      <th>Total Volume</th>\n",
       "      <th>4046</th>\n",
       "      <th>4225</th>\n",
       "      <th>4770</th>\n",
       "      <th>Total Bags</th>\n",
       "      <th>Small Bags</th>\n",
       "      <th>Large Bags</th>\n",
       "      <th>XLarge Bags</th>\n",
       "      <th>type</th>\n",
       "      <th>year</th>\n",
       "      <th>region</th>\n",
       "      <th>typeR</th>\n",
       "      <th>regionR</th>\n",
       "    </tr>\n",
       "  </thead>\n",
       "  <tbody>\n",
       "    <tr>\n",
       "      <th>52</th>\n",
       "      <td>12/27/2015</td>\n",
       "      <td>0.99</td>\n",
       "      <td>386100.49</td>\n",
       "      <td>292097.36</td>\n",
       "      <td>27350.92</td>\n",
       "      <td>297.90</td>\n",
       "      <td>66354.31</td>\n",
       "      <td>48605.95</td>\n",
       "      <td>17748.36</td>\n",
       "      <td>0.00</td>\n",
       "      <td>conventional</td>\n",
       "      <td>2015</td>\n",
       "      <td>Atlanta</td>\n",
       "      <td>0</td>\n",
       "      <td>0</td>\n",
       "    </tr>\n",
       "    <tr>\n",
       "      <th>53</th>\n",
       "      <td>12/20/2015</td>\n",
       "      <td>1.08</td>\n",
       "      <td>331377.53</td>\n",
       "      <td>251774.15</td>\n",
       "      <td>20702.45</td>\n",
       "      <td>103.06</td>\n",
       "      <td>58797.87</td>\n",
       "      <td>46930.26</td>\n",
       "      <td>11867.61</td>\n",
       "      <td>0.00</td>\n",
       "      <td>conventional</td>\n",
       "      <td>2015</td>\n",
       "      <td>Atlanta</td>\n",
       "      <td>0</td>\n",
       "      <td>0</td>\n",
       "    </tr>\n",
       "    <tr>\n",
       "      <th>54</th>\n",
       "      <td>12/13/2015</td>\n",
       "      <td>0.96</td>\n",
       "      <td>417772.47</td>\n",
       "      <td>324932.28</td>\n",
       "      <td>31019.08</td>\n",
       "      <td>275.80</td>\n",
       "      <td>61545.31</td>\n",
       "      <td>38903.57</td>\n",
       "      <td>22628.21</td>\n",
       "      <td>13.53</td>\n",
       "      <td>conventional</td>\n",
       "      <td>2015</td>\n",
       "      <td>Atlanta</td>\n",
       "      <td>0</td>\n",
       "      <td>0</td>\n",
       "    </tr>\n",
       "    <tr>\n",
       "      <th>55</th>\n",
       "      <td>12/6/2015</td>\n",
       "      <td>1.07</td>\n",
       "      <td>357636.82</td>\n",
       "      <td>283024.01</td>\n",
       "      <td>23740.85</td>\n",
       "      <td>181.92</td>\n",
       "      <td>50690.04</td>\n",
       "      <td>37032.67</td>\n",
       "      <td>13654.66</td>\n",
       "      <td>2.71</td>\n",
       "      <td>conventional</td>\n",
       "      <td>2015</td>\n",
       "      <td>Atlanta</td>\n",
       "      <td>0</td>\n",
       "      <td>0</td>\n",
       "    </tr>\n",
       "    <tr>\n",
       "      <th>56</th>\n",
       "      <td>11/29/2015</td>\n",
       "      <td>0.99</td>\n",
       "      <td>333280.79</td>\n",
       "      <td>250288.65</td>\n",
       "      <td>28889.63</td>\n",
       "      <td>307.83</td>\n",
       "      <td>53794.68</td>\n",
       "      <td>33031.72</td>\n",
       "      <td>20738.55</td>\n",
       "      <td>24.41</td>\n",
       "      <td>conventional</td>\n",
       "      <td>2015</td>\n",
       "      <td>Atlanta</td>\n",
       "      <td>0</td>\n",
       "      <td>0</td>\n",
       "    </tr>\n",
       "  </tbody>\n",
       "</table>\n",
       "</div>"
      ],
      "text/plain": [
       "          Date  AveragePrice  Total Volume       4046      4225    4770  \\\n",
       "52  12/27/2015          0.99     386100.49  292097.36  27350.92  297.90   \n",
       "53  12/20/2015          1.08     331377.53  251774.15  20702.45  103.06   \n",
       "54  12/13/2015          0.96     417772.47  324932.28  31019.08  275.80   \n",
       "55   12/6/2015          1.07     357636.82  283024.01  23740.85  181.92   \n",
       "56  11/29/2015          0.99     333280.79  250288.65  28889.63  307.83   \n",
       "\n",
       "    Total Bags  Small Bags  Large Bags  XLarge Bags          type  year  \\\n",
       "52    66354.31    48605.95    17748.36         0.00  conventional  2015   \n",
       "53    58797.87    46930.26    11867.61         0.00  conventional  2015   \n",
       "54    61545.31    38903.57    22628.21        13.53  conventional  2015   \n",
       "55    50690.04    37032.67    13654.66         2.71  conventional  2015   \n",
       "56    53794.68    33031.72    20738.55        24.41  conventional  2015   \n",
       "\n",
       "     region  typeR  regionR  \n",
       "52  Atlanta      0        0  \n",
       "53  Atlanta      0        0  \n",
       "54  Atlanta      0        0  \n",
       "55  Atlanta      0        0  \n",
       "56  Atlanta      0        0  "
      ]
     },
     "execution_count": 148,
     "metadata": {},
     "output_type": "execute_result"
    }
   ],
   "source": [
    "avocado_rand.head()"
   ]
  },
  {
   "cell_type": "code",
   "execution_count": 149,
   "id": "b45c1d12-97ee-4b2e-9269-033a2bcd9b0b",
   "metadata": {},
   "outputs": [
    {
     "data": {
      "text/plain": [
       "array([0, 1, 2], dtype=int64)"
      ]
     },
     "execution_count": 149,
     "metadata": {},
     "output_type": "execute_result"
    }
   ],
   "source": [
    "avocado_rand.regionR.unique()"
   ]
  },
  {
   "cell_type": "code",
   "execution_count": 150,
   "id": "1b5c537b-7b14-4903-88ae-a8a4ee9ff826",
   "metadata": {},
   "outputs": [
    {
     "data": {
      "text/plain": [
       "0    338\n",
       "1    338\n",
       "2    338\n",
       "Name: regionR, dtype: int64"
      ]
     },
     "execution_count": 150,
     "metadata": {},
     "output_type": "execute_result"
    }
   ],
   "source": [
    "avocado_rand.regionR.value_counts()"
   ]
  },
  {
   "cell_type": "code",
   "execution_count": 151,
   "id": "7286605f-f684-4326-9941-63a77e9509ab",
   "metadata": {},
   "outputs": [
    {
     "data": {
      "text/html": [
       "<div>\n",
       "<style scoped>\n",
       "    .dataframe tbody tr th:only-of-type {\n",
       "        vertical-align: middle;\n",
       "    }\n",
       "\n",
       "    .dataframe tbody tr th {\n",
       "        vertical-align: top;\n",
       "    }\n",
       "\n",
       "    .dataframe thead th {\n",
       "        text-align: right;\n",
       "    }\n",
       "</style>\n",
       "<table border=\"1\" class=\"dataframe\">\n",
       "  <thead>\n",
       "    <tr style=\"text-align: right;\">\n",
       "      <th></th>\n",
       "      <th>Date</th>\n",
       "      <th>AveragePrice</th>\n",
       "      <th>Total Volume</th>\n",
       "      <th>4046</th>\n",
       "      <th>4225</th>\n",
       "      <th>4770</th>\n",
       "      <th>Total Bags</th>\n",
       "      <th>Small Bags</th>\n",
       "      <th>Large Bags</th>\n",
       "      <th>XLarge Bags</th>\n",
       "      <th>type</th>\n",
       "      <th>year</th>\n",
       "      <th>region</th>\n",
       "      <th>typeR</th>\n",
       "      <th>regionR</th>\n",
       "    </tr>\n",
       "  </thead>\n",
       "  <tbody>\n",
       "    <tr>\n",
       "      <th>52</th>\n",
       "      <td>12/27/2015</td>\n",
       "      <td>0.99</td>\n",
       "      <td>386100.49</td>\n",
       "      <td>292097.36</td>\n",
       "      <td>27350.92</td>\n",
       "      <td>297.90</td>\n",
       "      <td>66354.31</td>\n",
       "      <td>48605.95</td>\n",
       "      <td>17748.36</td>\n",
       "      <td>0.00</td>\n",
       "      <td>conventional</td>\n",
       "      <td>2015</td>\n",
       "      <td>Atlanta</td>\n",
       "      <td>0</td>\n",
       "      <td>0</td>\n",
       "    </tr>\n",
       "    <tr>\n",
       "      <th>53</th>\n",
       "      <td>12/20/2015</td>\n",
       "      <td>1.08</td>\n",
       "      <td>331377.53</td>\n",
       "      <td>251774.15</td>\n",
       "      <td>20702.45</td>\n",
       "      <td>103.06</td>\n",
       "      <td>58797.87</td>\n",
       "      <td>46930.26</td>\n",
       "      <td>11867.61</td>\n",
       "      <td>0.00</td>\n",
       "      <td>conventional</td>\n",
       "      <td>2015</td>\n",
       "      <td>Atlanta</td>\n",
       "      <td>0</td>\n",
       "      <td>0</td>\n",
       "    </tr>\n",
       "    <tr>\n",
       "      <th>54</th>\n",
       "      <td>12/13/2015</td>\n",
       "      <td>0.96</td>\n",
       "      <td>417772.47</td>\n",
       "      <td>324932.28</td>\n",
       "      <td>31019.08</td>\n",
       "      <td>275.80</td>\n",
       "      <td>61545.31</td>\n",
       "      <td>38903.57</td>\n",
       "      <td>22628.21</td>\n",
       "      <td>13.53</td>\n",
       "      <td>conventional</td>\n",
       "      <td>2015</td>\n",
       "      <td>Atlanta</td>\n",
       "      <td>0</td>\n",
       "      <td>0</td>\n",
       "    </tr>\n",
       "    <tr>\n",
       "      <th>55</th>\n",
       "      <td>12/6/2015</td>\n",
       "      <td>1.07</td>\n",
       "      <td>357636.82</td>\n",
       "      <td>283024.01</td>\n",
       "      <td>23740.85</td>\n",
       "      <td>181.92</td>\n",
       "      <td>50690.04</td>\n",
       "      <td>37032.67</td>\n",
       "      <td>13654.66</td>\n",
       "      <td>2.71</td>\n",
       "      <td>conventional</td>\n",
       "      <td>2015</td>\n",
       "      <td>Atlanta</td>\n",
       "      <td>0</td>\n",
       "      <td>0</td>\n",
       "    </tr>\n",
       "    <tr>\n",
       "      <th>56</th>\n",
       "      <td>11/29/2015</td>\n",
       "      <td>0.99</td>\n",
       "      <td>333280.79</td>\n",
       "      <td>250288.65</td>\n",
       "      <td>28889.63</td>\n",
       "      <td>307.83</td>\n",
       "      <td>53794.68</td>\n",
       "      <td>33031.72</td>\n",
       "      <td>20738.55</td>\n",
       "      <td>24.41</td>\n",
       "      <td>conventional</td>\n",
       "      <td>2015</td>\n",
       "      <td>Atlanta</td>\n",
       "      <td>0</td>\n",
       "      <td>0</td>\n",
       "    </tr>\n",
       "  </tbody>\n",
       "</table>\n",
       "</div>"
      ],
      "text/plain": [
       "          Date  AveragePrice  Total Volume       4046      4225    4770  \\\n",
       "52  12/27/2015          0.99     386100.49  292097.36  27350.92  297.90   \n",
       "53  12/20/2015          1.08     331377.53  251774.15  20702.45  103.06   \n",
       "54  12/13/2015          0.96     417772.47  324932.28  31019.08  275.80   \n",
       "55   12/6/2015          1.07     357636.82  283024.01  23740.85  181.92   \n",
       "56  11/29/2015          0.99     333280.79  250288.65  28889.63  307.83   \n",
       "\n",
       "    Total Bags  Small Bags  Large Bags  XLarge Bags          type  year  \\\n",
       "52    66354.31    48605.95    17748.36         0.00  conventional  2015   \n",
       "53    58797.87    46930.26    11867.61         0.00  conventional  2015   \n",
       "54    61545.31    38903.57    22628.21        13.53  conventional  2015   \n",
       "55    50690.04    37032.67    13654.66         2.71  conventional  2015   \n",
       "56    53794.68    33031.72    20738.55        24.41  conventional  2015   \n",
       "\n",
       "     region  typeR  regionR  \n",
       "52  Atlanta      0        0  \n",
       "53  Atlanta      0        0  \n",
       "54  Atlanta      0        0  \n",
       "55  Atlanta      0        0  \n",
       "56  Atlanta      0        0  "
      ]
     },
     "execution_count": 151,
     "metadata": {},
     "output_type": "execute_result"
    }
   ],
   "source": [
    "avocado_rand.head()"
   ]
  },
  {
   "cell_type": "markdown",
   "id": "82a034b8-dccf-433d-a2d5-fb14d62a13bf",
   "metadata": {},
   "source": [
    "## (1) How do the 3 Cities  Total Volume of Avocado consumption compare to each other?"
   ]
  },
  {
   "cell_type": "markdown",
   "id": "1086f014-28d4-45b7-89c5-3dd5e641f2af",
   "metadata": {},
   "source": [
    "## Step Six a ANOVA\n",
    "---\n",
    "#### Test for assumptions\n",
    "\n",
    "- Normality\n",
    "- Homogeneity of Variance\n",
    "- Sample Size > 20\n",
    "- Independence\n",
    "- Sphercity"
   ]
  },
  {
   "cell_type": "code",
   "execution_count": 285,
   "id": "4b4ee8e1-2294-447a-94bd-6c9f984907dc",
   "metadata": {
    "tags": []
   },
   "outputs": [
    {
     "data": {
      "image/png": "[encoded data removed]",
      "text/plain": [
       "<Figure size 500x500 with 1 Axes>"
      ]
     },
     "metadata": {},
     "output_type": "display_data"
    },
    {
     "data": {
      "image/png": "[encoded data removed]",
      "text/plain": [
       "<Figure size 500x500 with 1 Axes>"
      ]
     },
     "metadata": {},
     "output_type": "display_data"
    },
    {
     "data": {
      "image/png": "[encoded data removed]",
      "text/plain": [
       "<Figure size 500x500 with 1 Axes>"
      ]
     },
     "metadata": {},
     "output_type": "display_data"
    }
   ],
   "source": [
    "plt.style.use('fivethirtyeight')\n",
    "\n",
    "#Without Transformation\n",
    "sns.displot(avocado_rand['Total Volume'], kde = True).set(title='Without Transformation')\n",
    "\n",
    "#With Square Root Transformation\n",
    "sns.displot(np.sqrt(avocado_rand['Total Volume']), kde = True).set(title='With Square Root Transformation')\n",
    "\n",
    "#With Log Transformation\n",
    "sns.displot(np.log(avocado_rand['Total Volume']), kde = True).set(title='With Log Transformation')\n",
    "\n",
    "plt.savefig('displot.png')"
   ]
  },
  {
   "cell_type": "code",
   "execution_count": 153,
   "id": "eaf7cf00-2a94-44ed-b215-22ea8d264507",
   "metadata": {
    "tags": []
   },
   "outputs": [],
   "source": [
    "#perform log transformation\n",
    "avocado_rand['Total Volume_log'] = np.log(avocado_rand['Total Volume'])"
   ]
  },
  {
   "cell_type": "code",
   "execution_count": 154,
   "id": "4419d018-921c-4aa7-986a-3b813eda9fd6",
   "metadata": {
    "tags": []
   },
   "outputs": [
    {
     "data": {
      "text/plain": [
       "BartlettResult(statistic=874.0018642024663, pvalue=4.401442106930616e-192)"
      ]
     },
     "execution_count": 154,
     "metadata": {},
     "output_type": "execute_result"
    }
   ],
   "source": [
    "bartlett(avocado_rand[\"Total Volume_log\"], avocado_rand[\"regionR\"])"
   ]
  },
  {
   "cell_type": "code",
   "execution_count": 155,
   "id": "210ee8a2",
   "metadata": {},
   "outputs": [
    {
     "data": {
      "text/plain": [
       "BartlettResult(statistic=24760.013711529777, pvalue=0.0)"
      ]
     },
     "execution_count": 155,
     "metadata": {},
     "output_type": "execute_result"
    }
   ],
   "source": [
    "bartlett(avocado_rand[\"Total Volume\"], avocado_rand[\"regionR\"])"
   ]
  },
  {
   "cell_type": "code",
   "execution_count": 402,
   "id": "285ac2a1-b104-41be-8364-39c79329eca9",
   "metadata": {},
   "outputs": [],
   "source": [
    "#In both cases, the null hypothesis is that the variances of the two variables are equal. A significant result indicates that the variances are not equal\n",
    "\n",
    "\n"
   ]
  },
  {
   "cell_type": "code",
   "execution_count": 157,
   "id": "739ab6da-e9bf-443f-aae1-f0adfcc1da0e",
   "metadata": {
    "tags": []
   },
   "outputs": [],
   "source": [
    "#Sample size: must have a least 20 cases per independent variable\n",
    "#Independence: no overlap between your groups and that the levels you are testing are not related in some way\n",
    "#Sphericity: (for between subjects designs only, usually when you are dealing with the same variables at different times)"
   ]
  },
  {
   "cell_type": "code",
   "execution_count": null,
   "id": "ad97d8f0-3702-4239-979b-822b1243b23f",
   "metadata": {},
   "outputs": [],
   "source": []
  },
  {
   "cell_type": "code",
   "execution_count": 158,
   "id": "f40ec61c-e88b-479f-a92c-1d47cf8e5859",
   "metadata": {
    "tags": []
   },
   "outputs": [
    {
     "data": {
      "text/plain": [
       "F_onewayResult(statistic=19.7994310051585, pvalue=3.675725187627539e-09)"
      ]
     },
     "execution_count": 158,
     "metadata": {},
     "output_type": "execute_result"
    }
   ],
   "source": [
    "f_oneway(\n",
    "    avocado[\"Total Volume\"][avocado[\"region\"]=='Atlanta'],\n",
    "    avocado[\"Total Volume\"][avocado[\"region\"]=='Denver'],\n",
    "    avocado[\"Total Volume\"][avocado[\"region\"]=='MiamiFtLauderdale']\n",
    ")"
   ]
  },
  {
   "cell_type": "code",
   "execution_count": 159,
   "id": "009b8cd5-6202-4264-b951-123f066e5c78",
   "metadata": {},
   "outputs": [],
   "source": [
    "#explain your results\n",
    "#Since the p value is less than .05, there is a significant difference in between these three categories.\n"
   ]
  },
  {
   "cell_type": "code",
   "execution_count": 160,
   "id": "be79c401-2e08-475e-a710-a9ecbf9b9fc2",
   "metadata": {
    "tags": []
   },
   "outputs": [
    {
     "name": "stdout",
     "output_type": "stream",
     "text": [
      "      Multiple Comparison of Means - Tukey HSD, FWER=0.05       \n",
      "================================================================\n",
      " group1       group2      meandiff p-adj   lower   upper  reject\n",
      "----------------------------------------------------------------\n",
      "Atlanta            Denver   0.7625    0.0  0.3742  1.1509   True\n",
      "Atlanta MiamiFtLauderdale  -0.5392 0.0033 -0.9276 -0.1509   True\n",
      " Denver MiamiFtLauderdale  -1.3018    0.0 -1.6901 -0.9134   True\n",
      "----------------------------------------------------------------\n"
     ]
    }
   ],
   "source": [
    "postHocResults = MultiComparison(avocado_rand[\"Total Volume_log\"], avocado_rand[\"region\"]).tukeyhsd()\n",
    "print(postHocResults)"
   ]
  },
  {
   "cell_type": "code",
   "execution_count": 161,
   "id": "3948bcd1",
   "metadata": {},
   "outputs": [
    {
     "name": "stdout",
     "output_type": "stream",
     "text": [
      "             Multiple Comparison of Means - Tukey HSD, FWER=0.05             \n",
      "=============================================================================\n",
      " group1       group2        meandiff   p-adj     lower        upper    reject\n",
      "-----------------------------------------------------------------------------\n",
      "Atlanta            Denver  148808.9264    0.0   89642.5578 207975.2951   True\n",
      "Atlanta MiamiFtLauderdale   26828.7136 0.5365  -32337.6551  85995.0822  False\n",
      " Denver MiamiFtLauderdale -121980.2129    0.0 -181146.5816 -62813.8442   True\n",
      "-----------------------------------------------------------------------------\n"
     ]
    }
   ],
   "source": [
    "postHocResults = MultiComparison(avocado_rand[\"Total Volume\"], avocado_rand[\"region\"]).tukeyhsd()\n",
    "print(postHocResults)"
   ]
  },
  {
   "cell_type": "markdown",
   "id": "10f002ee-af68-4341-aa29-5287d1aa0584",
   "metadata": {},
   "source": [
    "#### Interpret or explain your results:\n",
    "This output provides you with the mean difference in the number of reviews per comparison, plus the confidence interval (lower and upper columns), \n",
    "and whether or not you can reject the null hypothesis. If the value in the reject column is True, then this means there was a significant difference in the means between those groups. \n",
    "\n",
    "So, there is a significant difference between the consumption of Avocados between all 3 of the Cities. \n",
    "\n",
    "GIn other words, Atlanta and Denver have significantly different total volume, as well as MiamiFtLauderdale, but Atlanta and MiamiFtLauderdale do not have significantly different total volume"
   ]
  },
  {
   "cell_type": "markdown",
   "id": "8e45ed2c-d853-4b31-9018-b34ca40eb3fe",
   "metadata": {},
   "source": [
    "## Step Seven a : Determine Means and Draw Conclusions\n"
   ]
  },
  {
   "cell_type": "code",
   "execution_count": 162,
   "id": "e5de62d7-45df-47c2-8986-07f767636a88",
   "metadata": {
    "tags": []
   },
   "outputs": [
    {
     "data": {
      "text/html": [
       "<div>\n",
       "<style scoped>\n",
       "    .dataframe tbody tr th:only-of-type {\n",
       "        vertical-align: middle;\n",
       "    }\n",
       "\n",
       "    .dataframe tbody tr th {\n",
       "        vertical-align: top;\n",
       "    }\n",
       "\n",
       "    .dataframe thead th {\n",
       "        text-align: right;\n",
       "    }\n",
       "</style>\n",
       "<table border=\"1\" class=\"dataframe\">\n",
       "  <thead>\n",
       "    <tr style=\"text-align: right;\">\n",
       "      <th></th>\n",
       "      <th>Total Volume</th>\n",
       "    </tr>\n",
       "    <tr>\n",
       "      <th>region</th>\n",
       "      <th></th>\n",
       "    </tr>\n",
       "  </thead>\n",
       "  <tbody>\n",
       "    <tr>\n",
       "      <th>Atlanta</th>\n",
       "      <td>262145.32</td>\n",
       "    </tr>\n",
       "    <tr>\n",
       "      <th>Denver</th>\n",
       "      <td>410954.25</td>\n",
       "    </tr>\n",
       "    <tr>\n",
       "      <th>MiamiFtLauderdale</th>\n",
       "      <td>288974.04</td>\n",
       "    </tr>\n",
       "  </tbody>\n",
       "</table>\n",
       "</div>"
      ],
      "text/plain": [
       "                   Total Volume\n",
       "region                         \n",
       "Atlanta               262145.32\n",
       "Denver                410954.25\n",
       "MiamiFtLauderdale     288974.04"
      ]
     },
     "execution_count": 162,
     "metadata": {},
     "output_type": "execute_result"
    }
   ],
   "source": [
    "avocado_rand_1 = avocado_rand[['region', 'Total Volume']]\n",
    "\n",
    "avocado_rand_1.groupby('region').mean().round(2)"
   ]
  },
  {
   "cell_type": "code",
   "execution_count": 403,
   "id": "2beb7042-861c-4181-b378-1c4b38092da3",
   "metadata": {},
   "outputs": [],
   "source": [
    "#explain your results\n",
    "#p-value less than0.05 indicates that for both tests the null hypothesis can be rejected, and there is evidence for the alternative hypothesis.\n"
   ]
  },
  {
   "cell_type": "markdown",
   "id": "40b9243c-4dfd-4f67-98ab-6144ebf97c35",
   "metadata": {},
   "source": [
    "## (2) How do the 3 Cities Average Price of Avocados compare to each other?"
   ]
  },
  {
   "cell_type": "markdown",
   "id": "affc4ba2-e139-450d-9889-9615e857c1ba",
   "metadata": {},
   "source": [
    "## Step Six b ANOVA\n",
    "---\n",
    "#### Test for assumptions\n",
    "\n",
    "- Normality\n",
    "- Homogeneity of Variance\n",
    "- Sample Size > 20\n",
    "- Independence\n",
    "- Sphercity"
   ]
  },
  {
   "cell_type": "code",
   "execution_count": 164,
   "id": "658602f6-f9b2-442b-aa10-ec8314671d5e",
   "metadata": {},
   "outputs": [
    {
     "data": {
      "text/plain": [
       "<seaborn.axisgrid.FacetGrid at 0x1dbdbbe0850>"
      ]
     },
     "execution_count": 164,
     "metadata": {},
     "output_type": "execute_result"
    },
    {
     "data": {
      "image/png": "[encoded data removed]",
      "text/plain": [
       "<Figure size 500x500 with 1 Axes>"
      ]
     },
     "metadata": {},
     "output_type": "display_data"
    },
    {
     "data": {
      "image/png": "[encoded data removed]",
      "text/plain": [
       "<Figure size 500x500 with 1 Axes>"
      ]
     },
     "metadata": {},
     "output_type": "display_data"
    },
    {
     "data": {
      "image/png": "[encoded data removed]",
      "text/plain": [
       "<Figure size 500x500 with 1 Axes>"
      ]
     },
     "metadata": {},
     "output_type": "display_data"
    }
   ],
   "source": [
    "plt.style.use('fivethirtyeight')\n",
    "\n",
    "#Without Transformation\n",
    "sns.displot(avocado_rand['AveragePrice'], kde = True).set(title='Without Transformation')\n",
    "\n",
    "#With Square Root Transformation\n",
    "sns.displot(np.sqrt(avocado_rand['AveragePrice']), kde = True).set(title='With Square Root Transformation')\n",
    "\n",
    "#With Log Transformation\n",
    "sns.displot(np.log(avocado_rand['AveragePrice']), kde = True).set(title='With Log Transformation')"
   ]
  },
  {
   "cell_type": "code",
   "execution_count": 398,
   "id": "c5983864-5ca5-4972-91f4-20e1a75e1151",
   "metadata": {
    "tags": []
   },
   "outputs": [],
   "source": [
    "#perform log transformation\n",
    "avocado_rand['AveragePrice_log'] = np.log(avocado_rand['AveragePrice'])"
   ]
  },
  {
   "cell_type": "code",
   "execution_count": 399,
   "id": "06aceede-5896-4c4d-8da9-327acfed2eff",
   "metadata": {
    "tags": []
   },
   "outputs": [
    {
     "data": {
      "text/plain": [
       "BartlettResult(statistic=1067.6487475214396, pvalue=3.5509144224084957e-234)"
      ]
     },
     "execution_count": 399,
     "metadata": {},
     "output_type": "execute_result"
    }
   ],
   "source": [
    "bartlett(avocado_rand[\"AveragePrice_log\"], avocado_rand[\"regionR\"])"
   ]
  },
  {
   "cell_type": "code",
   "execution_count": 400,
   "id": "f7e3cdbe-2573-4098-b499-2d3cd46bd574",
   "metadata": {},
   "outputs": [
    {
     "data": {
      "text/plain": [
       "BartlettResult(statistic=605.3586001656699, pvalue=1.1435875347586993e-133)"
      ]
     },
     "execution_count": 400,
     "metadata": {},
     "output_type": "execute_result"
    }
   ],
   "source": [
    "bartlett(avocado_rand[\"AveragePrice\"], avocado_rand[\"regionR\"])"
   ]
  },
  {
   "cell_type": "code",
   "execution_count": 168,
   "id": "623cba7f-c643-4963-b788-7ef43b19a20f",
   "metadata": {},
   "outputs": [],
   "source": [
    "#explain your results\n",
    "#You are looking for a non-significant test. The null hypothesis for both of these is that the data has equal variance, so you'd like to have a p value of > .05.\n",
    "#The p value associated with this test is < .05, which means that unfortunately, you have violated the assumption of homogeneity of variance. However, we know that each city doesn't\n",
    "#impact the other cities chosen.  So we will move ahead. \n"
   ]
  },
  {
   "cell_type": "code",
   "execution_count": 169,
   "id": "cc16693e-f3e0-4eda-88f8-7e8078fff5ef",
   "metadata": {},
   "outputs": [],
   "source": [
    "#Sample size: must have a least 20 cases per independent variable\n",
    "#Independence: no overlap between your groups and that the levels you are testing are not related in some way\n",
    "#Sphericity: (for between subjects designs only, usually when you are dealing with the same variables at different times)"
   ]
  },
  {
   "cell_type": "code",
   "execution_count": 170,
   "id": "691de5a5-8caf-419e-b5a2-6885d2369871",
   "metadata": {},
   "outputs": [
    {
     "data": {
      "text/plain": [
       "F_onewayResult(statistic=30.1395769487044, pvalue=1.9316015332863168e-13)"
      ]
     },
     "execution_count": 170,
     "metadata": {},
     "output_type": "execute_result"
    }
   ],
   "source": [
    "f_oneway(\n",
    "    avocado[\"AveragePrice\"][avocado[\"region\"]=='Atlanta'],\n",
    "    avocado[\"AveragePrice\"][avocado[\"region\"]=='Denver'],\n",
    "    avocado[\"AveragePrice\"][avocado[\"region\"]=='MiamiFtLauderdale']\n",
    ")"
   ]
  },
  {
   "cell_type": "code",
   "execution_count": 404,
   "id": "7eb8e127-2b70-4c20-aa45-4b90e0f96605",
   "metadata": {},
   "outputs": [],
   "source": [
    "#explain your results\n",
    "#The p-value <0.05), so we reject the null hypothesis\n"
   ]
  },
  {
   "cell_type": "code",
   "execution_count": 172,
   "id": "44ff0709-8a69-4970-abb7-d53467d2bc41",
   "metadata": {},
   "outputs": [
    {
     "name": "stdout",
     "output_type": "stream",
     "text": [
      "      Multiple Comparison of Means - Tukey HSD, FWER=0.05       \n",
      "================================================================\n",
      " group1       group2      meandiff p-adj   lower   upper  reject\n",
      "----------------------------------------------------------------\n",
      "Atlanta            Denver  -0.0848 0.0001 -0.1314 -0.0381   True\n",
      "Atlanta MiamiFtLauderdale    0.081 0.0001  0.0344  0.1276   True\n",
      " Denver MiamiFtLauderdale   0.1658    0.0  0.1191  0.2124   True\n",
      "----------------------------------------------------------------\n"
     ]
    }
   ],
   "source": [
    "postHocResults = MultiComparison(avocado_rand[\"AveragePrice_log\"], avocado_rand[\"region\"]).tukeyhsd()\n",
    "print(postHocResults)"
   ]
  },
  {
   "cell_type": "code",
   "execution_count": 173,
   "id": "44a68b71-4b58-49a7-9e8e-e63c7cb1eabc",
   "metadata": {},
   "outputs": [
    {
     "name": "stdout",
     "output_type": "stream",
     "text": [
      "      Multiple Comparison of Means - Tukey HSD, FWER=0.05      \n",
      "===============================================================\n",
      " group1       group2      meandiff p-adj  lower   upper  reject\n",
      "---------------------------------------------------------------\n",
      "Atlanta            Denver  -0.1194    0.0 -0.183 -0.0557   True\n",
      "Atlanta MiamiFtLauderdale   0.0905 0.0025 0.0269  0.1542   True\n",
      " Denver MiamiFtLauderdale   0.2099    0.0 0.1463  0.2736   True\n",
      "---------------------------------------------------------------\n"
     ]
    }
   ],
   "source": [
    "    postHocResults = MultiComparison(avocado_rand[\"AveragePrice\"], avocado_rand[\"region\"]).tukeyhsd()\n",
    "    print(postHocResults)"
   ]
  },
  {
   "cell_type": "markdown",
   "id": "b10c8d46-2c29-4fcb-b0fa-e990bf8cbb30",
   "metadata": {},
   "source": [
    "#### Interpret or explain your results:\n",
    "This output provides you with the mean difference in the number of reviews per comparison, plus the confidence interval (lower and upper columns), \n",
    "and whether or nThe first set of results shows the pairwise comparisons between the three regions (Atlanta, Denver, and MiamiFtLauderdale) for the log-transformed average price of avocados. The Tukey HSD test is used to compare all pairs of means and identify if there is a significant difference between them.\n",
    "\n",
    "The results show that there are significant differences between all pairs of means at a significance level of 0.05, as indicated by the \"reject\" column. The mean log-transformed price in Denver is significantly lower than in Atlanta and MiamiFtLauderdale, while the mean log-transformed price in MiamiFtLauderdale is significantly higher than in Atlanta and Denver.\n",
    "\n",
    "The second set shows the pairwise comparisons between the same three regions, but this time for thr(raw) average price of avocados. The Tukey HSD test also used agian\n",
    "The results show that there are also significant differences between all pairs of means at a significance level of 0.05. The mean price in Denver the lowest ,while the mean price in MiamiFtLauderdale is the highest among the three\n",
    "\n",
    "Overall, both sets of results suggest that there are significant differences in average avocado prices across the three regions.\n",
    "\n",
    "so you can reject the null hypothesis. If the value in the reject column is True, then this means there was a significant difference in the means between those groups. \n",
    "\n",
    "So, there is a significant difference between the consumption of Avocados between all 3 of the Cities. \n",
    "\n",
    "Go on to step 7 to find out what the differences are: \n"
   ]
  },
  {
   "cell_type": "markdown",
   "id": "e214196c-85b5-41e3-9f0b-5ea7204604e9",
   "metadata": {},
   "source": [
    "## Step Seven b : Determine Means and Draw Conclusions\n"
   ]
  },
  {
   "cell_type": "code",
   "execution_count": 174,
   "id": "4f0fba43-7105-40c6-ba47-1be5d190ac84",
   "metadata": {},
   "outputs": [
    {
     "data": {
      "text/html": [
       "<div>\n",
       "<style scoped>\n",
       "    .dataframe tbody tr th:only-of-type {\n",
       "        vertical-align: middle;\n",
       "    }\n",
       "\n",
       "    .dataframe tbody tr th {\n",
       "        vertical-align: top;\n",
       "    }\n",
       "\n",
       "    .dataframe thead th {\n",
       "        text-align: right;\n",
       "    }\n",
       "</style>\n",
       "<table border=\"1\" class=\"dataframe\">\n",
       "  <thead>\n",
       "    <tr style=\"text-align: right;\">\n",
       "      <th></th>\n",
       "      <th>AveragePrice</th>\n",
       "    </tr>\n",
       "    <tr>\n",
       "      <th>region</th>\n",
       "      <th></th>\n",
       "    </tr>\n",
       "  </thead>\n",
       "  <tbody>\n",
       "    <tr>\n",
       "      <th>Atlanta</th>\n",
       "      <td>1.34</td>\n",
       "    </tr>\n",
       "    <tr>\n",
       "      <th>Denver</th>\n",
       "      <td>1.22</td>\n",
       "    </tr>\n",
       "    <tr>\n",
       "      <th>MiamiFtLauderdale</th>\n",
       "      <td>1.43</td>\n",
       "    </tr>\n",
       "  </tbody>\n",
       "</table>\n",
       "</div>"
      ],
      "text/plain": [
       "                   AveragePrice\n",
       "region                         \n",
       "Atlanta                    1.34\n",
       "Denver                     1.22\n",
       "MiamiFtLauderdale          1.43"
      ]
     },
     "execution_count": 174,
     "metadata": {},
     "output_type": "execute_result"
    }
   ],
   "source": [
    "avocado_rand_2= avocado_rand[['region', 'AveragePrice']]\n",
    "\n",
    "avocado_rand_2.groupby('region').mean().round(2)"
   ]
  },
  {
   "cell_type": "code",
   "execution_count": null,
   "id": "8fd0673a-be47-4700-9bc6-efdc84ac5ed7",
   "metadata": {},
   "outputs": [],
   "source": []
  },
  {
   "cell_type": "markdown",
   "id": "a1b3177f-7c62-4882-832c-0b48b4c7b1c3",
   "metadata": {},
   "source": [
    "## (3) How do different regions compare to each other in Avocado consumptions using the total bags sold"
   ]
  },
  {
   "cell_type": "code",
   "execution_count": 270,
   "id": "4ba7655e-71a6-40c2-85ad-a854821b292c",
   "metadata": {},
   "outputs": [
    {
     "data": {
      "text/plain": [
       "count    1.824900e+04\n",
       "mean     2.396392e+05\n",
       "std      9.862424e+05\n",
       "min      0.000000e+00\n",
       "25%      5.088640e+03\n",
       "50%      3.974383e+04\n",
       "75%      1.107834e+05\n",
       "max      1.937313e+07\n",
       "Name: Total Bags, dtype: float64"
      ]
     },
     "execution_count": 270,
     "metadata": {},
     "output_type": "execute_result"
    }
   ],
   "source": [
    "avocado['Total Bags'].describe()\n",
    "# for Questions 3 & 4 "
   ]
  },
  {
   "cell_type": "markdown",
   "id": "b852b862-a3cd-4066-857c-8c6a5dc6a231",
   "metadata": {},
   "source": [
    "## Step Four (b)- Data Wrangling\n",
    "---\n",
    "#### Filter for 6 region\n",
    "Focusing on the 6 regions around the US \n",
    "The data has many more categories than three, so we will need to filter the dataset by the categories you want. The code below makes a list of the categories you want to keep, then searches through the Category column using the isin() function to keep only those that match.\n"
   ]
  },
  {
   "cell_type": "code",
   "execution_count": 180,
   "id": "cbfa773f-f309-4096-8043-3de5aeb5ae55",
   "metadata": {},
   "outputs": [
    {
     "data": {
      "text/html": [
       "<div>\n",
       "<style scoped>\n",
       "    .dataframe tbody tr th:only-of-type {\n",
       "        vertical-align: middle;\n",
       "    }\n",
       "\n",
       "    .dataframe tbody tr th {\n",
       "        vertical-align: top;\n",
       "    }\n",
       "\n",
       "    .dataframe thead th {\n",
       "        text-align: right;\n",
       "    }\n",
       "</style>\n",
       "<table border=\"1\" class=\"dataframe\">\n",
       "  <thead>\n",
       "    <tr style=\"text-align: right;\">\n",
       "      <th></th>\n",
       "      <th>Date</th>\n",
       "      <th>AveragePrice</th>\n",
       "      <th>Total Volume</th>\n",
       "      <th>4046</th>\n",
       "      <th>4225</th>\n",
       "      <th>4770</th>\n",
       "      <th>Total Bags</th>\n",
       "      <th>Small Bags</th>\n",
       "      <th>Large Bags</th>\n",
       "      <th>XLarge Bags</th>\n",
       "      <th>type</th>\n",
       "      <th>year</th>\n",
       "      <th>region</th>\n",
       "    </tr>\n",
       "  </thead>\n",
       "  <tbody>\n",
       "    <tr>\n",
       "      <th>780</th>\n",
       "      <td>12/27/2015</td>\n",
       "      <td>1.01</td>\n",
       "      <td>2580602.96</td>\n",
       "      <td>336673.70</td>\n",
       "      <td>1411808.83</td>\n",
       "      <td>254629.93</td>\n",
       "      <td>577490.50</td>\n",
       "      <td>400003.80</td>\n",
       "      <td>98401.09</td>\n",
       "      <td>79085.61</td>\n",
       "      <td>conventional</td>\n",
       "      <td>2015</td>\n",
       "      <td>GreatLakes</td>\n",
       "    </tr>\n",
       "    <tr>\n",
       "      <th>781</th>\n",
       "      <td>12/20/2015</td>\n",
       "      <td>1.01</td>\n",
       "      <td>2504745.45</td>\n",
       "      <td>383701.76</td>\n",
       "      <td>1337404.03</td>\n",
       "      <td>241580.61</td>\n",
       "      <td>542059.05</td>\n",
       "      <td>358218.65</td>\n",
       "      <td>122999.48</td>\n",
       "      <td>60840.92</td>\n",
       "      <td>conventional</td>\n",
       "      <td>2015</td>\n",
       "      <td>GreatLakes</td>\n",
       "    </tr>\n",
       "    <tr>\n",
       "      <th>782</th>\n",
       "      <td>12/13/2015</td>\n",
       "      <td>1.03</td>\n",
       "      <td>2608448.06</td>\n",
       "      <td>463349.67</td>\n",
       "      <td>1342449.84</td>\n",
       "      <td>228576.54</td>\n",
       "      <td>574072.01</td>\n",
       "      <td>409909.70</td>\n",
       "      <td>148004.93</td>\n",
       "      <td>16157.38</td>\n",
       "      <td>conventional</td>\n",
       "      <td>2015</td>\n",
       "      <td>GreatLakes</td>\n",
       "    </tr>\n",
       "    <tr>\n",
       "      <th>783</th>\n",
       "      <td>12/6/2015</td>\n",
       "      <td>1.00</td>\n",
       "      <td>2981347.20</td>\n",
       "      <td>401676.14</td>\n",
       "      <td>1680591.43</td>\n",
       "      <td>398320.64</td>\n",
       "      <td>500758.99</td>\n",
       "      <td>325850.00</td>\n",
       "      <td>124306.44</td>\n",
       "      <td>50602.55</td>\n",
       "      <td>conventional</td>\n",
       "      <td>2015</td>\n",
       "      <td>GreatLakes</td>\n",
       "    </tr>\n",
       "    <tr>\n",
       "      <th>784</th>\n",
       "      <td>11/29/2015</td>\n",
       "      <td>1.07</td>\n",
       "      <td>2198408.92</td>\n",
       "      <td>318661.40</td>\n",
       "      <td>1199426.12</td>\n",
       "      <td>248818.72</td>\n",
       "      <td>431502.68</td>\n",
       "      <td>328369.47</td>\n",
       "      <td>83149.01</td>\n",
       "      <td>19984.20</td>\n",
       "      <td>conventional</td>\n",
       "      <td>2015</td>\n",
       "      <td>GreatLakes</td>\n",
       "    </tr>\n",
       "  </tbody>\n",
       "</table>\n",
       "</div>"
      ],
      "text/plain": [
       "           Date  AveragePrice  Total Volume       4046        4225       4770  \\\n",
       "780  12/27/2015          1.01    2580602.96  336673.70  1411808.83  254629.93   \n",
       "781  12/20/2015          1.01    2504745.45  383701.76  1337404.03  241580.61   \n",
       "782  12/13/2015          1.03    2608448.06  463349.67  1342449.84  228576.54   \n",
       "783   12/6/2015          1.00    2981347.20  401676.14  1680591.43  398320.64   \n",
       "784  11/29/2015          1.07    2198408.92  318661.40  1199426.12  248818.72   \n",
       "\n",
       "     Total Bags  Small Bags  Large Bags  XLarge Bags          type  year  \\\n",
       "780   577490.50   400003.80    98401.09     79085.61  conventional  2015   \n",
       "781   542059.05   358218.65   122999.48     60840.92  conventional  2015   \n",
       "782   574072.01   409909.70   148004.93     16157.38  conventional  2015   \n",
       "783   500758.99   325850.00   124306.44     50602.55  conventional  2015   \n",
       "784   431502.68   328369.47    83149.01     19984.20  conventional  2015   \n",
       "\n",
       "         region  \n",
       "780  GreatLakes  \n",
       "781  GreatLakes  \n",
       "782  GreatLakes  \n",
       "783  GreatLakes  \n",
       "784  GreatLakes  "
      ]
     },
     "execution_count": 180,
     "metadata": {},
     "output_type": "execute_result"
    }
   ],
   "source": [
    "avocado_reg = avocado[avocado.region.isin(['GreatLakes', 'Midsouth', 'Northeast', 'Plains', 'Southeast', 'West'])]\n",
    "avocado_reg.head()"
   ]
  },
  {
   "cell_type": "code",
   "execution_count": 182,
   "id": "9446224a-a7e1-4028-adfc-b6b0fb459c94",
   "metadata": {},
   "outputs": [
    {
     "data": {
      "text/html": [
       "<div>\n",
       "<style scoped>\n",
       "    .dataframe tbody tr th:only-of-type {\n",
       "        vertical-align: middle;\n",
       "    }\n",
       "\n",
       "    .dataframe tbody tr th {\n",
       "        vertical-align: top;\n",
       "    }\n",
       "\n",
       "    .dataframe thead th {\n",
       "        text-align: right;\n",
       "    }\n",
       "</style>\n",
       "<table border=\"1\" class=\"dataframe\">\n",
       "  <thead>\n",
       "    <tr style=\"text-align: right;\">\n",
       "      <th></th>\n",
       "      <th>Date</th>\n",
       "      <th>AveragePrice</th>\n",
       "      <th>Total Volume</th>\n",
       "      <th>4046</th>\n",
       "      <th>4225</th>\n",
       "      <th>4770</th>\n",
       "      <th>Total Bags</th>\n",
       "      <th>Small Bags</th>\n",
       "      <th>Large Bags</th>\n",
       "      <th>XLarge Bags</th>\n",
       "      <th>type</th>\n",
       "      <th>year</th>\n",
       "      <th>region</th>\n",
       "      <th>typeR</th>\n",
       "    </tr>\n",
       "  </thead>\n",
       "  <tbody>\n",
       "    <tr>\n",
       "      <th>18232</th>\n",
       "      <td>2/4/2018</td>\n",
       "      <td>1.41</td>\n",
       "      <td>283378.47</td>\n",
       "      <td>22474.66</td>\n",
       "      <td>55360.49</td>\n",
       "      <td>133.41</td>\n",
       "      <td>205409.91</td>\n",
       "      <td>70232.59</td>\n",
       "      <td>134666.91</td>\n",
       "      <td>510.41</td>\n",
       "      <td>organic</td>\n",
       "      <td>2018</td>\n",
       "      <td>West</td>\n",
       "      <td>1</td>\n",
       "    </tr>\n",
       "    <tr>\n",
       "      <th>18233</th>\n",
       "      <td>1/28/2018</td>\n",
       "      <td>1.80</td>\n",
       "      <td>185974.53</td>\n",
       "      <td>22918.40</td>\n",
       "      <td>33051.14</td>\n",
       "      <td>93.52</td>\n",
       "      <td>129911.47</td>\n",
       "      <td>77822.23</td>\n",
       "      <td>51986.86</td>\n",
       "      <td>102.38</td>\n",
       "      <td>organic</td>\n",
       "      <td>2018</td>\n",
       "      <td>West</td>\n",
       "      <td>1</td>\n",
       "    </tr>\n",
       "    <tr>\n",
       "      <th>18234</th>\n",
       "      <td>1/21/2018</td>\n",
       "      <td>1.83</td>\n",
       "      <td>189317.99</td>\n",
       "      <td>27049.44</td>\n",
       "      <td>33561.32</td>\n",
       "      <td>439.47</td>\n",
       "      <td>128267.76</td>\n",
       "      <td>76091.99</td>\n",
       "      <td>51947.50</td>\n",
       "      <td>228.27</td>\n",
       "      <td>organic</td>\n",
       "      <td>2018</td>\n",
       "      <td>West</td>\n",
       "      <td>1</td>\n",
       "    </tr>\n",
       "    <tr>\n",
       "      <th>18235</th>\n",
       "      <td>1/14/2018</td>\n",
       "      <td>1.82</td>\n",
       "      <td>207999.67</td>\n",
       "      <td>33869.12</td>\n",
       "      <td>47435.14</td>\n",
       "      <td>433.52</td>\n",
       "      <td>126261.89</td>\n",
       "      <td>89115.78</td>\n",
       "      <td>37133.99</td>\n",
       "      <td>12.12</td>\n",
       "      <td>organic</td>\n",
       "      <td>2018</td>\n",
       "      <td>West</td>\n",
       "      <td>1</td>\n",
       "    </tr>\n",
       "    <tr>\n",
       "      <th>18236</th>\n",
       "      <td>1/7/2018</td>\n",
       "      <td>1.48</td>\n",
       "      <td>297190.60</td>\n",
       "      <td>34734.97</td>\n",
       "      <td>62967.74</td>\n",
       "      <td>157.77</td>\n",
       "      <td>199330.12</td>\n",
       "      <td>103761.55</td>\n",
       "      <td>95544.39</td>\n",
       "      <td>24.18</td>\n",
       "      <td>organic</td>\n",
       "      <td>2018</td>\n",
       "      <td>West</td>\n",
       "      <td>1</td>\n",
       "    </tr>\n",
       "  </tbody>\n",
       "</table>\n",
       "</div>"
      ],
      "text/plain": [
       "            Date  AveragePrice  Total Volume      4046      4225    4770  \\\n",
       "18232   2/4/2018          1.41     283378.47  22474.66  55360.49  133.41   \n",
       "18233  1/28/2018          1.80     185974.53  22918.40  33051.14   93.52   \n",
       "18234  1/21/2018          1.83     189317.99  27049.44  33561.32  439.47   \n",
       "18235  1/14/2018          1.82     207999.67  33869.12  47435.14  433.52   \n",
       "18236   1/7/2018          1.48     297190.60  34734.97  62967.74  157.77   \n",
       "\n",
       "       Total Bags  Small Bags  Large Bags  XLarge Bags     type  year region  \\\n",
       "18232   205409.91    70232.59   134666.91       510.41  organic  2018   West   \n",
       "18233   129911.47    77822.23    51986.86       102.38  organic  2018   West   \n",
       "18234   128267.76    76091.99    51947.50       228.27  organic  2018   West   \n",
       "18235   126261.89    89115.78    37133.99        12.12  organic  2018   West   \n",
       "18236   199330.12   103761.55    95544.39        24.18  organic  2018   West   \n",
       "\n",
       "       typeR  \n",
       "18232      1  \n",
       "18233      1  \n",
       "18234      1  \n",
       "18235      1  \n",
       "18236      1  "
      ]
     },
     "execution_count": 182,
     "metadata": {},
     "output_type": "execute_result"
    }
   ],
   "source": [
    "avocado_reg.tail()"
   ]
  },
  {
   "cell_type": "code",
   "execution_count": 186,
   "id": "35a9147c-cd10-41e5-a9c5-da1169303484",
   "metadata": {},
   "outputs": [
    {
     "data": {
      "text/plain": [
       "count           2028\n",
       "unique             6\n",
       "top       GreatLakes\n",
       "freq             338\n",
       "Name: region, dtype: object"
      ]
     },
     "execution_count": 186,
     "metadata": {},
     "output_type": "execute_result"
    }
   ],
   "source": [
    "avocado_reg.region.describe()"
   ]
  },
  {
   "cell_type": "code",
   "execution_count": 184,
   "id": "57a7f2fc-64b0-4b54-9dff-ada31d7bb2be",
   "metadata": {},
   "outputs": [
    {
     "data": {
      "text/plain": [
       "GreatLakes    338\n",
       "Midsouth      338\n",
       "Northeast     338\n",
       "Plains        338\n",
       "Southeast     338\n",
       "West          338\n",
       "Name: region, dtype: int64"
      ]
     },
     "execution_count": 184,
     "metadata": {},
     "output_type": "execute_result"
    }
   ],
   "source": [
    "avocado_reg.region.value_counts()"
   ]
  },
  {
   "cell_type": "markdown",
   "id": "b6269b2c-2e59-4dde-99ca-c9a90e951a7b",
   "metadata": {},
   "source": [
    "## Step Five (b) - Data Wrangling\n",
    "---\n",
    "#### recode 'type' and 'region' columns"
   ]
  },
  {
   "cell_type": "code",
   "execution_count": 212,
   "id": "e4fe97f4-ff8b-4290-856b-622a04369db6",
   "metadata": {},
   "outputs": [],
   "source": [
    "def recode(series):\n",
    "    if series == 'conventional':\n",
    "        return 0\n",
    "    if series == 'organic':\n",
    "        return 1\n",
    "    \n",
    "avocado_reg['typeR'] = avocado_reg['type'].apply(recode)"
   ]
  },
  {
   "cell_type": "code",
   "execution_count": 213,
   "id": "f21adb73-3fe0-43bb-8246-47d1b1489900",
   "metadata": {},
   "outputs": [
    {
     "data": {
      "text/html": [
       "<div>\n",
       "<style scoped>\n",
       "    .dataframe tbody tr th:only-of-type {\n",
       "        vertical-align: middle;\n",
       "    }\n",
       "\n",
       "    .dataframe tbody tr th {\n",
       "        vertical-align: top;\n",
       "    }\n",
       "\n",
       "    .dataframe thead th {\n",
       "        text-align: right;\n",
       "    }\n",
       "</style>\n",
       "<table border=\"1\" class=\"dataframe\">\n",
       "  <thead>\n",
       "    <tr style=\"text-align: right;\">\n",
       "      <th></th>\n",
       "      <th>Date</th>\n",
       "      <th>AveragePrice</th>\n",
       "      <th>Total Volume</th>\n",
       "      <th>4046</th>\n",
       "      <th>4225</th>\n",
       "      <th>4770</th>\n",
       "      <th>Total Bags</th>\n",
       "      <th>Small Bags</th>\n",
       "      <th>Large Bags</th>\n",
       "      <th>XLarge Bags</th>\n",
       "      <th>type</th>\n",
       "      <th>year</th>\n",
       "      <th>region</th>\n",
       "      <th>typeR</th>\n",
       "      <th>typeR1</th>\n",
       "      <th>regionR1</th>\n",
       "    </tr>\n",
       "  </thead>\n",
       "  <tbody>\n",
       "    <tr>\n",
       "      <th>780</th>\n",
       "      <td>12/27/2015</td>\n",
       "      <td>1.01</td>\n",
       "      <td>2580602.96</td>\n",
       "      <td>336673.70</td>\n",
       "      <td>1411808.83</td>\n",
       "      <td>254629.93</td>\n",
       "      <td>577490.50</td>\n",
       "      <td>400003.80</td>\n",
       "      <td>98401.09</td>\n",
       "      <td>79085.61</td>\n",
       "      <td>conventional</td>\n",
       "      <td>2015</td>\n",
       "      <td>GreatLakes</td>\n",
       "      <td>0</td>\n",
       "      <td>0</td>\n",
       "      <td>0</td>\n",
       "    </tr>\n",
       "    <tr>\n",
       "      <th>781</th>\n",
       "      <td>12/20/2015</td>\n",
       "      <td>1.01</td>\n",
       "      <td>2504745.45</td>\n",
       "      <td>383701.76</td>\n",
       "      <td>1337404.03</td>\n",
       "      <td>241580.61</td>\n",
       "      <td>542059.05</td>\n",
       "      <td>358218.65</td>\n",
       "      <td>122999.48</td>\n",
       "      <td>60840.92</td>\n",
       "      <td>conventional</td>\n",
       "      <td>2015</td>\n",
       "      <td>GreatLakes</td>\n",
       "      <td>0</td>\n",
       "      <td>0</td>\n",
       "      <td>0</td>\n",
       "    </tr>\n",
       "    <tr>\n",
       "      <th>782</th>\n",
       "      <td>12/13/2015</td>\n",
       "      <td>1.03</td>\n",
       "      <td>2608448.06</td>\n",
       "      <td>463349.67</td>\n",
       "      <td>1342449.84</td>\n",
       "      <td>228576.54</td>\n",
       "      <td>574072.01</td>\n",
       "      <td>409909.70</td>\n",
       "      <td>148004.93</td>\n",
       "      <td>16157.38</td>\n",
       "      <td>conventional</td>\n",
       "      <td>2015</td>\n",
       "      <td>GreatLakes</td>\n",
       "      <td>0</td>\n",
       "      <td>0</td>\n",
       "      <td>0</td>\n",
       "    </tr>\n",
       "    <tr>\n",
       "      <th>783</th>\n",
       "      <td>12/6/2015</td>\n",
       "      <td>1.00</td>\n",
       "      <td>2981347.20</td>\n",
       "      <td>401676.14</td>\n",
       "      <td>1680591.43</td>\n",
       "      <td>398320.64</td>\n",
       "      <td>500758.99</td>\n",
       "      <td>325850.00</td>\n",
       "      <td>124306.44</td>\n",
       "      <td>50602.55</td>\n",
       "      <td>conventional</td>\n",
       "      <td>2015</td>\n",
       "      <td>GreatLakes</td>\n",
       "      <td>0</td>\n",
       "      <td>0</td>\n",
       "      <td>0</td>\n",
       "    </tr>\n",
       "    <tr>\n",
       "      <th>784</th>\n",
       "      <td>11/29/2015</td>\n",
       "      <td>1.07</td>\n",
       "      <td>2198408.92</td>\n",
       "      <td>318661.40</td>\n",
       "      <td>1199426.12</td>\n",
       "      <td>248818.72</td>\n",
       "      <td>431502.68</td>\n",
       "      <td>328369.47</td>\n",
       "      <td>83149.01</td>\n",
       "      <td>19984.20</td>\n",
       "      <td>conventional</td>\n",
       "      <td>2015</td>\n",
       "      <td>GreatLakes</td>\n",
       "      <td>0</td>\n",
       "      <td>0</td>\n",
       "      <td>0</td>\n",
       "    </tr>\n",
       "  </tbody>\n",
       "</table>\n",
       "</div>"
      ],
      "text/plain": [
       "           Date  AveragePrice  Total Volume       4046        4225       4770  \\\n",
       "780  12/27/2015          1.01    2580602.96  336673.70  1411808.83  254629.93   \n",
       "781  12/20/2015          1.01    2504745.45  383701.76  1337404.03  241580.61   \n",
       "782  12/13/2015          1.03    2608448.06  463349.67  1342449.84  228576.54   \n",
       "783   12/6/2015          1.00    2981347.20  401676.14  1680591.43  398320.64   \n",
       "784  11/29/2015          1.07    2198408.92  318661.40  1199426.12  248818.72   \n",
       "\n",
       "     Total Bags  Small Bags  Large Bags  XLarge Bags          type  year  \\\n",
       "780   577490.50   400003.80    98401.09     79085.61  conventional  2015   \n",
       "781   542059.05   358218.65   122999.48     60840.92  conventional  2015   \n",
       "782   574072.01   409909.70   148004.93     16157.38  conventional  2015   \n",
       "783   500758.99   325850.00   124306.44     50602.55  conventional  2015   \n",
       "784   431502.68   328369.47    83149.01     19984.20  conventional  2015   \n",
       "\n",
       "         region  typeR  typeR1  regionR1  \n",
       "780  GreatLakes      0       0         0  \n",
       "781  GreatLakes      0       0         0  \n",
       "782  GreatLakes      0       0         0  \n",
       "783  GreatLakes      0       0         0  \n",
       "784  GreatLakes      0       0         0  "
      ]
     },
     "execution_count": 213,
     "metadata": {},
     "output_type": "execute_result"
    }
   ],
   "source": [
    "avocado_reg.head()"
   ]
  },
  {
   "cell_type": "code",
   "execution_count": 214,
   "id": "e7c61b37-8830-4e26-bdb4-4a655a7cbeac",
   "metadata": {},
   "outputs": [
    {
     "data": {
      "text/html": [
       "<div>\n",
       "<style scoped>\n",
       "    .dataframe tbody tr th:only-of-type {\n",
       "        vertical-align: middle;\n",
       "    }\n",
       "\n",
       "    .dataframe tbody tr th {\n",
       "        vertical-align: top;\n",
       "    }\n",
       "\n",
       "    .dataframe thead th {\n",
       "        text-align: right;\n",
       "    }\n",
       "</style>\n",
       "<table border=\"1\" class=\"dataframe\">\n",
       "  <thead>\n",
       "    <tr style=\"text-align: right;\">\n",
       "      <th></th>\n",
       "      <th>Date</th>\n",
       "      <th>AveragePrice</th>\n",
       "      <th>Total Volume</th>\n",
       "      <th>4046</th>\n",
       "      <th>4225</th>\n",
       "      <th>4770</th>\n",
       "      <th>Total Bags</th>\n",
       "      <th>Small Bags</th>\n",
       "      <th>Large Bags</th>\n",
       "      <th>XLarge Bags</th>\n",
       "      <th>type</th>\n",
       "      <th>year</th>\n",
       "      <th>region</th>\n",
       "      <th>typeR</th>\n",
       "      <th>typeR1</th>\n",
       "      <th>regionR1</th>\n",
       "    </tr>\n",
       "  </thead>\n",
       "  <tbody>\n",
       "    <tr>\n",
       "      <th>18232</th>\n",
       "      <td>2/4/2018</td>\n",
       "      <td>1.41</td>\n",
       "      <td>283378.47</td>\n",
       "      <td>22474.66</td>\n",
       "      <td>55360.49</td>\n",
       "      <td>133.41</td>\n",
       "      <td>205409.91</td>\n",
       "      <td>70232.59</td>\n",
       "      <td>134666.91</td>\n",
       "      <td>510.41</td>\n",
       "      <td>organic</td>\n",
       "      <td>2018</td>\n",
       "      <td>West</td>\n",
       "      <td>1</td>\n",
       "      <td>1</td>\n",
       "      <td>5</td>\n",
       "    </tr>\n",
       "    <tr>\n",
       "      <th>18233</th>\n",
       "      <td>1/28/2018</td>\n",
       "      <td>1.80</td>\n",
       "      <td>185974.53</td>\n",
       "      <td>22918.40</td>\n",
       "      <td>33051.14</td>\n",
       "      <td>93.52</td>\n",
       "      <td>129911.47</td>\n",
       "      <td>77822.23</td>\n",
       "      <td>51986.86</td>\n",
       "      <td>102.38</td>\n",
       "      <td>organic</td>\n",
       "      <td>2018</td>\n",
       "      <td>West</td>\n",
       "      <td>1</td>\n",
       "      <td>1</td>\n",
       "      <td>5</td>\n",
       "    </tr>\n",
       "    <tr>\n",
       "      <th>18234</th>\n",
       "      <td>1/21/2018</td>\n",
       "      <td>1.83</td>\n",
       "      <td>189317.99</td>\n",
       "      <td>27049.44</td>\n",
       "      <td>33561.32</td>\n",
       "      <td>439.47</td>\n",
       "      <td>128267.76</td>\n",
       "      <td>76091.99</td>\n",
       "      <td>51947.50</td>\n",
       "      <td>228.27</td>\n",
       "      <td>organic</td>\n",
       "      <td>2018</td>\n",
       "      <td>West</td>\n",
       "      <td>1</td>\n",
       "      <td>1</td>\n",
       "      <td>5</td>\n",
       "    </tr>\n",
       "    <tr>\n",
       "      <th>18235</th>\n",
       "      <td>1/14/2018</td>\n",
       "      <td>1.82</td>\n",
       "      <td>207999.67</td>\n",
       "      <td>33869.12</td>\n",
       "      <td>47435.14</td>\n",
       "      <td>433.52</td>\n",
       "      <td>126261.89</td>\n",
       "      <td>89115.78</td>\n",
       "      <td>37133.99</td>\n",
       "      <td>12.12</td>\n",
       "      <td>organic</td>\n",
       "      <td>2018</td>\n",
       "      <td>West</td>\n",
       "      <td>1</td>\n",
       "      <td>1</td>\n",
       "      <td>5</td>\n",
       "    </tr>\n",
       "    <tr>\n",
       "      <th>18236</th>\n",
       "      <td>1/7/2018</td>\n",
       "      <td>1.48</td>\n",
       "      <td>297190.60</td>\n",
       "      <td>34734.97</td>\n",
       "      <td>62967.74</td>\n",
       "      <td>157.77</td>\n",
       "      <td>199330.12</td>\n",
       "      <td>103761.55</td>\n",
       "      <td>95544.39</td>\n",
       "      <td>24.18</td>\n",
       "      <td>organic</td>\n",
       "      <td>2018</td>\n",
       "      <td>West</td>\n",
       "      <td>1</td>\n",
       "      <td>1</td>\n",
       "      <td>5</td>\n",
       "    </tr>\n",
       "  </tbody>\n",
       "</table>\n",
       "</div>"
      ],
      "text/plain": [
       "            Date  AveragePrice  Total Volume      4046      4225    4770  \\\n",
       "18232   2/4/2018          1.41     283378.47  22474.66  55360.49  133.41   \n",
       "18233  1/28/2018          1.80     185974.53  22918.40  33051.14   93.52   \n",
       "18234  1/21/2018          1.83     189317.99  27049.44  33561.32  439.47   \n",
       "18235  1/14/2018          1.82     207999.67  33869.12  47435.14  433.52   \n",
       "18236   1/7/2018          1.48     297190.60  34734.97  62967.74  157.77   \n",
       "\n",
       "       Total Bags  Small Bags  Large Bags  XLarge Bags     type  year region  \\\n",
       "18232   205409.91    70232.59   134666.91       510.41  organic  2018   West   \n",
       "18233   129911.47    77822.23    51986.86       102.38  organic  2018   West   \n",
       "18234   128267.76    76091.99    51947.50       228.27  organic  2018   West   \n",
       "18235   126261.89    89115.78    37133.99        12.12  organic  2018   West   \n",
       "18236   199330.12   103761.55    95544.39        24.18  organic  2018   West   \n",
       "\n",
       "       typeR  typeR1  regionR1  \n",
       "18232      1       1         5  \n",
       "18233      1       1         5  \n",
       "18234      1       1         5  \n",
       "18235      1       1         5  \n",
       "18236      1       1         5  "
      ]
     },
     "execution_count": 214,
     "metadata": {},
     "output_type": "execute_result"
    }
   ],
   "source": [
    "avocado_reg.tail()"
   ]
  },
  {
   "cell_type": "code",
   "execution_count": 215,
   "id": "2b30544e-fb86-4825-ad12-4fb5f10da428",
   "metadata": {},
   "outputs": [
    {
     "data": {
      "text/plain": [
       "0    1014\n",
       "1    1014\n",
       "Name: typeR, dtype: int64"
      ]
     },
     "execution_count": 215,
     "metadata": {},
     "output_type": "execute_result"
    }
   ],
   "source": [
    "avocado_reg.typeR.value_counts()"
   ]
  },
  {
   "cell_type": "code",
   "execution_count": 216,
   "id": "1a3f3cb1-b9d1-44f8-aa1b-6106d815fdf5",
   "metadata": {},
   "outputs": [],
   "source": [
    "def recode(series):\n",
    "    if series == 'GreatLakes':\n",
    "        return 0\n",
    "    if series == 'Midsouth':\n",
    "        return 1\n",
    "    if series == 'Northeast':\n",
    "        return 2\n",
    "    if series == 'Plains':\n",
    "        return 3\n",
    "    if series == 'Southeast':\n",
    "        return 4\n",
    "    if series == 'West':\n",
    "        return 5\n",
    "    \n",
    "avocado_reg['regionR1'] = avocado_reg['region'].apply(recode)"
   ]
  },
  {
   "cell_type": "code",
   "execution_count": 217,
   "id": "ef5866ce-e5c2-477d-9583-2a9d29caa940",
   "metadata": {},
   "outputs": [
    {
     "data": {
      "text/html": [
       "<div>\n",
       "<style scoped>\n",
       "    .dataframe tbody tr th:only-of-type {\n",
       "        vertical-align: middle;\n",
       "    }\n",
       "\n",
       "    .dataframe tbody tr th {\n",
       "        vertical-align: top;\n",
       "    }\n",
       "\n",
       "    .dataframe thead th {\n",
       "        text-align: right;\n",
       "    }\n",
       "</style>\n",
       "<table border=\"1\" class=\"dataframe\">\n",
       "  <thead>\n",
       "    <tr style=\"text-align: right;\">\n",
       "      <th></th>\n",
       "      <th>Date</th>\n",
       "      <th>AveragePrice</th>\n",
       "      <th>Total Volume</th>\n",
       "      <th>4046</th>\n",
       "      <th>4225</th>\n",
       "      <th>4770</th>\n",
       "      <th>Total Bags</th>\n",
       "      <th>Small Bags</th>\n",
       "      <th>Large Bags</th>\n",
       "      <th>XLarge Bags</th>\n",
       "      <th>type</th>\n",
       "      <th>year</th>\n",
       "      <th>region</th>\n",
       "      <th>typeR</th>\n",
       "      <th>typeR1</th>\n",
       "      <th>regionR1</th>\n",
       "    </tr>\n",
       "  </thead>\n",
       "  <tbody>\n",
       "    <tr>\n",
       "      <th>780</th>\n",
       "      <td>12/27/2015</td>\n",
       "      <td>1.01</td>\n",
       "      <td>2580602.96</td>\n",
       "      <td>336673.70</td>\n",
       "      <td>1411808.83</td>\n",
       "      <td>254629.93</td>\n",
       "      <td>577490.50</td>\n",
       "      <td>400003.80</td>\n",
       "      <td>98401.09</td>\n",
       "      <td>79085.61</td>\n",
       "      <td>conventional</td>\n",
       "      <td>2015</td>\n",
       "      <td>GreatLakes</td>\n",
       "      <td>0</td>\n",
       "      <td>0</td>\n",
       "      <td>0</td>\n",
       "    </tr>\n",
       "    <tr>\n",
       "      <th>781</th>\n",
       "      <td>12/20/2015</td>\n",
       "      <td>1.01</td>\n",
       "      <td>2504745.45</td>\n",
       "      <td>383701.76</td>\n",
       "      <td>1337404.03</td>\n",
       "      <td>241580.61</td>\n",
       "      <td>542059.05</td>\n",
       "      <td>358218.65</td>\n",
       "      <td>122999.48</td>\n",
       "      <td>60840.92</td>\n",
       "      <td>conventional</td>\n",
       "      <td>2015</td>\n",
       "      <td>GreatLakes</td>\n",
       "      <td>0</td>\n",
       "      <td>0</td>\n",
       "      <td>0</td>\n",
       "    </tr>\n",
       "    <tr>\n",
       "      <th>782</th>\n",
       "      <td>12/13/2015</td>\n",
       "      <td>1.03</td>\n",
       "      <td>2608448.06</td>\n",
       "      <td>463349.67</td>\n",
       "      <td>1342449.84</td>\n",
       "      <td>228576.54</td>\n",
       "      <td>574072.01</td>\n",
       "      <td>409909.70</td>\n",
       "      <td>148004.93</td>\n",
       "      <td>16157.38</td>\n",
       "      <td>conventional</td>\n",
       "      <td>2015</td>\n",
       "      <td>GreatLakes</td>\n",
       "      <td>0</td>\n",
       "      <td>0</td>\n",
       "      <td>0</td>\n",
       "    </tr>\n",
       "    <tr>\n",
       "      <th>783</th>\n",
       "      <td>12/6/2015</td>\n",
       "      <td>1.00</td>\n",
       "      <td>2981347.20</td>\n",
       "      <td>401676.14</td>\n",
       "      <td>1680591.43</td>\n",
       "      <td>398320.64</td>\n",
       "      <td>500758.99</td>\n",
       "      <td>325850.00</td>\n",
       "      <td>124306.44</td>\n",
       "      <td>50602.55</td>\n",
       "      <td>conventional</td>\n",
       "      <td>2015</td>\n",
       "      <td>GreatLakes</td>\n",
       "      <td>0</td>\n",
       "      <td>0</td>\n",
       "      <td>0</td>\n",
       "    </tr>\n",
       "    <tr>\n",
       "      <th>784</th>\n",
       "      <td>11/29/2015</td>\n",
       "      <td>1.07</td>\n",
       "      <td>2198408.92</td>\n",
       "      <td>318661.40</td>\n",
       "      <td>1199426.12</td>\n",
       "      <td>248818.72</td>\n",
       "      <td>431502.68</td>\n",
       "      <td>328369.47</td>\n",
       "      <td>83149.01</td>\n",
       "      <td>19984.20</td>\n",
       "      <td>conventional</td>\n",
       "      <td>2015</td>\n",
       "      <td>GreatLakes</td>\n",
       "      <td>0</td>\n",
       "      <td>0</td>\n",
       "      <td>0</td>\n",
       "    </tr>\n",
       "  </tbody>\n",
       "</table>\n",
       "</div>"
      ],
      "text/plain": [
       "           Date  AveragePrice  Total Volume       4046        4225       4770  \\\n",
       "780  12/27/2015          1.01    2580602.96  336673.70  1411808.83  254629.93   \n",
       "781  12/20/2015          1.01    2504745.45  383701.76  1337404.03  241580.61   \n",
       "782  12/13/2015          1.03    2608448.06  463349.67  1342449.84  228576.54   \n",
       "783   12/6/2015          1.00    2981347.20  401676.14  1680591.43  398320.64   \n",
       "784  11/29/2015          1.07    2198408.92  318661.40  1199426.12  248818.72   \n",
       "\n",
       "     Total Bags  Small Bags  Large Bags  XLarge Bags          type  year  \\\n",
       "780   577490.50   400003.80    98401.09     79085.61  conventional  2015   \n",
       "781   542059.05   358218.65   122999.48     60840.92  conventional  2015   \n",
       "782   574072.01   409909.70   148004.93     16157.38  conventional  2015   \n",
       "783   500758.99   325850.00   124306.44     50602.55  conventional  2015   \n",
       "784   431502.68   328369.47    83149.01     19984.20  conventional  2015   \n",
       "\n",
       "         region  typeR  typeR1  regionR1  \n",
       "780  GreatLakes      0       0         0  \n",
       "781  GreatLakes      0       0         0  \n",
       "782  GreatLakes      0       0         0  \n",
       "783  GreatLakes      0       0         0  \n",
       "784  GreatLakes      0       0         0  "
      ]
     },
     "execution_count": 217,
     "metadata": {},
     "output_type": "execute_result"
    }
   ],
   "source": [
    "avocado_reg.head()"
   ]
  },
  {
   "cell_type": "code",
   "execution_count": 218,
   "id": "cbbe683b-6382-4044-b5eb-503fb8043792",
   "metadata": {},
   "outputs": [
    {
     "data": {
      "text/plain": [
       "array([0, 1, 2, 3, 4, 5], dtype=int64)"
      ]
     },
     "execution_count": 218,
     "metadata": {},
     "output_type": "execute_result"
    }
   ],
   "source": [
    "avocado_reg.regionR1.unique()"
   ]
  },
  {
   "cell_type": "code",
   "execution_count": 219,
   "id": "4b1af828-0bdc-4b0d-b7b0-b6a09c07c1c6",
   "metadata": {},
   "outputs": [
    {
     "data": {
      "text/plain": [
       "0    338\n",
       "1    338\n",
       "2    338\n",
       "3    338\n",
       "4    338\n",
       "5    338\n",
       "Name: regionR1, dtype: int64"
      ]
     },
     "execution_count": 219,
     "metadata": {},
     "output_type": "execute_result"
    }
   ],
   "source": [
    "avocado_reg.regionR1.value_counts()"
   ]
  },
  {
   "cell_type": "code",
   "execution_count": 220,
   "id": "40666da1-bb7f-47b1-ac98-ceb24787a90a",
   "metadata": {},
   "outputs": [
    {
     "data": {
      "text/html": [
       "<div>\n",
       "<style scoped>\n",
       "    .dataframe tbody tr th:only-of-type {\n",
       "        vertical-align: middle;\n",
       "    }\n",
       "\n",
       "    .dataframe tbody tr th {\n",
       "        vertical-align: top;\n",
       "    }\n",
       "\n",
       "    .dataframe thead th {\n",
       "        text-align: right;\n",
       "    }\n",
       "</style>\n",
       "<table border=\"1\" class=\"dataframe\">\n",
       "  <thead>\n",
       "    <tr style=\"text-align: right;\">\n",
       "      <th></th>\n",
       "      <th>Date</th>\n",
       "      <th>AveragePrice</th>\n",
       "      <th>Total Volume</th>\n",
       "      <th>4046</th>\n",
       "      <th>4225</th>\n",
       "      <th>4770</th>\n",
       "      <th>Total Bags</th>\n",
       "      <th>Small Bags</th>\n",
       "      <th>Large Bags</th>\n",
       "      <th>XLarge Bags</th>\n",
       "      <th>type</th>\n",
       "      <th>year</th>\n",
       "      <th>region</th>\n",
       "      <th>typeR</th>\n",
       "      <th>typeR1</th>\n",
       "      <th>regionR1</th>\n",
       "    </tr>\n",
       "  </thead>\n",
       "  <tbody>\n",
       "    <tr>\n",
       "      <th>780</th>\n",
       "      <td>12/27/2015</td>\n",
       "      <td>1.01</td>\n",
       "      <td>2580602.96</td>\n",
       "      <td>336673.70</td>\n",
       "      <td>1411808.83</td>\n",
       "      <td>254629.93</td>\n",
       "      <td>577490.50</td>\n",
       "      <td>400003.80</td>\n",
       "      <td>98401.09</td>\n",
       "      <td>79085.61</td>\n",
       "      <td>conventional</td>\n",
       "      <td>2015</td>\n",
       "      <td>GreatLakes</td>\n",
       "      <td>0</td>\n",
       "      <td>0</td>\n",
       "      <td>0</td>\n",
       "    </tr>\n",
       "    <tr>\n",
       "      <th>781</th>\n",
       "      <td>12/20/2015</td>\n",
       "      <td>1.01</td>\n",
       "      <td>2504745.45</td>\n",
       "      <td>383701.76</td>\n",
       "      <td>1337404.03</td>\n",
       "      <td>241580.61</td>\n",
       "      <td>542059.05</td>\n",
       "      <td>358218.65</td>\n",
       "      <td>122999.48</td>\n",
       "      <td>60840.92</td>\n",
       "      <td>conventional</td>\n",
       "      <td>2015</td>\n",
       "      <td>GreatLakes</td>\n",
       "      <td>0</td>\n",
       "      <td>0</td>\n",
       "      <td>0</td>\n",
       "    </tr>\n",
       "    <tr>\n",
       "      <th>782</th>\n",
       "      <td>12/13/2015</td>\n",
       "      <td>1.03</td>\n",
       "      <td>2608448.06</td>\n",
       "      <td>463349.67</td>\n",
       "      <td>1342449.84</td>\n",
       "      <td>228576.54</td>\n",
       "      <td>574072.01</td>\n",
       "      <td>409909.70</td>\n",
       "      <td>148004.93</td>\n",
       "      <td>16157.38</td>\n",
       "      <td>conventional</td>\n",
       "      <td>2015</td>\n",
       "      <td>GreatLakes</td>\n",
       "      <td>0</td>\n",
       "      <td>0</td>\n",
       "      <td>0</td>\n",
       "    </tr>\n",
       "    <tr>\n",
       "      <th>783</th>\n",
       "      <td>12/6/2015</td>\n",
       "      <td>1.00</td>\n",
       "      <td>2981347.20</td>\n",
       "      <td>401676.14</td>\n",
       "      <td>1680591.43</td>\n",
       "      <td>398320.64</td>\n",
       "      <td>500758.99</td>\n",
       "      <td>325850.00</td>\n",
       "      <td>124306.44</td>\n",
       "      <td>50602.55</td>\n",
       "      <td>conventional</td>\n",
       "      <td>2015</td>\n",
       "      <td>GreatLakes</td>\n",
       "      <td>0</td>\n",
       "      <td>0</td>\n",
       "      <td>0</td>\n",
       "    </tr>\n",
       "    <tr>\n",
       "      <th>784</th>\n",
       "      <td>11/29/2015</td>\n",
       "      <td>1.07</td>\n",
       "      <td>2198408.92</td>\n",
       "      <td>318661.40</td>\n",
       "      <td>1199426.12</td>\n",
       "      <td>248818.72</td>\n",
       "      <td>431502.68</td>\n",
       "      <td>328369.47</td>\n",
       "      <td>83149.01</td>\n",
       "      <td>19984.20</td>\n",
       "      <td>conventional</td>\n",
       "      <td>2015</td>\n",
       "      <td>GreatLakes</td>\n",
       "      <td>0</td>\n",
       "      <td>0</td>\n",
       "      <td>0</td>\n",
       "    </tr>\n",
       "  </tbody>\n",
       "</table>\n",
       "</div>"
      ],
      "text/plain": [
       "           Date  AveragePrice  Total Volume       4046        4225       4770  \\\n",
       "780  12/27/2015          1.01    2580602.96  336673.70  1411808.83  254629.93   \n",
       "781  12/20/2015          1.01    2504745.45  383701.76  1337404.03  241580.61   \n",
       "782  12/13/2015          1.03    2608448.06  463349.67  1342449.84  228576.54   \n",
       "783   12/6/2015          1.00    2981347.20  401676.14  1680591.43  398320.64   \n",
       "784  11/29/2015          1.07    2198408.92  318661.40  1199426.12  248818.72   \n",
       "\n",
       "     Total Bags  Small Bags  Large Bags  XLarge Bags          type  year  \\\n",
       "780   577490.50   400003.80    98401.09     79085.61  conventional  2015   \n",
       "781   542059.05   358218.65   122999.48     60840.92  conventional  2015   \n",
       "782   574072.01   409909.70   148004.93     16157.38  conventional  2015   \n",
       "783   500758.99   325850.00   124306.44     50602.55  conventional  2015   \n",
       "784   431502.68   328369.47    83149.01     19984.20  conventional  2015   \n",
       "\n",
       "         region  typeR  typeR1  regionR1  \n",
       "780  GreatLakes      0       0         0  \n",
       "781  GreatLakes      0       0         0  \n",
       "782  GreatLakes      0       0         0  \n",
       "783  GreatLakes      0       0         0  \n",
       "784  GreatLakes      0       0         0  "
      ]
     },
     "execution_count": 220,
     "metadata": {},
     "output_type": "execute_result"
    }
   ],
   "source": [
    "avocado_reg.head()"
   ]
  },
  {
   "cell_type": "markdown",
   "id": "06b43e5b-9ad4-44aa-996f-0fc58b64a5c6",
   "metadata": {},
   "source": [
    "## Step Six c ANOVA\n",
    "---\n",
    "#### Test for assumptions\n",
    "\n",
    "- Normality\n",
    "- Homogeneity of Variance\n",
    "- Sample Size > 20\n",
    "- Independence\n",
    "- Sphercity"
   ]
  },
  {
   "cell_type": "code",
   "execution_count": 228,
   "id": "d56a7a93-e741-4623-a211-a51f7286d9d7",
   "metadata": {},
   "outputs": [
    {
     "data": {
      "text/plain": [
       "<seaborn.axisgrid.FacetGrid at 0x1dbe047d4d0>"
      ]
     },
     "execution_count": 228,
     "metadata": {},
     "output_type": "execute_result"
    },
    {
     "data": {
      "image/png": "[encoded data removed]",
      "text/plain": [
       "<Figure size 500x500 with 1 Axes>"
      ]
     },
     "metadata": {},
     "output_type": "display_data"
    },
    {
     "data": {
      "image/png": "[encoded data removed]",
      "text/plain": [
       "<Figure size 500x500 with 1 Axes>"
      ]
     },
     "metadata": {},
     "output_type": "display_data"
    },
    {
     "data": {
      "image/png": "[encoded data removed]",
      "text/plain": [
       "<Figure size 500x500 with 1 Axes>"
      ]
     },
     "metadata": {},
     "output_type": "display_data"
    }
   ],
   "source": [
    "plt.style.use('fivethirtyeight')\n",
    "\n",
    "#Without Transformation\n",
    "sns.displot(avocado_reg['Total Bags'], kde = True).set(title='Without Transformation')\n",
    "\n",
    "#With Square Root Transformation\n",
    "sns.displot(np.sqrt(avocado_reg['Total Bags']), kde = True).set(title='With Square Root Transformation')\n",
    "\n",
    "#With Log Transformation\n",
    "sns.displot(np.log(avocado_reg['Total Bags']), kde = True).set(title='With Log Transformation')"
   ]
  },
  {
   "cell_type": "code",
   "execution_count": 260,
   "id": "a74fbe9a-5191-45b9-b9ca-90bb5a8300b6",
   "metadata": {
    "tags": []
   },
   "outputs": [],
   "source": [
    "#perform log transformation\n",
    "avocado_reg['Total Bags_log'] = np.log(avocado_reg['Total Bags'])"
   ]
  },
  {
   "cell_type": "code",
   "execution_count": 261,
   "id": "3fc3d866-b7fc-4bb4-8afa-44043802a471",
   "metadata": {},
   "outputs": [
    {
     "name": "stdout",
     "output_type": "stream",
     "text": [
      "780      13.266447\n",
      "781      13.203130\n",
      "782      13.260510\n",
      "783      13.123880\n",
      "784      12.975029\n",
      "           ...    \n",
      "18232    12.232763\n",
      "18233    11.774608\n",
      "18234    11.761875\n",
      "18235    11.746114\n",
      "18236    12.202718\n",
      "Name: Total Bags_log, Length: 2028, dtype: float64\n"
     ]
    }
   ],
   "source": [
    "print(avocado_reg['Total Bags_log'])"
   ]
  },
  {
   "cell_type": "code",
   "execution_count": 262,
   "id": "1c67bbf6-460c-4174-8df9-2705c9844fcf",
   "metadata": {
    "tags": []
   },
   "outputs": [
    {
     "data": {
      "text/plain": [
       "BartlettResult(statistic=0.35006795600717766, pvalue=0.5540746643459303)"
      ]
     },
     "execution_count": 262,
     "metadata": {},
     "output_type": "execute_result"
    }
   ],
   "source": [
    "bartlett(avocado_reg[\"Total Bags_log\"], avocado_reg[\"regionR1\"])"
   ]
  },
  {
   "cell_type": "code",
   "execution_count": 263,
   "id": "a37ca473-d2c8-4819-9cf3-855c72958c6f",
   "metadata": {},
   "outputs": [
    {
     "data": {
      "text/plain": [
       "BartlettResult(statistic=49536.79042771479, pvalue=0.0)"
      ]
     },
     "execution_count": 263,
     "metadata": {},
     "output_type": "execute_result"
    }
   ],
   "source": [
    "bartlett(avocado_reg[\"Total Bags\"], avocado_reg[\"regionR1\"])"
   ]
  },
  {
   "cell_type": "code",
   "execution_count": 405,
   "id": "c49d58e2-edcd-403d-b547-e72cd089958c",
   "metadata": {},
   "outputs": [],
   "source": [
    "#explain your results\n",
    "#. In the first finding had a p-value of 0.55, so there is no difference in variances among the different regions. \n",
    "\n",
    "#In contrast, the second one had a p-value of 0. This suggests that there is a significant difference in variances among the different regions. \n",
    "\n"
   ]
  },
  {
   "cell_type": "code",
   "execution_count": 265,
   "id": "8dd96ef7-147a-419a-8f46-2ea06ec1f6a3",
   "metadata": {},
   "outputs": [],
   "source": [
    "#Sample size: must have a least 20 cases per independent variable\n",
    "#Independence: no overlap between your groups and that the levels you are testing are not related in some way\n",
    "#Sphericity: (for between subjects designs only, usually when you are dealing with the same variables at different times)"
   ]
  },
  {
   "cell_type": "code",
   "execution_count": 266,
   "id": "1e894bbc-38d5-465b-8c3b-8802061e0a1f",
   "metadata": {},
   "outputs": [
    {
     "data": {
      "text/plain": [
       "F_onewayResult(statistic=64.17048365271323, pvalue=2.665653922815615e-62)"
      ]
     },
     "execution_count": 266,
     "metadata": {},
     "output_type": "execute_result"
    }
   ],
   "source": [
    "f_oneway(\n",
    "    avocado[\"Total Bags\"][avocado[\"region\"]=='GreatLakes'],\n",
    "    avocado[\"Total Bags\"][avocado[\"region\"]=='Midsouth'],\n",
    "    avocado[\"Total Bags\"][avocado[\"region\"]=='Northeast'],\n",
    "    avocado[\"Total Bags\"][avocado[\"region\"]=='Plains'],\n",
    "    avocado[\"Total Bags\"][avocado[\"region\"]=='Southeast'],\n",
    "    avocado[\"Total Bags\"][avocado[\"region\"]=='West']\n",
    ")"
   ]
  },
  {
   "cell_type": "code",
   "execution_count": 406,
   "id": "fcb64f7b-c72e-431e-b2f6-f6d4d885c381",
   "metadata": {},
   "outputs": [],
   "source": [
    "#explain your results\n",
    "#the p-value is tiny , it is against the null hypothesis that the means are equal. \n"
   ]
  },
  {
   "cell_type": "code",
   "execution_count": 269,
   "id": "8fd364a0-858c-4645-a592-c308a91e8923",
   "metadata": {},
   "outputs": [
    {
     "name": "stdout",
     "output_type": "stream",
     "text": [
      "    Multiple Comparison of Means - Tukey HSD, FWER=0.05    \n",
      "===========================================================\n",
      "  group1     group2  meandiff p-adj   lower   upper  reject\n",
      "-----------------------------------------------------------\n",
      "GreatLakes  Midsouth  -0.0136    1.0 -0.3708  0.3437  False\n",
      "GreatLakes Northeast   0.3348 0.0812 -0.0225   0.692  False\n",
      "GreatLakes    Plains  -0.7378    0.0 -1.0951 -0.3806   True\n",
      "GreatLakes Southeast  -0.1777 0.7154  -0.535  0.1795  False\n",
      "GreatLakes      West   0.7071    0.0  0.3498  1.0644   True\n",
      "  Midsouth Northeast   0.3483 0.0609 -0.0089  0.7056  False\n",
      "  Midsouth    Plains  -0.7243    0.0 -1.0815  -0.367   True\n",
      "  Midsouth Southeast  -0.1642 0.7792 -0.5214  0.1931  False\n",
      "  Midsouth      West   0.7207    0.0  0.3634  1.0779   True\n",
      " Northeast    Plains  -1.0726    0.0 -1.4299 -0.7153   True\n",
      " Northeast Southeast  -0.5125 0.0006 -0.8698 -0.1552   True\n",
      " Northeast      West   0.3723 0.0353  0.0151  0.7296   True\n",
      "    Plains Southeast   0.5601 0.0001  0.2028  0.9174   True\n",
      "    Plains      West   1.4449    0.0  1.0877  1.8022   True\n",
      " Southeast      West   0.8848    0.0  0.5276  1.2421   True\n",
      "-----------------------------------------------------------\n"
     ]
    }
   ],
   "source": [
    "postHocResults_reg_l = MultiComparison(avocado_reg[\"Total Bags_log\"], avocado_reg[\"region\"]).tukeyhsd()\n",
    "print(postHocResults_reg_l)"
   ]
  },
  {
   "cell_type": "code",
   "execution_count": 258,
   "id": "2dac7813-c30f-4b23-86e5-456d02d79e70",
   "metadata": {},
   "outputs": [],
   "source": [
    "postHocResults_reg = MultiComparison(avocado_reg[\"Total Bags\"], avocado_reg[\"region\"]).tukeyhsd()\n"
   ]
  },
  {
   "cell_type": "code",
   "execution_count": 259,
   "id": "ddfe1ef6-26fa-4d69-b81d-6eaa5244a788",
   "metadata": {},
   "outputs": [
    {
     "name": "stdout",
     "output_type": "stream",
     "text": [
      "           Multiple Comparison of Means - Tukey HSD, FWER=0.05           \n",
      "=========================================================================\n",
      "  group1     group2    meandiff   p-adj     lower        upper     reject\n",
      "-------------------------------------------------------------------------\n",
      "GreatLakes  Midsouth  -65272.2543 0.7776 -207003.4801   76458.9715  False\n",
      "GreatLakes Northeast   54475.5764  0.883  -87255.6494  196206.8022  False\n",
      "GreatLakes    Plains -298013.1474    0.0 -439744.3732 -156281.9216   True\n",
      "GreatLakes Southeast    8733.7277    1.0 -132997.4981  150464.9535  False\n",
      "GreatLakes      West  557686.3388    0.0  415955.1131  699417.5646   True\n",
      "  Midsouth Northeast  119747.8307 0.1531  -21983.3951  261479.0565  False\n",
      "  Midsouth    Plains -232740.8931    0.0 -374472.1189  -91009.6673   True\n",
      "  Midsouth Southeast    74005.982 0.6711  -67725.2438  215737.2078  False\n",
      "  Midsouth      West  622958.5932    0.0  481227.3674   764689.819   True\n",
      " Northeast    Plains -352488.7238    0.0 -494219.9496  -210757.498   True\n",
      " Northeast Southeast  -45741.8487 0.9413 -187473.0745   95989.3771  False\n",
      " Northeast      West  503210.7625    0.0  361479.5367  644941.9883   True\n",
      "    Plains Southeast  306746.8751    0.0  165015.6493  448478.1009   True\n",
      "    Plains      West  855699.4863    0.0  713968.2605  997430.7121   True\n",
      " Southeast      West  548952.6112    0.0  407221.3854   690683.837   True\n",
      "-------------------------------------------------------------------------\n"
     ]
    }
   ],
   "source": [
    "print(postHocResults_reg)"
   ]
  },
  {
   "cell_type": "markdown",
   "id": "de3f2d40-ca94-48cf-a7bf-06600e73d125",
   "metadata": {
    "jp-MarkdownHeadingCollapsed": true,
    "tags": []
   },
   "source": [
    "#### Interpret or explain your results:\n",
    " So, it further proves that there are significant differences in mean \"Total Bags\" between several \"region\" categories, including GreatLakes-Plains, GreatLakes-West, Midsouth-Plains, Midsouth-West, Northeast-Plains, Northeast-Southeast, Northeast-West, Plains-Southeast, Plains-West, and Southeast-West.\n",
    "From the results, it appears that there are significant differences in \"Total Bags\" between regions\n",
    "\n",
    "That is, except for the comparisons involving the Great Lakes and Midsouth, Great Lakes and Northeast, and Great Lakes and Southeast regions.\n"
   ]
  },
  {
   "cell_type": "markdown",
   "id": "c53221f5-7ace-4962-96b1-e85033f60e15",
   "metadata": {},
   "source": [
    "## Step Seven c : Determine Means and Draw Conclusions"
   ]
  },
  {
   "cell_type": "code",
   "execution_count": 256,
   "id": "137cf6a8-bce9-43dc-b171-cf68336bf374",
   "metadata": {},
   "outputs": [
    {
     "data": {
      "text/html": [
       "<div>\n",
       "<style scoped>\n",
       "    .dataframe tbody tr th:only-of-type {\n",
       "        vertical-align: middle;\n",
       "    }\n",
       "\n",
       "    .dataframe tbody tr th {\n",
       "        vertical-align: top;\n",
       "    }\n",
       "\n",
       "    .dataframe thead th {\n",
       "        text-align: right;\n",
       "    }\n",
       "</style>\n",
       "<table border=\"1\" class=\"dataframe\">\n",
       "  <thead>\n",
       "    <tr style=\"text-align: right;\">\n",
       "      <th></th>\n",
       "      <th>Total Bags</th>\n",
       "    </tr>\n",
       "    <tr>\n",
       "      <th>region</th>\n",
       "      <th></th>\n",
       "    </tr>\n",
       "  </thead>\n",
       "  <tbody>\n",
       "    <tr>\n",
       "      <th>GreatLakes</th>\n",
       "      <td>528330.32</td>\n",
       "    </tr>\n",
       "    <tr>\n",
       "      <th>Midsouth</th>\n",
       "      <td>463058.07</td>\n",
       "    </tr>\n",
       "    <tr>\n",
       "      <th>Northeast</th>\n",
       "      <td>582805.90</td>\n",
       "    </tr>\n",
       "    <tr>\n",
       "      <th>Plains</th>\n",
       "      <td>230317.17</td>\n",
       "    </tr>\n",
       "    <tr>\n",
       "      <th>Southeast</th>\n",
       "      <td>537064.05</td>\n",
       "    </tr>\n",
       "    <tr>\n",
       "      <th>West</th>\n",
       "      <td>1086016.66</td>\n",
       "    </tr>\n",
       "  </tbody>\n",
       "</table>\n",
       "</div>"
      ],
      "text/plain": [
       "            Total Bags\n",
       "region                \n",
       "GreatLakes   528330.32\n",
       "Midsouth     463058.07\n",
       "Northeast    582805.90\n",
       "Plains       230317.17\n",
       "Southeast    537064.05\n",
       "West        1086016.66"
      ]
     },
     "execution_count": 256,
     "metadata": {},
     "output_type": "execute_result"
    }
   ],
   "source": [
    "avocado_reg_2= avocado_reg[['region', 'Total Bags']]\n",
    "\n",
    "avocado_reg_2.groupby('region').mean().round(2)"
   ]
  },
  {
   "cell_type": "code",
   "execution_count": null,
   "id": "eaa7735a-df4e-49c3-a983-23a0b7523dae",
   "metadata": {},
   "outputs": [],
   "source": []
  },
  {
   "cell_type": "markdown",
   "id": "4f59ca75-db7b-461b-b6b1-4dfb113e5adc",
   "metadata": {},
   "source": [
    "## (4) Does elevation play a part in Avocado consumptions using the total bags sold"
   ]
  },
  {
   "cell_type": "code",
   "execution_count": 271,
   "id": "b3989b04-c31e-407f-a9a0-112d1809176e",
   "metadata": {},
   "outputs": [],
   "source": [
    "# In looking for this I used data I found online about what many of these sea levels were. \n",
    "# I will be adding a column for the sea levels, and then recode them numerically"
   ]
  },
  {
   "cell_type": "markdown",
   "id": "7e3090b8-d53e-415a-8505-3faacca87383",
   "metadata": {},
   "source": [
    "### It just has dawned on me that not only is sea level elevation data I found was conducted and gathered from the 1980 Census. \n",
    " I also found out \"Sea level is determined by measurements taken over a 19-year cycle. increase in the average reach of the ocean. The current sea level rise is 1.8 millimeters (. 07 inch) per year.\"\n",
    " 43 times .07 inch for each year is 3.01in diffrence, which would still keep me okay enough to keep my 3 planed cities"
   ]
  },
  {
   "cell_type": "markdown",
   "id": "bbf6c80b-4b12-4001-8836-b56c59e803a6",
   "metadata": {},
   "source": [
    "### Step 1 Merge and Rename data"
   ]
  },
  {
   "cell_type": "code",
   "execution_count": 339,
   "id": "5679c207-9503-4873-8f56-0ac7527368da",
   "metadata": {},
   "outputs": [],
   "source": [
    "# Download the CSV file from the USGS website and save it to your local machine\n",
    "url = 'https://www.usgs.gov/media/files/elevations-50-largest-cities-population-1980-census'\n"
   ]
  },
  {
   "cell_type": "code",
   "execution_count": 340,
   "id": "dacc8dcd-92e0-4a02-8a7d-e70c86a8a02d",
   "metadata": {},
   "outputs": [],
   "source": [
    "elevation=pd.read_clipboard()"
   ]
  },
  {
   "cell_type": "code",
   "execution_count": 341,
   "id": "d0c73763-0b48-43ec-87c6-cf10b4016533",
   "metadata": {},
   "outputs": [
    {
     "data": {
      "text/html": [
       "<div>\n",
       "<style scoped>\n",
       "    .dataframe tbody tr th:only-of-type {\n",
       "        vertical-align: middle;\n",
       "    }\n",
       "\n",
       "    .dataframe tbody tr th {\n",
       "        vertical-align: top;\n",
       "    }\n",
       "\n",
       "    .dataframe thead th {\n",
       "        text-align: right;\n",
       "    }\n",
       "</style>\n",
       "<table border=\"1\" class=\"dataframe\">\n",
       "  <thead>\n",
       "    <tr style=\"text-align: right;\">\n",
       "      <th></th>\n",
       "      <th>City</th>\n",
       "      <th>State</th>\n",
       "      <th>Rank</th>\n",
       "      <th>High Feet</th>\n",
       "      <th>Low Feet</th>\n",
       "    </tr>\n",
       "  </thead>\n",
       "  <tbody>\n",
       "    <tr>\n",
       "      <th>0</th>\n",
       "      <td>New York</td>\n",
       "      <td>New York</td>\n",
       "      <td>1</td>\n",
       "      <td>410</td>\n",
       "      <td>Sea Level</td>\n",
       "    </tr>\n",
       "    <tr>\n",
       "      <th>1</th>\n",
       "      <td>Chicago</td>\n",
       "      <td>Illinois</td>\n",
       "      <td>2</td>\n",
       "      <td>673</td>\n",
       "      <td>1579</td>\n",
       "    </tr>\n",
       "    <tr>\n",
       "      <th>2</th>\n",
       "      <td>Los Angeles</td>\n",
       "      <td>California</td>\n",
       "      <td>3</td>\n",
       "      <td>5,074</td>\n",
       "      <td>Sea Level</td>\n",
       "    </tr>\n",
       "    <tr>\n",
       "      <th>3</th>\n",
       "      <td>Philadelphia</td>\n",
       "      <td>Pennsylvania</td>\n",
       "      <td>4</td>\n",
       "      <td>441</td>\n",
       "      <td>Sea Level</td>\n",
       "    </tr>\n",
       "    <tr>\n",
       "      <th>4</th>\n",
       "      <td>Houston</td>\n",
       "      <td>Texas</td>\n",
       "      <td>5</td>\n",
       "      <td>83</td>\n",
       "      <td>Sea Level</td>\n",
       "    </tr>\n",
       "  </tbody>\n",
       "</table>\n",
       "</div>"
      ],
      "text/plain": [
       "           City         State  Rank High Feet   Low Feet\n",
       "0      New York      New York     1       410  Sea Level\n",
       "1       Chicago      Illinois     2       673       1579\n",
       "2   Los Angeles    California     3     5,074  Sea Level\n",
       "3  Philadelphia  Pennsylvania     4       441  Sea Level\n",
       "4       Houston         Texas     5        83  Sea Level"
      ]
     },
     "execution_count": 341,
     "metadata": {},
     "output_type": "execute_result"
    }
   ],
   "source": [
    "# Read the USGS data into a pandas DataFrame\n",
    "elevation.head()"
   ]
  },
  {
   "cell_type": "code",
   "execution_count": 342,
   "id": "9cd2cbb1-d78b-4934-924d-5b4cf4d27039",
   "metadata": {},
   "outputs": [],
   "source": [
    "#Save to my Final file\n",
    "elevation.to_csv(\"elevation.csv\")"
   ]
  },
  {
   "cell_type": "code",
   "execution_count": 343,
   "id": "f24048b9-b1f7-40ed-8919-0f54f3600823",
   "metadata": {},
   "outputs": [],
   "source": [
    "# Rename the common variable in elevation_renameto \"Region\"\n",
    "elevation.rename(columns={'City': 'region'}, inplace=True)"
   ]
  },
  {
   "cell_type": "code",
   "execution_count": 344,
   "id": "f86cd376-f946-4883-b6b3-4b701d54108c",
   "metadata": {},
   "outputs": [
    {
     "data": {
      "text/html": [
       "<div>\n",
       "<style scoped>\n",
       "    .dataframe tbody tr th:only-of-type {\n",
       "        vertical-align: middle;\n",
       "    }\n",
       "\n",
       "    .dataframe tbody tr th {\n",
       "        vertical-align: top;\n",
       "    }\n",
       "\n",
       "    .dataframe thead th {\n",
       "        text-align: right;\n",
       "    }\n",
       "</style>\n",
       "<table border=\"1\" class=\"dataframe\">\n",
       "  <thead>\n",
       "    <tr style=\"text-align: right;\">\n",
       "      <th></th>\n",
       "      <th>region</th>\n",
       "      <th>State</th>\n",
       "      <th>Rank</th>\n",
       "      <th>High Feet</th>\n",
       "      <th>Low Feet</th>\n",
       "    </tr>\n",
       "  </thead>\n",
       "  <tbody>\n",
       "    <tr>\n",
       "      <th>0</th>\n",
       "      <td>New York</td>\n",
       "      <td>New York</td>\n",
       "      <td>1</td>\n",
       "      <td>410</td>\n",
       "      <td>Sea Level</td>\n",
       "    </tr>\n",
       "    <tr>\n",
       "      <th>1</th>\n",
       "      <td>Chicago</td>\n",
       "      <td>Illinois</td>\n",
       "      <td>2</td>\n",
       "      <td>673</td>\n",
       "      <td>1579</td>\n",
       "    </tr>\n",
       "    <tr>\n",
       "      <th>2</th>\n",
       "      <td>Los Angeles</td>\n",
       "      <td>California</td>\n",
       "      <td>3</td>\n",
       "      <td>5,074</td>\n",
       "      <td>Sea Level</td>\n",
       "    </tr>\n",
       "    <tr>\n",
       "      <th>3</th>\n",
       "      <td>Philadelphia</td>\n",
       "      <td>Pennsylvania</td>\n",
       "      <td>4</td>\n",
       "      <td>441</td>\n",
       "      <td>Sea Level</td>\n",
       "    </tr>\n",
       "    <tr>\n",
       "      <th>4</th>\n",
       "      <td>Houston</td>\n",
       "      <td>Texas</td>\n",
       "      <td>5</td>\n",
       "      <td>83</td>\n",
       "      <td>Sea Level</td>\n",
       "    </tr>\n",
       "  </tbody>\n",
       "</table>\n",
       "</div>"
      ],
      "text/plain": [
       "         region         State  Rank High Feet   Low Feet\n",
       "0      New York      New York     1       410  Sea Level\n",
       "1       Chicago      Illinois     2       673       1579\n",
       "2   Los Angeles    California     3     5,074  Sea Level\n",
       "3  Philadelphia  Pennsylvania     4       441  Sea Level\n",
       "4       Houston         Texas     5        83  Sea Level"
      ]
     },
     "execution_count": 344,
     "metadata": {},
     "output_type": "execute_result"
    }
   ],
   "source": [
    "elevation.head()"
   ]
  },
  {
   "cell_type": "code",
   "execution_count": 345,
   "id": "b6654e85-11ce-43d1-a469-2ecc549931b7",
   "metadata": {},
   "outputs": [],
   "source": [
    "# Rename the 'Low Feet' column to 'elevation'\n",
    "elevation_rename = elevation.rename(columns={'Low Feet': 'elevation'})\n"
   ]
  },
  {
   "cell_type": "code",
   "execution_count": 346,
   "id": "a016cbc0-7298-4811-b23a-33ce0e742496",
   "metadata": {},
   "outputs": [
    {
     "data": {
      "text/html": [
       "<div>\n",
       "<style scoped>\n",
       "    .dataframe tbody tr th:only-of-type {\n",
       "        vertical-align: middle;\n",
       "    }\n",
       "\n",
       "    .dataframe tbody tr th {\n",
       "        vertical-align: top;\n",
       "    }\n",
       "\n",
       "    .dataframe thead th {\n",
       "        text-align: right;\n",
       "    }\n",
       "</style>\n",
       "<table border=\"1\" class=\"dataframe\">\n",
       "  <thead>\n",
       "    <tr style=\"text-align: right;\">\n",
       "      <th></th>\n",
       "      <th>region</th>\n",
       "      <th>State</th>\n",
       "      <th>Rank</th>\n",
       "      <th>High Feet</th>\n",
       "      <th>elevation</th>\n",
       "    </tr>\n",
       "  </thead>\n",
       "  <tbody>\n",
       "    <tr>\n",
       "      <th>0</th>\n",
       "      <td>New York</td>\n",
       "      <td>New York</td>\n",
       "      <td>1</td>\n",
       "      <td>410</td>\n",
       "      <td>Sea Level</td>\n",
       "    </tr>\n",
       "    <tr>\n",
       "      <th>1</th>\n",
       "      <td>Chicago</td>\n",
       "      <td>Illinois</td>\n",
       "      <td>2</td>\n",
       "      <td>673</td>\n",
       "      <td>1579</td>\n",
       "    </tr>\n",
       "    <tr>\n",
       "      <th>2</th>\n",
       "      <td>Los Angeles</td>\n",
       "      <td>California</td>\n",
       "      <td>3</td>\n",
       "      <td>5,074</td>\n",
       "      <td>Sea Level</td>\n",
       "    </tr>\n",
       "    <tr>\n",
       "      <th>3</th>\n",
       "      <td>Philadelphia</td>\n",
       "      <td>Pennsylvania</td>\n",
       "      <td>4</td>\n",
       "      <td>441</td>\n",
       "      <td>Sea Level</td>\n",
       "    </tr>\n",
       "    <tr>\n",
       "      <th>4</th>\n",
       "      <td>Houston</td>\n",
       "      <td>Texas</td>\n",
       "      <td>5</td>\n",
       "      <td>83</td>\n",
       "      <td>Sea Level</td>\n",
       "    </tr>\n",
       "  </tbody>\n",
       "</table>\n",
       "</div>"
      ],
      "text/plain": [
       "         region         State  Rank High Feet  elevation\n",
       "0      New York      New York     1       410  Sea Level\n",
       "1       Chicago      Illinois     2       673       1579\n",
       "2   Los Angeles    California     3     5,074  Sea Level\n",
       "3  Philadelphia  Pennsylvania     4       441  Sea Level\n",
       "4       Houston         Texas     5        83  Sea Level"
      ]
     },
     "execution_count": 346,
     "metadata": {},
     "output_type": "execute_result"
    }
   ],
   "source": [
    "elevation_rename.head()"
   ]
  },
  {
   "cell_type": "code",
   "execution_count": 347,
   "id": "44b38113-cf4c-49be-88ee-8cf913668eff",
   "metadata": {},
   "outputs": [
    {
     "name": "stdout",
     "output_type": "stream",
     "text": [
      "                       region  elevation\n",
      "0                    New York  Sea Level\n",
      "1                     Chicago       1579\n",
      "2                 Los Angeles  Sea Level\n",
      "3                Philadelphia  Sea Level\n",
      "4                     Houston  Sea Level\n",
      "5                     Detroit       1575\n",
      "6                      Dallas        390\n",
      "7                   San Diego  Sea Level\n",
      "8                     Phoenix      1,058\n",
      "9                   Baltimore  Sea Level\n",
      "10                San Antonio        505\n",
      "11               Indianapolis        664\n",
      "12              San Francisco  Sea Level\n",
      "13                    Memphis        195\n",
      "14                 Washington          1\n",
      "15                  Milwaukee       1579\n",
      "16                   San Jose  Sea Level\n",
      "17                  Cleveland       1571\n",
      "18                   Columbus        685\n",
      "19                     Boston  Sea Level\n",
      "20                New Orleans         -8\n",
      "21               Jacksonville  Sea Level\n",
      "22                    Seattle  Sea Level\n",
      "23                     Denver      5,130\n",
      "24  Nashville-Davidson County        385\n",
      "25                  St. Louis        385\n",
      "26                Kansas City        720\n",
      "27                    El Paso      3,695\n",
      "28                    Atlanta        738\n",
      "29                 Pittsburgh        710\n",
      "30              Oklahoma City      1,050\n",
      "31                 Cincinnati        433\n",
      "32                 Fort Worth        513\n",
      "33                Minneapolis        687\n",
      "34                   Portland  Sea Level\n",
      "35                   Honolulu  Sea Level\n",
      "36                 Long Beach         -7\n",
      "37                      Tulsa        620\n",
      "38                    Buffalo       1571\n",
      "39                     Toledo       1571\n",
      "40                      Miami  Sea Level\n",
      "41                     Austin        406\n",
      "42                    Oakland  Sea Level\n",
      "43                Albuquerque      4,946\n",
      "44                     Tucson      2,250\n",
      "45                     Newark  Sea Level\n",
      "46                  Charlotte        519\n",
      "47                      Omaha        960\n",
      "48                 Louisville        382\n",
      "49                 Birmingham        496\n"
     ]
    }
   ],
   "source": [
    "# Identify the columns to remove\n",
    "cols_to_remove = ['State', 'Rank', 'High Feet']\n",
    "\n",
    "# Remove the columns using the drop function\n",
    "elevation_drop = elevation_rename.drop(columns=cols_to_remove)\n",
    "print(elevation_drop)"
   ]
  },
  {
   "cell_type": "code",
   "execution_count": 348,
   "id": "67260b98-e229-4e26-a476-5da8d947532f",
   "metadata": {},
   "outputs": [],
   "source": [
    "# Replace the old name with the new name\n",
    "elevation_drop['region'] = elevation_drop['region'].replace('New Orleans', 'NewOrleansMobile')\n",
    "elevation_drop['region'] = elevation_drop['region'].replace('Nashville-Davidson County', 'Nashville')"
   ]
  },
  {
   "cell_type": "code",
   "execution_count": 349,
   "id": "9246d683-5517-43bd-9533-5f9b6b6007cc",
   "metadata": {},
   "outputs": [
    {
     "name": "stdout",
     "output_type": "stream",
     "text": [
      "              region  elevation\n",
      "0           New York  Sea Level\n",
      "1            Chicago       1579\n",
      "2        Los Angeles  Sea Level\n",
      "3       Philadelphia  Sea Level\n",
      "4            Houston  Sea Level\n",
      "5            Detroit       1575\n",
      "6             Dallas        390\n",
      "7          San Diego  Sea Level\n",
      "8            Phoenix      1,058\n",
      "9          Baltimore  Sea Level\n",
      "10       San Antonio        505\n",
      "11      Indianapolis        664\n",
      "12     San Francisco  Sea Level\n",
      "13           Memphis        195\n",
      "14        Washington          1\n",
      "15         Milwaukee       1579\n",
      "16          San Jose  Sea Level\n",
      "17         Cleveland       1571\n",
      "18          Columbus        685\n",
      "19            Boston  Sea Level\n",
      "20  NewOrleansMobile         -8\n",
      "21      Jacksonville  Sea Level\n",
      "22           Seattle  Sea Level\n",
      "23            Denver      5,130\n",
      "24         Nashville        385\n",
      "25         St. Louis        385\n",
      "26       Kansas City        720\n",
      "27           El Paso      3,695\n",
      "28           Atlanta        738\n",
      "29        Pittsburgh        710\n",
      "30     Oklahoma City      1,050\n",
      "31        Cincinnati        433\n",
      "32        Fort Worth        513\n",
      "33       Minneapolis        687\n",
      "34          Portland  Sea Level\n",
      "35          Honolulu  Sea Level\n",
      "36        Long Beach         -7\n",
      "37             Tulsa        620\n",
      "38           Buffalo       1571\n",
      "39            Toledo       1571\n",
      "40             Miami  Sea Level\n",
      "41            Austin        406\n",
      "42           Oakland  Sea Level\n",
      "43       Albuquerque      4,946\n",
      "44            Tucson      2,250\n",
      "45            Newark  Sea Level\n",
      "46         Charlotte        519\n",
      "47             Omaha        960\n",
      "48        Louisville        382\n",
      "49        Birmingham        496\n"
     ]
    }
   ],
   "source": [
    "print(elevation_drop)"
   ]
  },
  {
   "cell_type": "code",
   "execution_count": 355,
   "id": "726cdd3b-846c-455a-9a2f-8ec0d02ff1a5",
   "metadata": {},
   "outputs": [],
   "source": [
    "# Identify the common columns that contain the word 'region'\n",
    "# Merge the datasets on the 'region' column\n",
    "merged_Avoca = pd.merge(avocado, elevation_drop, on='region')"
   ]
  },
  {
   "cell_type": "code",
   "execution_count": 356,
   "id": "c0ad2ccd-1c29-4ab6-95a0-33fd5a935e63",
   "metadata": {
    "tags": []
   },
   "outputs": [
    {
     "data": {
      "text/html": [
       "<div>\n",
       "<style scoped>\n",
       "    .dataframe tbody tr th:only-of-type {\n",
       "        vertical-align: middle;\n",
       "    }\n",
       "\n",
       "    .dataframe tbody tr th {\n",
       "        vertical-align: top;\n",
       "    }\n",
       "\n",
       "    .dataframe thead th {\n",
       "        text-align: right;\n",
       "    }\n",
       "</style>\n",
       "<table border=\"1\" class=\"dataframe\">\n",
       "  <thead>\n",
       "    <tr style=\"text-align: right;\">\n",
       "      <th></th>\n",
       "      <th>Unnamed: 0</th>\n",
       "      <th>Date</th>\n",
       "      <th>AveragePrice</th>\n",
       "      <th>Total Volume</th>\n",
       "      <th>4046</th>\n",
       "      <th>4225</th>\n",
       "      <th>4770</th>\n",
       "      <th>Total Bags</th>\n",
       "      <th>Small Bags</th>\n",
       "      <th>Large Bags</th>\n",
       "      <th>XLarge Bags</th>\n",
       "      <th>type</th>\n",
       "      <th>year</th>\n",
       "      <th>region</th>\n",
       "      <th>elevation</th>\n",
       "    </tr>\n",
       "  </thead>\n",
       "  <tbody>\n",
       "    <tr>\n",
       "      <th>0</th>\n",
       "      <td>0</td>\n",
       "      <td>12/27/2015</td>\n",
       "      <td>0.99</td>\n",
       "      <td>386100.49</td>\n",
       "      <td>292097.36</td>\n",
       "      <td>27350.92</td>\n",
       "      <td>297.90</td>\n",
       "      <td>66354.31</td>\n",
       "      <td>48605.95</td>\n",
       "      <td>17748.36</td>\n",
       "      <td>0.00</td>\n",
       "      <td>conventional</td>\n",
       "      <td>2015</td>\n",
       "      <td>Atlanta</td>\n",
       "      <td>738</td>\n",
       "    </tr>\n",
       "    <tr>\n",
       "      <th>1</th>\n",
       "      <td>1</td>\n",
       "      <td>12/20/2015</td>\n",
       "      <td>1.08</td>\n",
       "      <td>331377.53</td>\n",
       "      <td>251774.15</td>\n",
       "      <td>20702.45</td>\n",
       "      <td>103.06</td>\n",
       "      <td>58797.87</td>\n",
       "      <td>46930.26</td>\n",
       "      <td>11867.61</td>\n",
       "      <td>0.00</td>\n",
       "      <td>conventional</td>\n",
       "      <td>2015</td>\n",
       "      <td>Atlanta</td>\n",
       "      <td>738</td>\n",
       "    </tr>\n",
       "    <tr>\n",
       "      <th>2</th>\n",
       "      <td>2</td>\n",
       "      <td>12/13/2015</td>\n",
       "      <td>0.96</td>\n",
       "      <td>417772.47</td>\n",
       "      <td>324932.28</td>\n",
       "      <td>31019.08</td>\n",
       "      <td>275.80</td>\n",
       "      <td>61545.31</td>\n",
       "      <td>38903.57</td>\n",
       "      <td>22628.21</td>\n",
       "      <td>13.53</td>\n",
       "      <td>conventional</td>\n",
       "      <td>2015</td>\n",
       "      <td>Atlanta</td>\n",
       "      <td>738</td>\n",
       "    </tr>\n",
       "    <tr>\n",
       "      <th>3</th>\n",
       "      <td>3</td>\n",
       "      <td>12/6/2015</td>\n",
       "      <td>1.07</td>\n",
       "      <td>357636.82</td>\n",
       "      <td>283024.01</td>\n",
       "      <td>23740.85</td>\n",
       "      <td>181.92</td>\n",
       "      <td>50690.04</td>\n",
       "      <td>37032.67</td>\n",
       "      <td>13654.66</td>\n",
       "      <td>2.71</td>\n",
       "      <td>conventional</td>\n",
       "      <td>2015</td>\n",
       "      <td>Atlanta</td>\n",
       "      <td>738</td>\n",
       "    </tr>\n",
       "    <tr>\n",
       "      <th>4</th>\n",
       "      <td>4</td>\n",
       "      <td>11/29/2015</td>\n",
       "      <td>0.99</td>\n",
       "      <td>333280.79</td>\n",
       "      <td>250288.65</td>\n",
       "      <td>28889.63</td>\n",
       "      <td>307.83</td>\n",
       "      <td>53794.68</td>\n",
       "      <td>33031.72</td>\n",
       "      <td>20738.55</td>\n",
       "      <td>24.41</td>\n",
       "      <td>conventional</td>\n",
       "      <td>2015</td>\n",
       "      <td>Atlanta</td>\n",
       "      <td>738</td>\n",
       "    </tr>\n",
       "  </tbody>\n",
       "</table>\n",
       "</div>"
      ],
      "text/plain": [
       "   Unnamed: 0        Date  AveragePrice  Total Volume       4046      4225  \\\n",
       "0           0  12/27/2015          0.99     386100.49  292097.36  27350.92   \n",
       "1           1  12/20/2015          1.08     331377.53  251774.15  20702.45   \n",
       "2           2  12/13/2015          0.96     417772.47  324932.28  31019.08   \n",
       "3           3   12/6/2015          1.07     357636.82  283024.01  23740.85   \n",
       "4           4  11/29/2015          0.99     333280.79  250288.65  28889.63   \n",
       "\n",
       "     4770  Total Bags  Small Bags  Large Bags  XLarge Bags          type  \\\n",
       "0  297.90    66354.31    48605.95    17748.36         0.00  conventional   \n",
       "1  103.06    58797.87    46930.26    11867.61         0.00  conventional   \n",
       "2  275.80    61545.31    38903.57    22628.21        13.53  conventional   \n",
       "3  181.92    50690.04    37032.67    13654.66         2.71  conventional   \n",
       "4  307.83    53794.68    33031.72    20738.55        24.41  conventional   \n",
       "\n",
       "   year   region elevation  \n",
       "0  2015  Atlanta       738  \n",
       "1  2015  Atlanta       738  \n",
       "2  2015  Atlanta       738  \n",
       "3  2015  Atlanta       738  \n",
       "4  2015  Atlanta       738  "
      ]
     },
     "execution_count": 356,
     "metadata": {},
     "output_type": "execute_result"
    }
   ],
   "source": [
    "# Print the merged DataFrame to confirm the merge was successful\n",
    "merged_Avoca.head()"
   ]
  },
  {
   "cell_type": "code",
   "execution_count": 357,
   "id": "2aaa8a87-a7eb-4bce-89eb-5b1778926e09",
   "metadata": {},
   "outputs": [
    {
     "data": {
      "text/html": [
       "<div>\n",
       "<style scoped>\n",
       "    .dataframe tbody tr th:only-of-type {\n",
       "        vertical-align: middle;\n",
       "    }\n",
       "\n",
       "    .dataframe tbody tr th {\n",
       "        vertical-align: top;\n",
       "    }\n",
       "\n",
       "    .dataframe thead th {\n",
       "        text-align: right;\n",
       "    }\n",
       "</style>\n",
       "<table border=\"1\" class=\"dataframe\">\n",
       "  <thead>\n",
       "    <tr style=\"text-align: right;\">\n",
       "      <th></th>\n",
       "      <th>Unnamed: 0</th>\n",
       "      <th>Date</th>\n",
       "      <th>AveragePrice</th>\n",
       "      <th>Total Volume</th>\n",
       "      <th>4046</th>\n",
       "      <th>4225</th>\n",
       "      <th>4770</th>\n",
       "      <th>Total Bags</th>\n",
       "      <th>Small Bags</th>\n",
       "      <th>Large Bags</th>\n",
       "      <th>XLarge Bags</th>\n",
       "      <th>type</th>\n",
       "      <th>year</th>\n",
       "      <th>region</th>\n",
       "      <th>elevation</th>\n",
       "    </tr>\n",
       "  </thead>\n",
       "  <tbody>\n",
       "    <tr>\n",
       "      <th>5741</th>\n",
       "      <td>7</td>\n",
       "      <td>2/4/2018</td>\n",
       "      <td>1.14</td>\n",
       "      <td>124659.55</td>\n",
       "      <td>1345.94</td>\n",
       "      <td>32088.04</td>\n",
       "      <td>85.31</td>\n",
       "      <td>91140.26</td>\n",
       "      <td>1998.66</td>\n",
       "      <td>88880.93</td>\n",
       "      <td>260.67</td>\n",
       "      <td>organic</td>\n",
       "      <td>2018</td>\n",
       "      <td>Seattle</td>\n",
       "      <td>Sea Level</td>\n",
       "    </tr>\n",
       "    <tr>\n",
       "      <th>5742</th>\n",
       "      <td>8</td>\n",
       "      <td>1/28/2018</td>\n",
       "      <td>1.99</td>\n",
       "      <td>35988.00</td>\n",
       "      <td>954.77</td>\n",
       "      <td>11558.54</td>\n",
       "      <td>32.00</td>\n",
       "      <td>23442.69</td>\n",
       "      <td>1487.79</td>\n",
       "      <td>21867.48</td>\n",
       "      <td>87.42</td>\n",
       "      <td>organic</td>\n",
       "      <td>2018</td>\n",
       "      <td>Seattle</td>\n",
       "      <td>Sea Level</td>\n",
       "    </tr>\n",
       "    <tr>\n",
       "      <th>5743</th>\n",
       "      <td>9</td>\n",
       "      <td>1/21/2018</td>\n",
       "      <td>2.02</td>\n",
       "      <td>33986.68</td>\n",
       "      <td>928.10</td>\n",
       "      <td>12632.06</td>\n",
       "      <td>23.62</td>\n",
       "      <td>20402.90</td>\n",
       "      <td>1469.79</td>\n",
       "      <td>18905.41</td>\n",
       "      <td>27.70</td>\n",
       "      <td>organic</td>\n",
       "      <td>2018</td>\n",
       "      <td>Seattle</td>\n",
       "      <td>Sea Level</td>\n",
       "    </tr>\n",
       "    <tr>\n",
       "      <th>5744</th>\n",
       "      <td>10</td>\n",
       "      <td>1/14/2018</td>\n",
       "      <td>2.03</td>\n",
       "      <td>36228.45</td>\n",
       "      <td>1147.33</td>\n",
       "      <td>18370.39</td>\n",
       "      <td>9.23</td>\n",
       "      <td>16701.50</td>\n",
       "      <td>1630.19</td>\n",
       "      <td>15063.98</td>\n",
       "      <td>7.33</td>\n",
       "      <td>organic</td>\n",
       "      <td>2018</td>\n",
       "      <td>Seattle</td>\n",
       "      <td>Sea Level</td>\n",
       "    </tr>\n",
       "    <tr>\n",
       "      <th>5745</th>\n",
       "      <td>11</td>\n",
       "      <td>1/7/2018</td>\n",
       "      <td>1.26</td>\n",
       "      <td>98765.23</td>\n",
       "      <td>1404.78</td>\n",
       "      <td>33170.68</td>\n",
       "      <td>11.77</td>\n",
       "      <td>64178.00</td>\n",
       "      <td>2054.96</td>\n",
       "      <td>62104.14</td>\n",
       "      <td>18.90</td>\n",
       "      <td>organic</td>\n",
       "      <td>2018</td>\n",
       "      <td>Seattle</td>\n",
       "      <td>Sea Level</td>\n",
       "    </tr>\n",
       "  </tbody>\n",
       "</table>\n",
       "</div>"
      ],
      "text/plain": [
       "      Unnamed: 0       Date  AveragePrice  Total Volume     4046      4225  \\\n",
       "5741           7   2/4/2018          1.14     124659.55  1345.94  32088.04   \n",
       "5742           8  1/28/2018          1.99      35988.00   954.77  11558.54   \n",
       "5743           9  1/21/2018          2.02      33986.68   928.10  12632.06   \n",
       "5744          10  1/14/2018          2.03      36228.45  1147.33  18370.39   \n",
       "5745          11   1/7/2018          1.26      98765.23  1404.78  33170.68   \n",
       "\n",
       "       4770  Total Bags  Small Bags  Large Bags  XLarge Bags     type  year  \\\n",
       "5741  85.31    91140.26     1998.66    88880.93       260.67  organic  2018   \n",
       "5742  32.00    23442.69     1487.79    21867.48        87.42  organic  2018   \n",
       "5743  23.62    20402.90     1469.79    18905.41        27.70  organic  2018   \n",
       "5744   9.23    16701.50     1630.19    15063.98         7.33  organic  2018   \n",
       "5745  11.77    64178.00     2054.96    62104.14        18.90  organic  2018   \n",
       "\n",
       "       region  elevation  \n",
       "5741  Seattle  Sea Level  \n",
       "5742  Seattle  Sea Level  \n",
       "5743  Seattle  Sea Level  \n",
       "5744  Seattle  Sea Level  \n",
       "5745  Seattle  Sea Level  "
      ]
     },
     "execution_count": 357,
     "metadata": {},
     "output_type": "execute_result"
    }
   ],
   "source": [
    "merged_Avoca.tail()"
   ]
  },
  {
   "cell_type": "markdown",
   "id": "f5d11920-9f87-43d9-9ac2-2c44afe9218b",
   "metadata": {},
   "source": [
    "## Step Four (c)- Data Wrangling\n",
    "---\n",
    "#### Filter for 3 cities\n",
    "Focusing on the Three Categories\n",
    "The data has many more categories than three, so we will need to filter the dataset by the categories you want. The code below makes a list of the categories you want to keep, then searches through the Category column using the isin() function to keep only those that match.\n"
   ]
  },
  {
   "cell_type": "code",
   "execution_count": 358,
   "id": "5df5f46d-f4b4-475a-8a26-c2e67ff6bc3d",
   "metadata": {},
   "outputs": [
    {
     "data": {
      "text/html": [
       "<div>\n",
       "<style scoped>\n",
       "    .dataframe tbody tr th:only-of-type {\n",
       "        vertical-align: middle;\n",
       "    }\n",
       "\n",
       "    .dataframe tbody tr th {\n",
       "        vertical-align: top;\n",
       "    }\n",
       "\n",
       "    .dataframe thead th {\n",
       "        text-align: right;\n",
       "    }\n",
       "</style>\n",
       "<table border=\"1\" class=\"dataframe\">\n",
       "  <thead>\n",
       "    <tr style=\"text-align: right;\">\n",
       "      <th></th>\n",
       "      <th>Unnamed: 0</th>\n",
       "      <th>Date</th>\n",
       "      <th>AveragePrice</th>\n",
       "      <th>Total Volume</th>\n",
       "      <th>4046</th>\n",
       "      <th>4225</th>\n",
       "      <th>4770</th>\n",
       "      <th>Total Bags</th>\n",
       "      <th>Small Bags</th>\n",
       "      <th>Large Bags</th>\n",
       "      <th>XLarge Bags</th>\n",
       "      <th>type</th>\n",
       "      <th>year</th>\n",
       "      <th>region</th>\n",
       "      <th>elevation</th>\n",
       "    </tr>\n",
       "  </thead>\n",
       "  <tbody>\n",
       "    <tr>\n",
       "      <th>3718</th>\n",
       "      <td>0</td>\n",
       "      <td>12/27/2015</td>\n",
       "      <td>0.96</td>\n",
       "      <td>123669.89</td>\n",
       "      <td>79508.70</td>\n",
       "      <td>8706.29</td>\n",
       "      <td>4748.08</td>\n",
       "      <td>30706.82</td>\n",
       "      <td>23563.06</td>\n",
       "      <td>7140.43</td>\n",
       "      <td>3.33</td>\n",
       "      <td>conventional</td>\n",
       "      <td>2015</td>\n",
       "      <td>Nashville</td>\n",
       "      <td>385</td>\n",
       "    </tr>\n",
       "    <tr>\n",
       "      <th>3719</th>\n",
       "      <td>1</td>\n",
       "      <td>12/20/2015</td>\n",
       "      <td>0.99</td>\n",
       "      <td>127373.56</td>\n",
       "      <td>87309.07</td>\n",
       "      <td>7415.81</td>\n",
       "      <td>4356.81</td>\n",
       "      <td>28291.87</td>\n",
       "      <td>23562.10</td>\n",
       "      <td>4722.17</td>\n",
       "      <td>7.60</td>\n",
       "      <td>conventional</td>\n",
       "      <td>2015</td>\n",
       "      <td>Nashville</td>\n",
       "      <td>385</td>\n",
       "    </tr>\n",
       "    <tr>\n",
       "      <th>3720</th>\n",
       "      <td>2</td>\n",
       "      <td>12/13/2015</td>\n",
       "      <td>0.91</td>\n",
       "      <td>153425.94</td>\n",
       "      <td>103097.40</td>\n",
       "      <td>11175.45</td>\n",
       "      <td>6145.91</td>\n",
       "      <td>33007.18</td>\n",
       "      <td>23065.69</td>\n",
       "      <td>9806.94</td>\n",
       "      <td>134.55</td>\n",
       "      <td>conventional</td>\n",
       "      <td>2015</td>\n",
       "      <td>Nashville</td>\n",
       "      <td>385</td>\n",
       "    </tr>\n",
       "    <tr>\n",
       "      <th>3721</th>\n",
       "      <td>3</td>\n",
       "      <td>12/6/2015</td>\n",
       "      <td>1.00</td>\n",
       "      <td>130989.23</td>\n",
       "      <td>88033.66</td>\n",
       "      <td>9655.78</td>\n",
       "      <td>5447.67</td>\n",
       "      <td>27852.12</td>\n",
       "      <td>22956.94</td>\n",
       "      <td>4797.18</td>\n",
       "      <td>98.00</td>\n",
       "      <td>conventional</td>\n",
       "      <td>2015</td>\n",
       "      <td>Nashville</td>\n",
       "      <td>385</td>\n",
       "    </tr>\n",
       "    <tr>\n",
       "      <th>3722</th>\n",
       "      <td>4</td>\n",
       "      <td>11/29/2015</td>\n",
       "      <td>0.95</td>\n",
       "      <td>119919.67</td>\n",
       "      <td>77155.36</td>\n",
       "      <td>9407.46</td>\n",
       "      <td>5435.02</td>\n",
       "      <td>27921.83</td>\n",
       "      <td>20470.74</td>\n",
       "      <td>7440.75</td>\n",
       "      <td>10.34</td>\n",
       "      <td>conventional</td>\n",
       "      <td>2015</td>\n",
       "      <td>Nashville</td>\n",
       "      <td>385</td>\n",
       "    </tr>\n",
       "  </tbody>\n",
       "</table>\n",
       "</div>"
      ],
      "text/plain": [
       "      Unnamed: 0        Date  AveragePrice  Total Volume       4046      4225  \\\n",
       "3718           0  12/27/2015          0.96     123669.89   79508.70   8706.29   \n",
       "3719           1  12/20/2015          0.99     127373.56   87309.07   7415.81   \n",
       "3720           2  12/13/2015          0.91     153425.94  103097.40  11175.45   \n",
       "3721           3   12/6/2015          1.00     130989.23   88033.66   9655.78   \n",
       "3722           4  11/29/2015          0.95     119919.67   77155.36   9407.46   \n",
       "\n",
       "         4770  Total Bags  Small Bags  Large Bags  XLarge Bags          type  \\\n",
       "3718  4748.08    30706.82    23563.06     7140.43         3.33  conventional   \n",
       "3719  4356.81    28291.87    23562.10     4722.17         7.60  conventional   \n",
       "3720  6145.91    33007.18    23065.69     9806.94       134.55  conventional   \n",
       "3721  5447.67    27852.12    22956.94     4797.18        98.00  conventional   \n",
       "3722  5435.02    27921.83    20470.74     7440.75        10.34  conventional   \n",
       "\n",
       "      year     region elevation  \n",
       "3718  2015  Nashville       385  \n",
       "3719  2015  Nashville       385  \n",
       "3720  2015  Nashville       385  \n",
       "3721  2015  Nashville       385  \n",
       "3722  2015  Nashville       385  "
      ]
     },
     "execution_count": 358,
     "metadata": {},
     "output_type": "execute_result"
    }
   ],
   "source": [
    "avocado_elevation = merged_Avoca[merged_Avoca.region.isin(['Nashville', 'NewOrleansMobile', 'Portland'])]\n",
    "avocado_elevation.head()"
   ]
  },
  {
   "cell_type": "code",
   "execution_count": 359,
   "id": "2462471d-8ae9-4d37-a9fc-5e169064aa92",
   "metadata": {},
   "outputs": [
    {
     "data": {
      "text/html": [
       "<div>\n",
       "<style scoped>\n",
       "    .dataframe tbody tr th:only-of-type {\n",
       "        vertical-align: middle;\n",
       "    }\n",
       "\n",
       "    .dataframe tbody tr th {\n",
       "        vertical-align: top;\n",
       "    }\n",
       "\n",
       "    .dataframe thead th {\n",
       "        text-align: right;\n",
       "    }\n",
       "</style>\n",
       "<table border=\"1\" class=\"dataframe\">\n",
       "  <thead>\n",
       "    <tr style=\"text-align: right;\">\n",
       "      <th></th>\n",
       "      <th>Unnamed: 0</th>\n",
       "      <th>Date</th>\n",
       "      <th>AveragePrice</th>\n",
       "      <th>Total Volume</th>\n",
       "      <th>4046</th>\n",
       "      <th>4225</th>\n",
       "      <th>4770</th>\n",
       "      <th>Total Bags</th>\n",
       "      <th>Small Bags</th>\n",
       "      <th>Large Bags</th>\n",
       "      <th>XLarge Bags</th>\n",
       "      <th>type</th>\n",
       "      <th>year</th>\n",
       "      <th>region</th>\n",
       "      <th>elevation</th>\n",
       "    </tr>\n",
       "  </thead>\n",
       "  <tbody>\n",
       "    <tr>\n",
       "      <th>5403</th>\n",
       "      <td>7</td>\n",
       "      <td>2/4/2018</td>\n",
       "      <td>1.46</td>\n",
       "      <td>35123.48</td>\n",
       "      <td>2697.49</td>\n",
       "      <td>4591.06</td>\n",
       "      <td>0.00</td>\n",
       "      <td>27834.93</td>\n",
       "      <td>1185.52</td>\n",
       "      <td>26586.83</td>\n",
       "      <td>62.58</td>\n",
       "      <td>organic</td>\n",
       "      <td>2018</td>\n",
       "      <td>Portland</td>\n",
       "      <td>Sea Level</td>\n",
       "    </tr>\n",
       "    <tr>\n",
       "      <th>5404</th>\n",
       "      <td>8</td>\n",
       "      <td>1/28/2018</td>\n",
       "      <td>1.80</td>\n",
       "      <td>21678.23</td>\n",
       "      <td>2550.43</td>\n",
       "      <td>2656.25</td>\n",
       "      <td>0.00</td>\n",
       "      <td>16471.55</td>\n",
       "      <td>1006.14</td>\n",
       "      <td>15459.73</td>\n",
       "      <td>5.68</td>\n",
       "      <td>organic</td>\n",
       "      <td>2018</td>\n",
       "      <td>Portland</td>\n",
       "      <td>Sea Level</td>\n",
       "    </tr>\n",
       "    <tr>\n",
       "      <th>5405</th>\n",
       "      <td>9</td>\n",
       "      <td>1/21/2018</td>\n",
       "      <td>1.80</td>\n",
       "      <td>25108.84</td>\n",
       "      <td>3170.73</td>\n",
       "      <td>3086.95</td>\n",
       "      <td>10.07</td>\n",
       "      <td>18841.09</td>\n",
       "      <td>1279.19</td>\n",
       "      <td>17489.16</td>\n",
       "      <td>72.74</td>\n",
       "      <td>organic</td>\n",
       "      <td>2018</td>\n",
       "      <td>Portland</td>\n",
       "      <td>Sea Level</td>\n",
       "    </tr>\n",
       "    <tr>\n",
       "      <th>5406</th>\n",
       "      <td>10</td>\n",
       "      <td>1/14/2018</td>\n",
       "      <td>1.82</td>\n",
       "      <td>20964.96</td>\n",
       "      <td>3966.90</td>\n",
       "      <td>4441.29</td>\n",
       "      <td>0.00</td>\n",
       "      <td>12556.77</td>\n",
       "      <td>1364.14</td>\n",
       "      <td>11187.07</td>\n",
       "      <td>5.56</td>\n",
       "      <td>organic</td>\n",
       "      <td>2018</td>\n",
       "      <td>Portland</td>\n",
       "      <td>Sea Level</td>\n",
       "    </tr>\n",
       "    <tr>\n",
       "      <th>5407</th>\n",
       "      <td>11</td>\n",
       "      <td>1/7/2018</td>\n",
       "      <td>1.59</td>\n",
       "      <td>27296.20</td>\n",
       "      <td>3740.22</td>\n",
       "      <td>6593.66</td>\n",
       "      <td>0.00</td>\n",
       "      <td>16962.32</td>\n",
       "      <td>1579.33</td>\n",
       "      <td>15382.99</td>\n",
       "      <td>0.00</td>\n",
       "      <td>organic</td>\n",
       "      <td>2018</td>\n",
       "      <td>Portland</td>\n",
       "      <td>Sea Level</td>\n",
       "    </tr>\n",
       "  </tbody>\n",
       "</table>\n",
       "</div>"
      ],
      "text/plain": [
       "      Unnamed: 0       Date  AveragePrice  Total Volume     4046     4225  \\\n",
       "5403           7   2/4/2018          1.46      35123.48  2697.49  4591.06   \n",
       "5404           8  1/28/2018          1.80      21678.23  2550.43  2656.25   \n",
       "5405           9  1/21/2018          1.80      25108.84  3170.73  3086.95   \n",
       "5406          10  1/14/2018          1.82      20964.96  3966.90  4441.29   \n",
       "5407          11   1/7/2018          1.59      27296.20  3740.22  6593.66   \n",
       "\n",
       "       4770  Total Bags  Small Bags  Large Bags  XLarge Bags     type  year  \\\n",
       "5403   0.00    27834.93     1185.52    26586.83        62.58  organic  2018   \n",
       "5404   0.00    16471.55     1006.14    15459.73         5.68  organic  2018   \n",
       "5405  10.07    18841.09     1279.19    17489.16        72.74  organic  2018   \n",
       "5406   0.00    12556.77     1364.14    11187.07         5.56  organic  2018   \n",
       "5407   0.00    16962.32     1579.33    15382.99         0.00  organic  2018   \n",
       "\n",
       "        region  elevation  \n",
       "5403  Portland  Sea Level  \n",
       "5404  Portland  Sea Level  \n",
       "5405  Portland  Sea Level  \n",
       "5406  Portland  Sea Level  \n",
       "5407  Portland  Sea Level  "
      ]
     },
     "execution_count": 359,
     "metadata": {},
     "output_type": "execute_result"
    }
   ],
   "source": [
    "avocado_elevation.tail()"
   ]
  },
  {
   "cell_type": "code",
   "execution_count": 360,
   "id": "1c933511-493a-4c6e-af64-492f0d3ca492",
   "metadata": {},
   "outputs": [
    {
     "data": {
      "text/plain": [
       "count          1014\n",
       "unique            3\n",
       "top       Nashville\n",
       "freq            338\n",
       "Name: region, dtype: object"
      ]
     },
     "execution_count": 360,
     "metadata": {},
     "output_type": "execute_result"
    }
   ],
   "source": [
    "avocado_elevation.region.describe()"
   ]
  },
  {
   "cell_type": "code",
   "execution_count": 361,
   "id": "c966585b-073e-4707-9787-b0afbd06dfcc",
   "metadata": {},
   "outputs": [
    {
     "data": {
      "text/plain": [
       "Nashville           338\n",
       "NewOrleansMobile    338\n",
       "Portland            338\n",
       "Name: region, dtype: int64"
      ]
     },
     "execution_count": 361,
     "metadata": {},
     "output_type": "execute_result"
    }
   ],
   "source": [
    "avocado_elevation.region.value_counts()"
   ]
  },
  {
   "cell_type": "markdown",
   "id": "1203e874-8d4a-4b0b-9323-c0a7c595b0e5",
   "metadata": {},
   "source": [
    "## Step Five (c) - Data Wrangling\n",
    "---\n",
    "#### recode Elevation columns"
   ]
  },
  {
   "cell_type": "code",
   "execution_count": 364,
   "id": "e5e205e1-905f-47cf-ac82-06ba53763e65",
   "metadata": {},
   "outputs": [],
   "source": [
    "def recode(series):\n",
    "    if series < 0:\n",
    "        return 0\n",
    "    if series == 'sea level':\n",
    "        return 1\n",
    "    if series > 0:\n",
    "        return 2\n",
    "\n",
    "    "
   ]
  },
  {
   "cell_type": "code",
   "execution_count": 365,
   "id": "c894422a-0d3e-42bd-9034-5282ee0a51a2",
   "metadata": {},
   "outputs": [
    {
     "data": {
      "text/html": [
       "<div>\n",
       "<style scoped>\n",
       "    .dataframe tbody tr th:only-of-type {\n",
       "        vertical-align: middle;\n",
       "    }\n",
       "\n",
       "    .dataframe tbody tr th {\n",
       "        vertical-align: top;\n",
       "    }\n",
       "\n",
       "    .dataframe thead th {\n",
       "        text-align: right;\n",
       "    }\n",
       "</style>\n",
       "<table border=\"1\" class=\"dataframe\">\n",
       "  <thead>\n",
       "    <tr style=\"text-align: right;\">\n",
       "      <th></th>\n",
       "      <th>Unnamed: 0</th>\n",
       "      <th>Date</th>\n",
       "      <th>AveragePrice</th>\n",
       "      <th>Total Volume</th>\n",
       "      <th>4046</th>\n",
       "      <th>4225</th>\n",
       "      <th>4770</th>\n",
       "      <th>Total Bags</th>\n",
       "      <th>Small Bags</th>\n",
       "      <th>Large Bags</th>\n",
       "      <th>XLarge Bags</th>\n",
       "      <th>type</th>\n",
       "      <th>year</th>\n",
       "      <th>region</th>\n",
       "      <th>elevation</th>\n",
       "    </tr>\n",
       "  </thead>\n",
       "  <tbody>\n",
       "    <tr>\n",
       "      <th>3718</th>\n",
       "      <td>0</td>\n",
       "      <td>12/27/2015</td>\n",
       "      <td>0.96</td>\n",
       "      <td>123669.89</td>\n",
       "      <td>79508.70</td>\n",
       "      <td>8706.29</td>\n",
       "      <td>4748.08</td>\n",
       "      <td>30706.82</td>\n",
       "      <td>23563.06</td>\n",
       "      <td>7140.43</td>\n",
       "      <td>3.33</td>\n",
       "      <td>conventional</td>\n",
       "      <td>2015</td>\n",
       "      <td>Nashville</td>\n",
       "      <td>385</td>\n",
       "    </tr>\n",
       "    <tr>\n",
       "      <th>3719</th>\n",
       "      <td>1</td>\n",
       "      <td>12/20/2015</td>\n",
       "      <td>0.99</td>\n",
       "      <td>127373.56</td>\n",
       "      <td>87309.07</td>\n",
       "      <td>7415.81</td>\n",
       "      <td>4356.81</td>\n",
       "      <td>28291.87</td>\n",
       "      <td>23562.10</td>\n",
       "      <td>4722.17</td>\n",
       "      <td>7.60</td>\n",
       "      <td>conventional</td>\n",
       "      <td>2015</td>\n",
       "      <td>Nashville</td>\n",
       "      <td>385</td>\n",
       "    </tr>\n",
       "    <tr>\n",
       "      <th>3720</th>\n",
       "      <td>2</td>\n",
       "      <td>12/13/2015</td>\n",
       "      <td>0.91</td>\n",
       "      <td>153425.94</td>\n",
       "      <td>103097.40</td>\n",
       "      <td>11175.45</td>\n",
       "      <td>6145.91</td>\n",
       "      <td>33007.18</td>\n",
       "      <td>23065.69</td>\n",
       "      <td>9806.94</td>\n",
       "      <td>134.55</td>\n",
       "      <td>conventional</td>\n",
       "      <td>2015</td>\n",
       "      <td>Nashville</td>\n",
       "      <td>385</td>\n",
       "    </tr>\n",
       "    <tr>\n",
       "      <th>3721</th>\n",
       "      <td>3</td>\n",
       "      <td>12/6/2015</td>\n",
       "      <td>1.00</td>\n",
       "      <td>130989.23</td>\n",
       "      <td>88033.66</td>\n",
       "      <td>9655.78</td>\n",
       "      <td>5447.67</td>\n",
       "      <td>27852.12</td>\n",
       "      <td>22956.94</td>\n",
       "      <td>4797.18</td>\n",
       "      <td>98.00</td>\n",
       "      <td>conventional</td>\n",
       "      <td>2015</td>\n",
       "      <td>Nashville</td>\n",
       "      <td>385</td>\n",
       "    </tr>\n",
       "    <tr>\n",
       "      <th>3722</th>\n",
       "      <td>4</td>\n",
       "      <td>11/29/2015</td>\n",
       "      <td>0.95</td>\n",
       "      <td>119919.67</td>\n",
       "      <td>77155.36</td>\n",
       "      <td>9407.46</td>\n",
       "      <td>5435.02</td>\n",
       "      <td>27921.83</td>\n",
       "      <td>20470.74</td>\n",
       "      <td>7440.75</td>\n",
       "      <td>10.34</td>\n",
       "      <td>conventional</td>\n",
       "      <td>2015</td>\n",
       "      <td>Nashville</td>\n",
       "      <td>385</td>\n",
       "    </tr>\n",
       "  </tbody>\n",
       "</table>\n",
       "</div>"
      ],
      "text/plain": [
       "      Unnamed: 0        Date  AveragePrice  Total Volume       4046      4225  \\\n",
       "3718           0  12/27/2015          0.96     123669.89   79508.70   8706.29   \n",
       "3719           1  12/20/2015          0.99     127373.56   87309.07   7415.81   \n",
       "3720           2  12/13/2015          0.91     153425.94  103097.40  11175.45   \n",
       "3721           3   12/6/2015          1.00     130989.23   88033.66   9655.78   \n",
       "3722           4  11/29/2015          0.95     119919.67   77155.36   9407.46   \n",
       "\n",
       "         4770  Total Bags  Small Bags  Large Bags  XLarge Bags          type  \\\n",
       "3718  4748.08    30706.82    23563.06     7140.43         3.33  conventional   \n",
       "3719  4356.81    28291.87    23562.10     4722.17         7.60  conventional   \n",
       "3720  6145.91    33007.18    23065.69     9806.94       134.55  conventional   \n",
       "3721  5447.67    27852.12    22956.94     4797.18        98.00  conventional   \n",
       "3722  5435.02    27921.83    20470.74     7440.75        10.34  conventional   \n",
       "\n",
       "      year     region elevation  \n",
       "3718  2015  Nashville       385  \n",
       "3719  2015  Nashville       385  \n",
       "3720  2015  Nashville       385  \n",
       "3721  2015  Nashville       385  \n",
       "3722  2015  Nashville       385  "
      ]
     },
     "execution_count": 365,
     "metadata": {},
     "output_type": "execute_result"
    }
   ],
   "source": [
    "avocado_elevation.head()"
   ]
  },
  {
   "cell_type": "code",
   "execution_count": 369,
   "id": "dc57bdbc-8f6b-435b-90eb-b3d28d16987f",
   "metadata": {},
   "outputs": [],
   "source": [
    "def recode(series):\n",
    "    if series == 'Nashville':\n",
    "        return 1\n",
    "    if series == 'NewOrleansMobile':\n",
    "        return 2\n",
    "    if series == 'Portland':\n",
    "        return 3\n",
    "    \n",
    "avocado_elevation['regionR'] = avocado_elevation['region'].apply(recode)"
   ]
  },
  {
   "cell_type": "code",
   "execution_count": 370,
   "id": "c8211a44-6517-44f0-bd85-57749edda73c",
   "metadata": {},
   "outputs": [
    {
     "data": {
      "text/html": [
       "<div>\n",
       "<style scoped>\n",
       "    .dataframe tbody tr th:only-of-type {\n",
       "        vertical-align: middle;\n",
       "    }\n",
       "\n",
       "    .dataframe tbody tr th {\n",
       "        vertical-align: top;\n",
       "    }\n",
       "\n",
       "    .dataframe thead th {\n",
       "        text-align: right;\n",
       "    }\n",
       "</style>\n",
       "<table border=\"1\" class=\"dataframe\">\n",
       "  <thead>\n",
       "    <tr style=\"text-align: right;\">\n",
       "      <th></th>\n",
       "      <th>Unnamed: 0</th>\n",
       "      <th>Date</th>\n",
       "      <th>AveragePrice</th>\n",
       "      <th>Total Volume</th>\n",
       "      <th>4046</th>\n",
       "      <th>4225</th>\n",
       "      <th>4770</th>\n",
       "      <th>Total Bags</th>\n",
       "      <th>Small Bags</th>\n",
       "      <th>Large Bags</th>\n",
       "      <th>XLarge Bags</th>\n",
       "      <th>type</th>\n",
       "      <th>year</th>\n",
       "      <th>region</th>\n",
       "      <th>elevation</th>\n",
       "      <th>regionR</th>\n",
       "    </tr>\n",
       "  </thead>\n",
       "  <tbody>\n",
       "    <tr>\n",
       "      <th>3718</th>\n",
       "      <td>0</td>\n",
       "      <td>12/27/2015</td>\n",
       "      <td>0.96</td>\n",
       "      <td>123669.89</td>\n",
       "      <td>79508.70</td>\n",
       "      <td>8706.29</td>\n",
       "      <td>4748.08</td>\n",
       "      <td>30706.82</td>\n",
       "      <td>23563.06</td>\n",
       "      <td>7140.43</td>\n",
       "      <td>3.33</td>\n",
       "      <td>conventional</td>\n",
       "      <td>2015</td>\n",
       "      <td>Nashville</td>\n",
       "      <td>385</td>\n",
       "      <td>1</td>\n",
       "    </tr>\n",
       "    <tr>\n",
       "      <th>3719</th>\n",
       "      <td>1</td>\n",
       "      <td>12/20/2015</td>\n",
       "      <td>0.99</td>\n",
       "      <td>127373.56</td>\n",
       "      <td>87309.07</td>\n",
       "      <td>7415.81</td>\n",
       "      <td>4356.81</td>\n",
       "      <td>28291.87</td>\n",
       "      <td>23562.10</td>\n",
       "      <td>4722.17</td>\n",
       "      <td>7.60</td>\n",
       "      <td>conventional</td>\n",
       "      <td>2015</td>\n",
       "      <td>Nashville</td>\n",
       "      <td>385</td>\n",
       "      <td>1</td>\n",
       "    </tr>\n",
       "    <tr>\n",
       "      <th>3720</th>\n",
       "      <td>2</td>\n",
       "      <td>12/13/2015</td>\n",
       "      <td>0.91</td>\n",
       "      <td>153425.94</td>\n",
       "      <td>103097.40</td>\n",
       "      <td>11175.45</td>\n",
       "      <td>6145.91</td>\n",
       "      <td>33007.18</td>\n",
       "      <td>23065.69</td>\n",
       "      <td>9806.94</td>\n",
       "      <td>134.55</td>\n",
       "      <td>conventional</td>\n",
       "      <td>2015</td>\n",
       "      <td>Nashville</td>\n",
       "      <td>385</td>\n",
       "      <td>1</td>\n",
       "    </tr>\n",
       "    <tr>\n",
       "      <th>3721</th>\n",
       "      <td>3</td>\n",
       "      <td>12/6/2015</td>\n",
       "      <td>1.00</td>\n",
       "      <td>130989.23</td>\n",
       "      <td>88033.66</td>\n",
       "      <td>9655.78</td>\n",
       "      <td>5447.67</td>\n",
       "      <td>27852.12</td>\n",
       "      <td>22956.94</td>\n",
       "      <td>4797.18</td>\n",
       "      <td>98.00</td>\n",
       "      <td>conventional</td>\n",
       "      <td>2015</td>\n",
       "      <td>Nashville</td>\n",
       "      <td>385</td>\n",
       "      <td>1</td>\n",
       "    </tr>\n",
       "    <tr>\n",
       "      <th>3722</th>\n",
       "      <td>4</td>\n",
       "      <td>11/29/2015</td>\n",
       "      <td>0.95</td>\n",
       "      <td>119919.67</td>\n",
       "      <td>77155.36</td>\n",
       "      <td>9407.46</td>\n",
       "      <td>5435.02</td>\n",
       "      <td>27921.83</td>\n",
       "      <td>20470.74</td>\n",
       "      <td>7440.75</td>\n",
       "      <td>10.34</td>\n",
       "      <td>conventional</td>\n",
       "      <td>2015</td>\n",
       "      <td>Nashville</td>\n",
       "      <td>385</td>\n",
       "      <td>1</td>\n",
       "    </tr>\n",
       "  </tbody>\n",
       "</table>\n",
       "</div>"
      ],
      "text/plain": [
       "      Unnamed: 0        Date  AveragePrice  Total Volume       4046      4225  \\\n",
       "3718           0  12/27/2015          0.96     123669.89   79508.70   8706.29   \n",
       "3719           1  12/20/2015          0.99     127373.56   87309.07   7415.81   \n",
       "3720           2  12/13/2015          0.91     153425.94  103097.40  11175.45   \n",
       "3721           3   12/6/2015          1.00     130989.23   88033.66   9655.78   \n",
       "3722           4  11/29/2015          0.95     119919.67   77155.36   9407.46   \n",
       "\n",
       "         4770  Total Bags  Small Bags  Large Bags  XLarge Bags          type  \\\n",
       "3718  4748.08    30706.82    23563.06     7140.43         3.33  conventional   \n",
       "3719  4356.81    28291.87    23562.10     4722.17         7.60  conventional   \n",
       "3720  6145.91    33007.18    23065.69     9806.94       134.55  conventional   \n",
       "3721  5447.67    27852.12    22956.94     4797.18        98.00  conventional   \n",
       "3722  5435.02    27921.83    20470.74     7440.75        10.34  conventional   \n",
       "\n",
       "      year     region elevation  regionR  \n",
       "3718  2015  Nashville       385        1  \n",
       "3719  2015  Nashville       385        1  \n",
       "3720  2015  Nashville       385        1  \n",
       "3721  2015  Nashville       385        1  \n",
       "3722  2015  Nashville       385        1  "
      ]
     },
     "execution_count": 370,
     "metadata": {},
     "output_type": "execute_result"
    }
   ],
   "source": [
    "avocado_elevation.head()"
   ]
  },
  {
   "cell_type": "code",
   "execution_count": 371,
   "id": "c815f371-ad1d-4ebc-9222-0f64d28baa29",
   "metadata": {},
   "outputs": [
    {
     "data": {
      "text/plain": [
       "array([1, 2, 3], dtype=int64)"
      ]
     },
     "execution_count": 371,
     "metadata": {},
     "output_type": "execute_result"
    }
   ],
   "source": [
    "avocado_elevation.regionR.unique()"
   ]
  },
  {
   "cell_type": "code",
   "execution_count": 372,
   "id": "778cb169-4d90-4a1b-97ed-6d37027da3bb",
   "metadata": {},
   "outputs": [
    {
     "data": {
      "text/plain": [
       "1    338\n",
       "2    338\n",
       "3    338\n",
       "Name: regionR, dtype: int64"
      ]
     },
     "execution_count": 372,
     "metadata": {},
     "output_type": "execute_result"
    }
   ],
   "source": [
    "avocado_elevation.regionR.value_counts()"
   ]
  },
  {
   "cell_type": "code",
   "execution_count": 373,
   "id": "af0b9531-720a-4a30-b146-6fd8ec0fbc81",
   "metadata": {},
   "outputs": [
    {
     "data": {
      "text/html": [
       "<div>\n",
       "<style scoped>\n",
       "    .dataframe tbody tr th:only-of-type {\n",
       "        vertical-align: middle;\n",
       "    }\n",
       "\n",
       "    .dataframe tbody tr th {\n",
       "        vertical-align: top;\n",
       "    }\n",
       "\n",
       "    .dataframe thead th {\n",
       "        text-align: right;\n",
       "    }\n",
       "</style>\n",
       "<table border=\"1\" class=\"dataframe\">\n",
       "  <thead>\n",
       "    <tr style=\"text-align: right;\">\n",
       "      <th></th>\n",
       "      <th>Unnamed: 0</th>\n",
       "      <th>Date</th>\n",
       "      <th>AveragePrice</th>\n",
       "      <th>Total Volume</th>\n",
       "      <th>4046</th>\n",
       "      <th>4225</th>\n",
       "      <th>4770</th>\n",
       "      <th>Total Bags</th>\n",
       "      <th>Small Bags</th>\n",
       "      <th>Large Bags</th>\n",
       "      <th>XLarge Bags</th>\n",
       "      <th>type</th>\n",
       "      <th>year</th>\n",
       "      <th>region</th>\n",
       "      <th>elevation</th>\n",
       "      <th>regionR</th>\n",
       "    </tr>\n",
       "  </thead>\n",
       "  <tbody>\n",
       "    <tr>\n",
       "      <th>3718</th>\n",
       "      <td>0</td>\n",
       "      <td>12/27/2015</td>\n",
       "      <td>0.96</td>\n",
       "      <td>123669.89</td>\n",
       "      <td>79508.70</td>\n",
       "      <td>8706.29</td>\n",
       "      <td>4748.08</td>\n",
       "      <td>30706.82</td>\n",
       "      <td>23563.06</td>\n",
       "      <td>7140.43</td>\n",
       "      <td>3.33</td>\n",
       "      <td>conventional</td>\n",
       "      <td>2015</td>\n",
       "      <td>Nashville</td>\n",
       "      <td>385</td>\n",
       "      <td>1</td>\n",
       "    </tr>\n",
       "    <tr>\n",
       "      <th>3719</th>\n",
       "      <td>1</td>\n",
       "      <td>12/20/2015</td>\n",
       "      <td>0.99</td>\n",
       "      <td>127373.56</td>\n",
       "      <td>87309.07</td>\n",
       "      <td>7415.81</td>\n",
       "      <td>4356.81</td>\n",
       "      <td>28291.87</td>\n",
       "      <td>23562.10</td>\n",
       "      <td>4722.17</td>\n",
       "      <td>7.60</td>\n",
       "      <td>conventional</td>\n",
       "      <td>2015</td>\n",
       "      <td>Nashville</td>\n",
       "      <td>385</td>\n",
       "      <td>1</td>\n",
       "    </tr>\n",
       "    <tr>\n",
       "      <th>3720</th>\n",
       "      <td>2</td>\n",
       "      <td>12/13/2015</td>\n",
       "      <td>0.91</td>\n",
       "      <td>153425.94</td>\n",
       "      <td>103097.40</td>\n",
       "      <td>11175.45</td>\n",
       "      <td>6145.91</td>\n",
       "      <td>33007.18</td>\n",
       "      <td>23065.69</td>\n",
       "      <td>9806.94</td>\n",
       "      <td>134.55</td>\n",
       "      <td>conventional</td>\n",
       "      <td>2015</td>\n",
       "      <td>Nashville</td>\n",
       "      <td>385</td>\n",
       "      <td>1</td>\n",
       "    </tr>\n",
       "    <tr>\n",
       "      <th>3721</th>\n",
       "      <td>3</td>\n",
       "      <td>12/6/2015</td>\n",
       "      <td>1.00</td>\n",
       "      <td>130989.23</td>\n",
       "      <td>88033.66</td>\n",
       "      <td>9655.78</td>\n",
       "      <td>5447.67</td>\n",
       "      <td>27852.12</td>\n",
       "      <td>22956.94</td>\n",
       "      <td>4797.18</td>\n",
       "      <td>98.00</td>\n",
       "      <td>conventional</td>\n",
       "      <td>2015</td>\n",
       "      <td>Nashville</td>\n",
       "      <td>385</td>\n",
       "      <td>1</td>\n",
       "    </tr>\n",
       "    <tr>\n",
       "      <th>3722</th>\n",
       "      <td>4</td>\n",
       "      <td>11/29/2015</td>\n",
       "      <td>0.95</td>\n",
       "      <td>119919.67</td>\n",
       "      <td>77155.36</td>\n",
       "      <td>9407.46</td>\n",
       "      <td>5435.02</td>\n",
       "      <td>27921.83</td>\n",
       "      <td>20470.74</td>\n",
       "      <td>7440.75</td>\n",
       "      <td>10.34</td>\n",
       "      <td>conventional</td>\n",
       "      <td>2015</td>\n",
       "      <td>Nashville</td>\n",
       "      <td>385</td>\n",
       "      <td>1</td>\n",
       "    </tr>\n",
       "  </tbody>\n",
       "</table>\n",
       "</div>"
      ],
      "text/plain": [
       "      Unnamed: 0        Date  AveragePrice  Total Volume       4046      4225  \\\n",
       "3718           0  12/27/2015          0.96     123669.89   79508.70   8706.29   \n",
       "3719           1  12/20/2015          0.99     127373.56   87309.07   7415.81   \n",
       "3720           2  12/13/2015          0.91     153425.94  103097.40  11175.45   \n",
       "3721           3   12/6/2015          1.00     130989.23   88033.66   9655.78   \n",
       "3722           4  11/29/2015          0.95     119919.67   77155.36   9407.46   \n",
       "\n",
       "         4770  Total Bags  Small Bags  Large Bags  XLarge Bags          type  \\\n",
       "3718  4748.08    30706.82    23563.06     7140.43         3.33  conventional   \n",
       "3719  4356.81    28291.87    23562.10     4722.17         7.60  conventional   \n",
       "3720  6145.91    33007.18    23065.69     9806.94       134.55  conventional   \n",
       "3721  5447.67    27852.12    22956.94     4797.18        98.00  conventional   \n",
       "3722  5435.02    27921.83    20470.74     7440.75        10.34  conventional   \n",
       "\n",
       "      year     region elevation  regionR  \n",
       "3718  2015  Nashville       385        1  \n",
       "3719  2015  Nashville       385        1  \n",
       "3720  2015  Nashville       385        1  \n",
       "3721  2015  Nashville       385        1  \n",
       "3722  2015  Nashville       385        1  "
      ]
     },
     "execution_count": 373,
     "metadata": {},
     "output_type": "execute_result"
    }
   ],
   "source": [
    "avocado_elevation.head()"
   ]
  },
  {
   "cell_type": "markdown",
   "id": "79138d38-a39e-4116-8446-f4ad0464e6b4",
   "metadata": {},
   "source": [
    "## Step Six d Independent Chi square\n",
    "---\n",
    "#### Test for assumptions\n",
    "\n",
    "-Check for independence\n",
    "\n",
    "-Check for sample size\n",
    "\n",
    "-Check for expected cell count\n",
    "\n",
    "-Check the level of measurement "
   ]
  },
  {
   "cell_type": "markdown",
   "id": "a7d3a004-4ab2-4495-9c5c-1a05959b472e",
   "metadata": {},
   "source": [
    "### Check for independence:"
   ]
  },
  {
   "cell_type": "code",
   "execution_count": 389,
   "id": "6669378e-3c8c-404b-8fee-a79de26fcb58",
   "metadata": {},
   "outputs": [],
   "source": [
    "# Create a contingency table\n",
    "table = pd.crosstab(avocado_elevation['region'], avocado_elevation['Total Bags'])"
   ]
  },
  {
   "cell_type": "code",
   "execution_count": 382,
   "id": "290ffec6-0def-46dc-b1b2-5bbd53d8b56d",
   "metadata": {},
   "outputs": [
    {
     "data": {
      "text/plain": [
       "<Axes: xlabel='Total Bags', ylabel='region'>"
      ]
     },
     "execution_count": 382,
     "metadata": {},
     "output_type": "execute_result"
    },
    {
     "data": {
      "image/png": "[encoded data removed]",
      "text/plain": [
       "<Figure size 640x480 with 2 Axes>"
      ]
     },
     "metadata": {},
     "output_type": "display_data"
    }
   ],
   "source": [
    "# Visualize the contingency table\n",
    "sns.heatmap(table, cmap='Greens', annot=True, fmt='d')"
   ]
  },
  {
   "cell_type": "code",
   "execution_count": 383,
   "id": "257cf729-1797-49d4-93e3-7786fb9e55e7",
   "metadata": {},
   "outputs": [
    {
     "name": "stdout",
     "output_type": "stream",
     "text": [
      "Chi-square test statistic: 2028.0000000000005\n",
      "P-value: 0.4832966473545084\n"
     ]
    }
   ],
   "source": [
    "# Perform a chi-square test\n",
    "chi2, p, dof, expected = chi2_contingency(table)\n",
    "print('Chi-square test statistic:', chi2)\n",
    "print('P-value:', p)"
   ]
  },
  {
   "cell_type": "code",
   "execution_count": 407,
   "id": "e6ca213f-2ebd-409a-a9c0-3c4e968fe577",
   "metadata": {},
   "outputs": [],
   "source": [
    "#p-value of 0.483 suggests that there is not enough evidence to reject the null hypothesis and there is no significant association between 2 variables being tested\n"
   ]
  },
  {
   "cell_type": "markdown",
   "id": "452f539a-6dcd-4239-8424-61572616df5a",
   "metadata": {},
   "source": [
    "### Check for sample size:"
   ]
  },
  {
   "cell_type": "code",
   "execution_count": 386,
   "id": "abe461e7-f1e3-40f6-a19b-ebff964ca63b",
   "metadata": {},
   "outputs": [
    {
     "name": "stdout",
     "output_type": "stream",
     "text": [
      "Nashville           338\n",
      "NewOrleansMobile    338\n",
      "Portland            338\n",
      "Name: region, dtype: int64\n"
     ]
    }
   ],
   "source": [
    "counts = avocado_elevation['region'].value_counts()\n",
    "print(counts)"
   ]
  },
  {
   "cell_type": "markdown",
   "id": "dc65fb5c-975c-443d-bd1e-edc3833d0465",
   "metadata": {},
   "source": [
    "### Check for expected cell count:"
   ]
  },
  {
   "cell_type": "code",
   "execution_count": 388,
   "id": "87e52f0e-7243-4e0e-89db-b5763a5b9d58",
   "metadata": {},
   "outputs": [
    {
     "name": "stdout",
     "output_type": "stream",
     "text": [
      "Expected cell counts:\n",
      "[[0.33333333 0.33333333 0.33333333 ... 0.33333333 0.33333333 0.33333333]\n",
      " [0.33333333 0.33333333 0.33333333 ... 0.33333333 0.33333333 0.33333333]\n",
      " [0.33333333 0.33333333 0.33333333 ... 0.33333333 0.33333333 0.33333333]]\n"
     ]
    }
   ],
   "source": [
    "# Create a contingency table\n",
    "table2 = pd.crosstab(avocado_elevation['region'], avocado_elevation['Total Bags'])\n",
    "\n",
    "# Perform a chi-square test and calculate the expected cell counts\n",
    "chi2, p, dof, expected = chi2_contingency(table2)\n",
    "print('Expected cell counts:')\n",
    "print(expected)"
   ]
  },
  {
   "cell_type": "markdown",
   "id": "321a82b8-69da-4073-b911-0aa6538994f6",
   "metadata": {},
   "source": [
    "### Check the level of measurement"
   ]
  },
  {
   "cell_type": "code",
   "execution_count": 384,
   "id": "80d9e542-f555-4abd-aca7-f5f87a180aa7",
   "metadata": {},
   "outputs": [
    {
     "name": "stdout",
     "output_type": "stream",
     "text": [
      "Unnamed: 0        int64\n",
      "Date             object\n",
      "AveragePrice    float64\n",
      "Total Volume    float64\n",
      "4046            float64\n",
      "4225            float64\n",
      "4770            float64\n",
      "Total Bags      float64\n",
      "Small Bags      float64\n",
      "Large Bags      float64\n",
      "XLarge Bags     float64\n",
      "type             object\n",
      "year              int64\n",
      "region           object\n",
      "elevation        object\n",
      "regionR           int64\n",
      "dtype: object\n"
     ]
    }
   ],
   "source": [
    "print(avocado_elevation.dtypes)"
   ]
  },
  {
   "cell_type": "markdown",
   "id": "196535a8-94f1-423c-b9af-dcafd1c06f75",
   "metadata": {},
   "source": [
    "### Post-Hoc"
   ]
  },
  {
   "cell_type": "code",
   "execution_count": 397,
   "id": "359a4900-8921-4114-acc1-2a31ee4d9266",
   "metadata": {},
   "outputs": [
    {
     "name": "stdout",
     "output_type": "stream",
     "text": [
      "                Multiple Comparison of Means - Tukey HSD, FWER=0.05                \n",
      "===================================================================================\n",
      "     group1           group2        meandiff  p-adj     lower       upper    reject\n",
      "-----------------------------------------------------------------------------------\n",
      "       Nashville NewOrleansMobile   3851.4027 0.8814 -15034.2933  22737.0986  False\n",
      "       Nashville         Portland 108098.2043    0.0  89212.5084 126983.9003   True\n",
      "NewOrleansMobile         Portland 104246.8017    0.0  85361.1057 123132.4976   True\n",
      "-----------------------------------------------------------------------------------\n",
      "Chi-square test statistic: 2028.0000000000005\n",
      "P-value: 0.4832966473545084\n",
      "Post-hoc results:\n"
     ]
    }
   ],
   "source": [
    "# Perform a post-hoc analysis\n",
    "postHocResults_ele = MultiComparison(avocado_elevation[\"Total Bags\"], avocado_elevation[\"region\"]).tukeyhsd()\n",
    "print(postHocResults_ele)\n",
    "\n",
    "# Print the results\n",
    "print('Chi-square test statistic:', chi2)\n",
    "print('P-value:', p)\n",
    "print('Post-hoc results:')\n"
   ]
  },
  {
   "cell_type": "code",
   "execution_count": 408,
   "id": "fff80d2f-acdd-45ad-aab9-885da79d32eb",
   "metadata": {},
   "outputs": [],
   "source": [
    "#The results show that the mean difference between Nashville and NewOrleansMobile is not significant, but both Nashville and NewOrleansMobile have significantly different means when compared to Portland. \n"
   ]
  },
  {
   "cell_type": "code",
   "execution_count": null,
   "id": "07dea1b3-42c4-4e83-a98d-04060a49451d",
   "metadata": {},
   "outputs": [],
   "source": []
  }
 ],
 "metadata": {
  "kernelspec": {
   "display_name": "Python 3 (ipykernel)",
   "language": "python",
   "name": "python3"
  },
  "language_info": {
   "codemirror_mode": {
    "name": "ipython",
    "version": 3
   },
   "file_extension": ".py",
   "mimetype": "text/x-python",
   "name": "python",
   "nbconvert_exporter": "python",
   "pygments_lexer": "ipython3",
   "version": "3.11.0"
  }
 },
 "nbformat": 4,
 "nbformat_minor": 5
}
